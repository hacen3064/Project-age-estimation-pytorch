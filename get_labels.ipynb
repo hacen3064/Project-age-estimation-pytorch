{
 "cells": [
  {
   "cell_type": "code",
   "execution_count": 3,
   "metadata": {},
   "outputs": [],
   "source": [
    "data_dir = '../appa-real-release'\n",
    "from dataset import FaceDataset\n",
    "from torch.utils.data import DataLoader"
   ]
  },
  {
   "cell_type": "code",
   "execution_count": 8,
   "metadata": {},
   "outputs": [],
   "source": [
    "img_size = 256\n",
    "age_stddev = 1.0\n",
    "batch_size = 3\n",
    "\n",
    "train_dataset = FaceDataset(data_dir, \"train\", img_size=img_size, augment=True, age_stddev=age_stddev)\n",
    "train_loader = DataLoader(train_dataset, batch_size=batch_size, shuffle=True, drop_last=True)"
   ]
  },
  {
   "cell_type": "code",
   "execution_count": 9,
   "metadata": {},
   "outputs": [
    {
     "data": {
      "text/plain": [
       "tensor([ 1, 58, 21], dtype=torch.int32)"
      ]
     },
     "execution_count": 9,
     "metadata": {},
     "output_type": "execute_result"
    }
   ],
   "source": [
    "x, y = next(iter(train_loader))\n",
    "y"
   ]
  },
  {
   "cell_type": "code",
   "execution_count": 1,
   "metadata": {},
   "outputs": [],
   "source": [
    "import pandas as pd"
   ]
  },
  {
   "cell_type": "code",
   "execution_count": 5,
   "metadata": {},
   "outputs": [
    {
     "data": {
      "text/plain": [
       "'../appa-real-release/allcategories_train'"
      ]
     },
     "execution_count": 5,
     "metadata": {},
     "output_type": "execute_result"
    }
   ],
   "source": [
    "data_dir + '/allcategories_train'"
   ]
  },
  {
   "cell_type": "code",
   "execution_count": 18,
   "metadata": {},
   "outputs": [],
   "source": [
    "df = pd.read_csv(data_dir + '/allcategories_train.csv', index_col=0)"
   ]
  },
  {
   "cell_type": "code",
   "execution_count": 24,
   "metadata": {},
   "outputs": [
    {
     "data": {
      "text/html": [
       "<div>\n",
       "<style scoped>\n",
       "    .dataframe tbody tr th:only-of-type {\n",
       "        vertical-align: middle;\n",
       "    }\n",
       "\n",
       "    .dataframe tbody tr th {\n",
       "        vertical-align: top;\n",
       "    }\n",
       "\n",
       "    .dataframe thead th {\n",
       "        text-align: right;\n",
       "    }\n",
       "</style>\n",
       "<table border=\"1\" class=\"dataframe\">\n",
       "  <thead>\n",
       "    <tr style=\"text-align: right;\">\n",
       "      <th></th>\n",
       "      <th>gender</th>\n",
       "      <th>race</th>\n",
       "      <th>makeup</th>\n",
       "      <th>time</th>\n",
       "      <th>happiness</th>\n",
       "    </tr>\n",
       "    <tr>\n",
       "      <th>file</th>\n",
       "      <th></th>\n",
       "      <th></th>\n",
       "      <th></th>\n",
       "      <th></th>\n",
       "      <th></th>\n",
       "    </tr>\n",
       "  </thead>\n",
       "  <tbody>\n",
       "    <tr>\n",
       "      <th>000000.jpg</th>\n",
       "      <td>male</td>\n",
       "      <td>caucasian</td>\n",
       "      <td>nomakeup</td>\n",
       "      <td>modernphoto</td>\n",
       "      <td>neutral</td>\n",
       "    </tr>\n",
       "    <tr>\n",
       "      <th>000001.jpg</th>\n",
       "      <td>female</td>\n",
       "      <td>caucasian</td>\n",
       "      <td>verysubtle</td>\n",
       "      <td>modernphoto</td>\n",
       "      <td>neutral</td>\n",
       "    </tr>\n",
       "    <tr>\n",
       "      <th>000002.jpg</th>\n",
       "      <td>female</td>\n",
       "      <td>caucasian</td>\n",
       "      <td>notclear</td>\n",
       "      <td>modernphoto</td>\n",
       "      <td>slightlyhappy</td>\n",
       "    </tr>\n",
       "    <tr>\n",
       "      <th>000003.jpg</th>\n",
       "      <td>female</td>\n",
       "      <td>caucasian</td>\n",
       "      <td>verysubtle</td>\n",
       "      <td>modernphoto</td>\n",
       "      <td>happy</td>\n",
       "    </tr>\n",
       "    <tr>\n",
       "      <th>000004.jpg</th>\n",
       "      <td>female</td>\n",
       "      <td>caucasian</td>\n",
       "      <td>makeup</td>\n",
       "      <td>modernphoto</td>\n",
       "      <td>slightlyhappy</td>\n",
       "    </tr>\n",
       "    <tr>\n",
       "      <th>...</th>\n",
       "      <td>...</td>\n",
       "      <td>...</td>\n",
       "      <td>...</td>\n",
       "      <td>...</td>\n",
       "      <td>...</td>\n",
       "    </tr>\n",
       "    <tr>\n",
       "      <th>004108.jpg</th>\n",
       "      <td>male</td>\n",
       "      <td>caucasian</td>\n",
       "      <td>nomakeup</td>\n",
       "      <td>modernphoto</td>\n",
       "      <td>happy</td>\n",
       "    </tr>\n",
       "    <tr>\n",
       "      <th>004109.jpg</th>\n",
       "      <td>male</td>\n",
       "      <td>caucasian</td>\n",
       "      <td>nomakeup</td>\n",
       "      <td>modernphoto</td>\n",
       "      <td>happy</td>\n",
       "    </tr>\n",
       "    <tr>\n",
       "      <th>004110.jpg</th>\n",
       "      <td>male</td>\n",
       "      <td>caucasian</td>\n",
       "      <td>nomakeup</td>\n",
       "      <td>modernphoto</td>\n",
       "      <td>neutral</td>\n",
       "    </tr>\n",
       "    <tr>\n",
       "      <th>004111.jpg</th>\n",
       "      <td>male</td>\n",
       "      <td>caucasian</td>\n",
       "      <td>nomakeup</td>\n",
       "      <td>modernphoto</td>\n",
       "      <td>neutral</td>\n",
       "    </tr>\n",
       "    <tr>\n",
       "      <th>004112.jpg</th>\n",
       "      <td>female</td>\n",
       "      <td>caucasian</td>\n",
       "      <td>verysubtle</td>\n",
       "      <td>modernphoto</td>\n",
       "      <td>happy</td>\n",
       "    </tr>\n",
       "  </tbody>\n",
       "</table>\n",
       "<p>4113 rows × 5 columns</p>\n",
       "</div>"
      ],
      "text/plain": [
       "            gender       race      makeup         time      happiness\n",
       "file                                                                 \n",
       "000000.jpg    male  caucasian    nomakeup  modernphoto        neutral\n",
       "000001.jpg  female  caucasian  verysubtle  modernphoto        neutral\n",
       "000002.jpg  female  caucasian    notclear  modernphoto  slightlyhappy\n",
       "000003.jpg  female  caucasian  verysubtle  modernphoto          happy\n",
       "000004.jpg  female  caucasian      makeup  modernphoto  slightlyhappy\n",
       "...            ...        ...         ...          ...            ...\n",
       "004108.jpg    male  caucasian    nomakeup  modernphoto          happy\n",
       "004109.jpg    male  caucasian    nomakeup  modernphoto          happy\n",
       "004110.jpg    male  caucasian    nomakeup  modernphoto        neutral\n",
       "004111.jpg    male  caucasian    nomakeup  modernphoto        neutral\n",
       "004112.jpg  female  caucasian  verysubtle  modernphoto          happy\n",
       "\n",
       "[4113 rows x 5 columns]"
      ]
     },
     "execution_count": 24,
     "metadata": {},
     "output_type": "execute_result"
    }
   ],
   "source": [
    "df"
   ]
  },
  {
   "cell_type": "code",
   "execution_count": 37,
   "metadata": {},
   "outputs": [
    {
     "data": {
      "text/plain": [
       "{'afroamerican', 'asian', 'caucasian'}"
      ]
     },
     "execution_count": 37,
     "metadata": {},
     "output_type": "execute_result"
    }
   ],
   "source": [
    "set(list(df['race']))"
   ]
  },
  {
   "cell_type": "code",
   "execution_count": 45,
   "metadata": {},
   "outputs": [],
   "source": [
    "encoder = {'afroamerican' : 0 , 'asian' : 1, 'caucasian' : 2}"
   ]
  },
  {
   "cell_type": "code",
   "execution_count": 47,
   "metadata": {},
   "outputs": [],
   "source": [
    "I = np.identity(3)"
   ]
  },
  {
   "cell_type": "code",
   "execution_count": 49,
   "metadata": {},
   "outputs": [
    {
     "data": {
      "text/plain": [
       "array([1., 0., 0.])"
      ]
     },
     "execution_count": 49,
     "metadata": {},
     "output_type": "execute_result"
    }
   ],
   "source": [
    "I[encoder['afroamerican']]"
   ]
  },
  {
   "cell_type": "code",
   "execution_count": null,
   "metadata": {},
   "outputs": [],
   "source": []
  }
 ],
 "metadata": {
  "interpreter": {
   "hash": "3c7ef2c668e2805e5a498f67e61304b9038d97eb0daa7a3c150f941e5d632578"
  },
  "kernelspec": {
   "display_name": "Python 3.6.8 64-bit",
   "language": "python",
   "name": "python3"
  },
  "language_info": {
   "codemirror_mode": {
    "name": "ipython",
    "version": 3
   },
   "file_extension": ".py",
   "mimetype": "text/x-python",
   "name": "python",
   "nbconvert_exporter": "python",
   "pygments_lexer": "ipython3",
   "version": "3.6.8"
  },
  "orig_nbformat": 4
 },
 "nbformat": 4,
 "nbformat_minor": 2
}
