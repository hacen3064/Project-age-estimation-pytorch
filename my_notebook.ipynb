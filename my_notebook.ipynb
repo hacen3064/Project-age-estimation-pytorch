{
 "cells": [
  {
   "cell_type": "code",
   "execution_count": 1,
   "id": "5df9d3d0",
   "metadata": {},
   "outputs": [],
   "source": [
    "from pathlib import Path\n",
    "import torch\n",
    "import torch.nn as nn\n",
    "import torch.nn.parallel\n",
    "import torch.optim\n",
    "from torch.optim.lr_scheduler import StepLR\n",
    "import torch.utils.data\n",
    "from torch.utils.data import DataLoader\n",
    "from torch.utils.tensorboard import SummaryWriter\n",
    "import pretrainedmodels\n",
    "import pretrainedmodels.utils\n",
    "from model import get_model, get_vgg\n",
    "from dataset import FaceDataset\n",
    "from train import train, validate"
   ]
  },
  {
   "cell_type": "markdown",
   "id": "25d56d65",
   "metadata": {},
   "source": [
    "Change data_dir to the direction of the 'appa-real-release' dataset\n",
    "\n",
    "Download with cmd:\n",
    "\n",
    "wget http://158.109.8.102/AppaRealAge/appa-real-release.zip\n",
    "\n",
    "unzip appa-real-release.zip"
   ]
  },
  {
   "cell_type": "code",
   "execution_count": 2,
   "id": "ecb2a3f2",
   "metadata": {},
   "outputs": [],
   "source": [
    "data_dir = '../appa-real-release'"
   ]
  },
  {
   "cell_type": "code",
   "execution_count": 3,
   "id": "718e189b",
   "metadata": {},
   "outputs": [
    {
     "name": "stderr",
     "output_type": "stream",
     "text": [
      "Downloading: \"https://download.pytorch.org/models/vgg16_bn-6c64b313.pth\" to C:\\Users\\Moustapha/.cache\\torch\\hub\\checkpoints\\vgg16_bn-6c64b313.pth\n",
      "100%|██████████| 528M/528M [18:53<00:00, 488kB/s] \n"
     ]
    }
   ],
   "source": [
    "model = get_vgg()\n",
    "data_dir = 'appa-real-release'\n",
    "model = get_model()\n",
    "start_epoch = 0\n",
    "checkpoint_dir = Path('checkpoint')\n",
    "checkpoint_dir.mkdir(parents=True, exist_ok=True)\n",
    "resume_path = None\n",
    "tensorboard_dir = \"t_log\"\n",
    "opts = []\n",
    "multi_gpu = False\n",
    "\n",
    "\n",
    "img_size = 224\n",
    "age_stddev = 1.0\n",
    "batch_size = 128\n",
    "learning_rate = 1e-3\n",
    "step_size = 20\n",
    "decay_rate = 0.2\n",
    "num_epochs = 80 #80"
   ]
  },
  {
   "cell_type": "code",
   "execution_count": 3,
   "execution_count": 4,
   "id": "17e170aa",
   "metadata": {},
   "outputs": [],
   "source": [
    "train_dataset = FaceDataset(data_dir, \"train\", img_size=img_size, augment=True, age_stddev=age_stddev)\n",
    "train_loader = DataLoader(train_dataset, batch_size=batch_size, shuffle=True, drop_last=True)\n",
    "\n",
    "val_dataset = FaceDataset(data_dir, \"valid\", img_size=img_size, augment=False)\n",
    "val_loader = DataLoader(val_dataset, batch_size=batch_size, shuffle=False, drop_last=False)\n",
    "\n",
    "\n",
    "optimizer = torch.optim.Adam(model.parameters(), lr=learning_rate)\n",
    "device = \"cpu\"\n",
    "model = model.to(device)\n",
    "criterion = nn.L1Loss().to(device)\n",
    "\n",
    "if resume_path:\n",
    "    if Path(resume_path).is_file():\n",
    "        print(\"=> loading checkpoint '{}'\".format(resume_path))\n",
    "        checkpoint = torch.load(resume_path, map_location=\"cpu\")\n",
    "        start_epoch = checkpoint['epoch']\n",
    "        model.load_state_dict(checkpoint['state_dict'])\n",
    "        print(\"=> loaded checkpoint '{}' (epoch {})\"\n",
    "              .format(resume_path, checkpoint['epoch']))\n",
    "        optimizer.load_state_dict(checkpoint['optimizer_state_dict'])\n",
    "    else:\n",
    "        print(\"=> no checkpoint found at '{}'\".format(resume_path))\n",
    "        \n",
    "\n",
    "scheduler = StepLR(optimizer, step_size=step_size, gamma=decay_rate, last_epoch=start_epoch - 1)\n",
    "best_val_mae = 10000.0\n",
    "train_writer = None\n",
    "\n",
    "if tensorboard_dir is not None:\n",
    "    opts_prefix = \"_\".join(opts)\n",
    "    train_writer = SummaryWriter(log_dir=tensorboard_dir + \"/\" + opts_prefix + \"_train\")\n",
    "    val_writer = SummaryWriter(log_dir=tensorboard_dir + \"/\" + opts_prefix + \"_val\")"
   ]
  },
  {
   "cell_type": "markdown",
   "id": "e2c389bc",
   "metadata": {},
   "source": [
    "# Training loop"
   ]
  },
  {
   "cell_type": "code",
   "execution_count": 4,
   "id": "5f0ae462",
   "metadata": {},
   "outputs": [
    {
     "name": "stderr",
     "output_type": "stream",
     "text": [
      "100%|██████████| 31/31 [1:00:01<00:00, 116.17s/it, stage=train, epoch=0, loss=0.0983, acc=0, correct=0, sample_num=128]\n",
      "100%|██████████| 12/12 [04:17<00:00, 21.46s/it, stage=val, epoch=0, loss=0.0919, acc=0.00333, correct=1, sample_num=92] \n"
     ]
    },
    {
     "name": "stdout",
     "output_type": "stream",
     "text": [
      "=> [epoch 000] best val mae was improved from 10000.000 to 11.524\n"
     ]
    },
    {
     "name": "stderr",
     "output_type": "stream",
     "text": [
      " 19%|█▉        | 6/31 [10:07<42:16, 101.45s/it, stage=train, epoch=1, loss=0.0891, acc=0, correct=0, sample_num=128]"
     ]
    }
   ],
   "source": [
    "for epoch in range(start_epoch, num_epochs):\n",
    "    # train\n",
    "    train_loss, train_acc = train(train_loader, model, criterion, optimizer, epoch, device)\n",
    "\n",
    "    # validate\n",
    "    val_loss, val_acc, val_mae = validate(val_loader, model, criterion, epoch, device)\n",
    "\n",
    "    if tensorboard_dir is not None:\n",
    "        train_writer.add_scalar(\"loss\", train_loss, epoch)\n",
    "        train_writer.add_scalar(\"acc\", train_acc, epoch)\n",
    "        val_writer.add_scalar(\"loss\", val_loss, epoch)\n",
    "        val_writer.add_scalar(\"acc\", val_acc, epoch)\n",
    "        val_writer.add_scalar(\"mae\", val_mae, epoch)\n",
    "\n",
    "    # checkpoint\n",
    "    if val_mae < best_val_mae:\n",
    "        print(f\"=> [epoch {epoch:03d}] best val mae was improved from {best_val_mae:.3f} to {val_mae:.3f}\")\n",
    "        model_state_dict = model.module.state_dict() if multi_gpu else model.state_dict()\n",
    "        torch.save(\n",
    "            {\n",
    "                'epoch': epoch + 1,\n",
    "                'arch': \"vgg16\",\n",
    "                'state_dict': model_state_dict,\n",
    "                'optimizer_state_dict': optimizer.state_dict()\n",
    "            },\n",
    "            str(checkpoint_dir.joinpath(\"epoch{:03d}_{:.5f}_{:.4f}.pth\".format(epoch, val_loss, val_mae)))\n",
    "        )\n",
    "        best_val_mae = val_mae\n",
    "    else:\n",
    "        print(f\"=> [epoch {epoch:03d}] best val mae was not improved from {best_val_mae:.3f} ({val_mae:.3f})\")\n",
    "\n",
    "    # adjust learning rate\n",
    "    scheduler.step()\n",
    "\n",
    "print(\"=> training finished\")\n",
    "print(f\"additional opts: {opts}\")\n",
    "print(f\"best val mae: {best_val_mae:.3f}\")"
   ]
  },
  {
   "cell_type": "code",
   "execution_count": 7,
   "id": "39695fcd",
   "metadata": {},
   "outputs": [
    {
     "data": {
      "text/plain": [
       "tensor([33.], grad_fn=<MvBackward0>)"
      ]
     },
     "execution_count": 7,
     "metadata": {},
     "output_type": "execute_result"
    }
   ],
   "source": [
    "import numpy as np\n",
    "import torch.nn.functional as F \n",
    "x = np.load(\"bla.npy\")\n",
    "x = torch.from_numpy(x)\n",
    "outputs = model(x)\n",
    "classes = torch.arange(0, 101).type(torch.FloatTensor)\n",
    "outputs = F.softmax(outputs, dim=1)@classes\n",
    "outputs"
   ]
  },
  {
   "cell_type": "code",
   "execution_count": null,
   "id": "4c9215d8",
   "metadata": {},
   "outputs": [],
   "source": []
  }
 ],
 "metadata": {
  "interpreter": {
   "hash": "df5f7db2eb774c9a955ca718bbb931dbb7c24ff8ec3882208b724b027430d827"
   "hash": "3c7ef2c668e2805e5a498f67e61304b9038d97eb0daa7a3c150f941e5d632578"
  },
  "kernelspec": {
   "display_name": "Python 3",
   "language": "python",
   "name": "python3"
  },
  "language_info": {
   "codemirror_mode": {
    "name": "ipython",
    "version": 3
   },
   "file_extension": ".py",
   "mimetype": "text/x-python",
   "name": "python",
   "nbconvert_exporter": "python",
   "pygments_lexer": "ipython3",
   "version": "3.8.8"
  }
 },
 "nbformat": 4,
 "nbformat_minor": 5
}
