{
 "cells": [
  {
   "cell_type": "code",
   "execution_count": null,
   "id": "5df9d3d0",
   "metadata": {},
   "outputs": [],
   "source": [
    "from pathlib import Path\n",
    "import torch\n",
    "import torch.nn as nn\n",
    "import torch.nn.parallel\n",
    "import torch.optim\n",
    "from torch.optim.lr_scheduler import StepLR\n",
    "import torch.utils.data\n",
    "from torch.utils.data import DataLoader\n",
    "from torch.utils.tensorboard import SummaryWriter\n",
    "import pretrainedmodels\n",
    "import pretrainedmodels.utils\n",
    "from model import get_model, get_vgg\n",
    "from dataset import FaceDataset, FaceDataset_UTK\n",
    "from train import train, validate"
   ]
  },
  {
   "cell_type": "markdown",
   "id": "cf533194",
   "metadata": {},
   "source": [
    "Change data_dir to the direction of the 'appa-real-release' dataset\n",
    "\n",
    "Download with cmd:\n",
    "\n",
    "wget http://158.109.8.102/AppaRealAge/appa-real-release.zip\n",
    "\n",
    "unzip appa-real-release.zip"
   ]
  },
  {
   "cell_type": "code",
   "execution_count": 2,
   "id": "718e189b",
   "metadata": {},
   "outputs": [],
   "source": [
    "model = get_model()\n",
    "data_dir = 'appa-real-release'\n",
    "data_dir_utk = 'data_UTK'\n",
    "start_epoch = 0\n",
    "checkpoint_dir = Path('checkpoint')\n",
    "checkpoint_dir.mkdir(parents=True, exist_ok=True)\n",
    "resume_path = None\n",
    "tensorboard_dir = None\n",
    "opts = []\n",
    "multi_gpu = False\n",
    "\n",
    "\n",
    "img_size = 224\n",
    "age_stddev = 1.0\n",
    "batch_size = 20\n",
    "learning_rate = 1e-3\n",
    "step_size = 20\n",
    "decay_rate = 0.2\n",
    "num_epochs = 100\n",
    "classes = torch.arange(0, 101).type(torch.FloatTensor)"
   ]
  },
  {
   "cell_type": "code",
   "execution_count": 3,
   "id": "9176760b",
   "metadata": {},
   "outputs": [
    {
     "data": {
      "text/plain": [
       "['.badfiles.un~',\n",
       " '.clean_asdf.sh.un~',\n",
       " '.parse_labels.m.un~',\n",
       " '.README.txt.un~',\n",
       " 'gt_avg_test.csv',\n",
       " 'gt_avg_test_res.csv',\n",
       " 'gt_avg_train.csv',\n",
       " 'gt_avg_train_res.csv',\n",
       " 'gt_avg_valid.csv',\n",
       " 'gt_avg_valid_res.csv',\n",
       " 'gt_test.csv',\n",
       " 'gt_train.csv',\n",
       " 'gt_valid.csv',\n",
       " 'README.txt',\n",
       " 'test',\n",
       " 'train',\n",
       " 'valid']"
      ]
     },
     "execution_count": 3,
     "metadata": {},
     "output_type": "execute_result"
    }
   ],
   "source": [
    "import os\n",
    "os.listdir(data_dir)"
   ]
  },
  {
   "cell_type": "code",
   "execution_count": 4,
   "id": "17e170aa",
   "metadata": {},
   "outputs": [],
   "source": [
    "train_dataset = FaceDataset(data_dir, \"train\", img_size=img_size, augment=True, age_stddev=age_stddev)\n",
    "train_loader = DataLoader(train_dataset, batch_size=batch_size, shuffle=True, drop_last=True)\n",
    "\n",
    "val_dataset = FaceDataset(data_dir, \"valid\", img_size=img_size, augment=False)\n",
    "val_loader = DataLoader(val_dataset, batch_size=batch_size, shuffle=False, drop_last=False)\n",
    "\n",
    "\n",
    "optimizer = torch.optim.Adam(model.parameters(), lr=learning_rate)\n",
    "device =  \"cuda\" if torch.cuda.is_available() else \"cpu\"\n",
    "model = model.to(device)\n",
    "criterion = nn.L1Loss().to(device)\n",
    "\n",
    "if resume_path:\n",
    "    if Path(resume_path).is_file():\n",
    "        print(\"=> loading checkpoint '{}'\".format(resume_path))\n",
    "        checkpoint = torch.load(resume_path, map_location=\"cpu\")\n",
    "        start_epoch = checkpoint['epoch']\n",
    "        model.load_state_dict(checkpoint['state_dict'])\n",
    "        print(\"=> loaded checkpoint '{}' (epoch {})\"\n",
    "              .format(resume_path, checkpoint['epoch']))\n",
    "        optimizer.load_state_dict(checkpoint['optimizer_state_dict'])\n",
    "    else:\n",
    "        print(\"=> no checkpoint found at '{}'\".format(resume_path))\n",
    "\n",
    "scheduler = StepLR(optimizer, step_size=step_size, gamma=decay_rate, last_epoch=start_epoch - 1)\n",
    "best_val_mae = 10000.0\n",
    "train_writer = None\n",
    "\n",
    "if tensorboard_dir is not None:\n",
    "    opts_prefix = \"_\".join(opts)\n",
    "    train_writer = SummaryWriter(log_dir=tensorboard_dir + \"/\" + opts_prefix + \"_train\")\n",
    "    val_writer = SummaryWriter(log_dir=tensorboard_dir + \"/\" + opts_prefix + \"_val\")"
   ]
  },
  {
   "cell_type": "code",
   "execution_count": 5,
   "id": "5f0ae462",
   "metadata": {},
   "outputs": [
    {
     "data": {
      "application/vnd.jupyter.widget-view+json": {
       "model_id": "8666f63da32d4b86a1c145db082ef09c",
       "version_major": 2,
       "version_minor": 0
      },
      "text/plain": [
       "  0%|          | 0/205 [00:00<?, ?it/s]"
      ]
     },
     "metadata": {},
     "output_type": "display_data"
    },
    {
     "data": {
      "application/vnd.jupyter.widget-view+json": {
       "model_id": "e0d14392222c4ce3a862bb169273bd34",
       "version_major": 2,
       "version_minor": 0
      },
      "text/plain": [
       "  0%|          | 0/75 [00:00<?, ?it/s]"
      ]
     },
     "metadata": {},
     "output_type": "display_data"
    },
    {
     "name": "stdout",
     "output_type": "stream",
     "text": [
      "=> [epoch 000] best val mae was improved from 10000.000 to 11.432\n"
     ]
    },
    {
     "data": {
      "application/vnd.jupyter.widget-view+json": {
       "model_id": "fbf8f1f9dd93432897fa18edc1ae81b7",
       "version_major": 2,
       "version_minor": 0
      },
      "text/plain": [
       "  0%|          | 0/205 [00:00<?, ?it/s]"
      ]
     },
     "metadata": {},
     "output_type": "display_data"
    },
    {
     "data": {
      "application/vnd.jupyter.widget-view+json": {
       "model_id": "5177d5c315084ab7b2dea16e37053739",
       "version_major": 2,
       "version_minor": 0
      },
      "text/plain": [
       "  0%|          | 0/75 [00:00<?, ?it/s]"
      ]
     },
     "metadata": {},
     "output_type": "display_data"
    },
    {
     "name": "stdout",
     "output_type": "stream",
     "text": [
      "=> [epoch 001] best val mae was improved from 11.432 to 11.027\n"
     ]
    },
    {
     "data": {
      "application/vnd.jupyter.widget-view+json": {
       "model_id": "22c53158f0ff47c3aeb205c91b821501",
       "version_major": 2,
       "version_minor": 0
      },
      "text/plain": [
       "  0%|          | 0/205 [00:00<?, ?it/s]"
      ]
     },
     "metadata": {},
     "output_type": "display_data"
    },
    {
     "data": {
      "application/vnd.jupyter.widget-view+json": {
       "model_id": "c147480ab84e4886a1601b078b138931",
       "version_major": 2,
       "version_minor": 0
      },
      "text/plain": [
       "  0%|          | 0/75 [00:00<?, ?it/s]"
      ]
     },
     "metadata": {},
     "output_type": "display_data"
    },
    {
     "name": "stdout",
     "output_type": "stream",
     "text": [
      "=> [epoch 002] best val mae was improved from 11.027 to 11.026\n"
     ]
    },
    {
     "data": {
      "application/vnd.jupyter.widget-view+json": {
       "model_id": "436091cb958445518299f08ac22ff27f",
       "version_major": 2,
       "version_minor": 0
      },
      "text/plain": [
       "  0%|          | 0/205 [00:00<?, ?it/s]"
      ]
     },
     "metadata": {},
     "output_type": "display_data"
    },
    {
     "data": {
      "application/vnd.jupyter.widget-view+json": {
       "model_id": "0b0a6f2af3124f8c9479c6de250c26ef",
       "version_major": 2,
       "version_minor": 0
      },
      "text/plain": [
       "  0%|          | 0/75 [00:00<?, ?it/s]"
      ]
     },
     "metadata": {},
     "output_type": "display_data"
    },
    {
     "name": "stdout",
     "output_type": "stream",
     "text": [
      "=> [epoch 003] best val mae was improved from 11.026 to 10.616\n"
     ]
    },
    {
     "data": {
      "application/vnd.jupyter.widget-view+json": {
       "model_id": "8da129081e934e28b9fe66bdcae9a647",
       "version_major": 2,
       "version_minor": 0
      },
      "text/plain": [
       "  0%|          | 0/205 [00:00<?, ?it/s]"
      ]
     },
     "metadata": {},
     "output_type": "display_data"
    },
    {
     "data": {
      "application/vnd.jupyter.widget-view+json": {
       "model_id": "38da3120151e4081a014585eb55dd8fd",
       "version_major": 2,
       "version_minor": 0
      },
      "text/plain": [
       "  0%|          | 0/75 [00:00<?, ?it/s]"
      ]
     },
     "metadata": {},
     "output_type": "display_data"
    },
    {
     "name": "stdout",
     "output_type": "stream",
     "text": [
      "=> [epoch 004] best val mae was not improved from 10.616 (11.028)\n"
     ]
    },
    {
     "data": {
      "application/vnd.jupyter.widget-view+json": {
       "model_id": "5d91889c22e84ef495bee2a537601d2a",
       "version_major": 2,
       "version_minor": 0
      },
      "text/plain": [
       "  0%|          | 0/205 [00:00<?, ?it/s]"
      ]
     },
     "metadata": {},
     "output_type": "display_data"
    },
    {
     "data": {
      "application/vnd.jupyter.widget-view+json": {
       "model_id": "01cc0f65cf464ccb8b1e241e5fc20fa1",
       "version_major": 2,
       "version_minor": 0
      },
      "text/plain": [
       "  0%|          | 0/75 [00:00<?, ?it/s]"
      ]
     },
     "metadata": {},
     "output_type": "display_data"
    },
    {
     "name": "stdout",
     "output_type": "stream",
     "text": [
      "=> [epoch 005] best val mae was not improved from 10.616 (11.086)\n"
     ]
    },
    {
     "data": {
      "application/vnd.jupyter.widget-view+json": {
       "model_id": "3a756b7f31dc4b7ebdf5feb91c9a5a04",
       "version_major": 2,
       "version_minor": 0
      },
      "text/plain": [
       "  0%|          | 0/205 [00:00<?, ?it/s]"
      ]
     },
     "metadata": {},
     "output_type": "display_data"
    },
    {
     "data": {
      "application/vnd.jupyter.widget-view+json": {
       "model_id": "f3f1dbe2af194f0bb734b313d5d2921c",
       "version_major": 2,
       "version_minor": 0
      },
      "text/plain": [
       "  0%|          | 0/75 [00:00<?, ?it/s]"
      ]
     },
     "metadata": {},
     "output_type": "display_data"
    },
    {
     "name": "stdout",
     "output_type": "stream",
     "text": [
      "=> [epoch 006] best val mae was not improved from 10.616 (11.330)\n"
     ]
    },
    {
     "data": {
      "application/vnd.jupyter.widget-view+json": {
       "model_id": "cc176f35af07407baebaaaf0858e9bd5",
       "version_major": 2,
       "version_minor": 0
      },
      "text/plain": [
       "  0%|          | 0/205 [00:00<?, ?it/s]"
      ]
     },
     "metadata": {},
     "output_type": "display_data"
    },
    {
     "data": {
      "application/vnd.jupyter.widget-view+json": {
       "model_id": "a9c9e2babc0841c6886c19ef7ed383de",
       "version_major": 2,
       "version_minor": 0
      },
      "text/plain": [
       "  0%|          | 0/75 [00:00<?, ?it/s]"
      ]
     },
     "metadata": {},
     "output_type": "display_data"
    },
    {
     "name": "stdout",
     "output_type": "stream",
     "text": [
      "=> [epoch 007] best val mae was not improved from 10.616 (10.659)\n"
     ]
    },
    {
     "data": {
      "application/vnd.jupyter.widget-view+json": {
       "model_id": "098459d911a9434c895d2c775eca627d",
       "version_major": 2,
       "version_minor": 0
      },
      "text/plain": [
       "  0%|          | 0/205 [00:00<?, ?it/s]"
      ]
     },
     "metadata": {},
     "output_type": "display_data"
    },
    {
     "data": {
      "application/vnd.jupyter.widget-view+json": {
       "model_id": "16d89e7a69d94205af928c0ff5b55c5e",
       "version_major": 2,
       "version_minor": 0
      },
      "text/plain": [
       "  0%|          | 0/75 [00:00<?, ?it/s]"
      ]
     },
     "metadata": {},
     "output_type": "display_data"
    },
    {
     "name": "stdout",
     "output_type": "stream",
     "text": [
      "=> [epoch 008] best val mae was not improved from 10.616 (10.642)\n"
     ]
    },
    {
     "data": {
      "application/vnd.jupyter.widget-view+json": {
       "model_id": "d0d80c630c5042e4a36202d6f399a232",
       "version_major": 2,
       "version_minor": 0
      },
      "text/plain": [
       "  0%|          | 0/205 [00:00<?, ?it/s]"
      ]
     },
     "metadata": {},
     "output_type": "display_data"
    },
    {
     "data": {
      "application/vnd.jupyter.widget-view+json": {
       "model_id": "1a78b6d2cb2c415dbb3b3a72420c504e",
       "version_major": 2,
       "version_minor": 0
      },
      "text/plain": [
       "  0%|          | 0/75 [00:00<?, ?it/s]"
      ]
     },
     "metadata": {},
     "output_type": "display_data"
    },
    {
     "name": "stdout",
     "output_type": "stream",
     "text": [
      "=> [epoch 009] best val mae was not improved from 10.616 (10.768)\n"
     ]
    },
    {
     "data": {
      "application/vnd.jupyter.widget-view+json": {
       "model_id": "872cba5d393f4a28a6d1f7e1dd913fae",
       "version_major": 2,
       "version_minor": 0
      },
      "text/plain": [
       "  0%|          | 0/205 [00:00<?, ?it/s]"
      ]
     },
     "metadata": {},
     "output_type": "display_data"
    },
    {
     "data": {
      "application/vnd.jupyter.widget-view+json": {
       "model_id": "9c7ff828c1d647b5853ef75a3acc3952",
       "version_major": 2,
       "version_minor": 0
      },
      "text/plain": [
       "  0%|          | 0/75 [00:00<?, ?it/s]"
      ]
     },
     "metadata": {},
     "output_type": "display_data"
    },
    {
     "name": "stdout",
     "output_type": "stream",
     "text": [
      "=> [epoch 010] best val mae was improved from 10.616 to 10.451\n"
     ]
    },
    {
     "data": {
      "application/vnd.jupyter.widget-view+json": {
       "model_id": "7dc7cf7b78d44383a672f9ef0ab8e906",
       "version_major": 2,
       "version_minor": 0
      },
      "text/plain": [
       "  0%|          | 0/205 [00:00<?, ?it/s]"
      ]
     },
     "metadata": {},
     "output_type": "display_data"
    }
   ],
   "source": [
    "for epoch in range(start_epoch, num_epochs):\n",
    "    # train\n",
    "    train_loss, train_acc = train(train_loader, model, criterion, optimizer, epoch, device, classes)\n",
    "\n",
    "    # validate\n",
    "    val_loss, val_acc, val_mae = validate(val_loader, model, criterion, epoch, device, classes)\n",
    "\n",
    "    if tensorboard_dir is not None:\n",
    "        train_writer.add_scalar(\"loss\", train_loss, epoch)\n",
    "        train_writer.add_scalar(\"acc\", train_acc, epoch)\n",
    "        val_writer.add_scalar(\"loss\", val_loss, epoch)\n",
    "        val_writer.add_scalar(\"acc\", val_acc, epoch)\n",
    "        val_writer.add_scalar(\"mae\", val_mae, epoch)\n",
    "\n",
    "    # checkpoint\n",
    "    if val_mae < best_val_mae:\n",
    "        print(f\"=> [epoch {epoch:03d}] best val mae was improved from {best_val_mae:.3f} to {val_mae:.3f}\")\n",
    "        model_state_dict = model.module.state_dict() if multi_gpu else model.state_dict()\n",
    "        torch.save(\n",
    "            {\n",
    "                'epoch': epoch + 1,\n",
    "                'arch': \"resnet\",\n",
    "                'state_dict': model_state_dict,\n",
    "                'optimizer_state_dict': optimizer.state_dict()\n",
    "            },\n",
    "            str(checkpoint_dir.joinpath(\"epoch{:03d}_{:.5f}_{:.4f}.pth\".format(epoch, val_loss, val_mae)))\n",
    "        )\n",
    "        best_val_mae = val_mae\n",
    "    else:\n",
    "        print(f\"=> [epoch {epoch:03d}] best val mae was not improved from {best_val_mae:.3f} ({val_mae:.3f})\")\n",
    "\n",
    "    # adjust learning rate\n",
    "    scheduler.step()\n",
    "\n",
    "print(\"=> training finished\")\n",
    "print(f\"additional opts: {opts}\")\n",
    "print(f\"best val mae: {best_val_mae:.3f}\")"
   ]
  },
  {
   "cell_type": "code",
   "execution_count": null,
   "id": "b988a1c1",
   "metadata": {},
   "outputs": [],
   "source": [
    "import numpy as np\n",
    "import torch.nn.functional as F\n",
    "img = np.load(\"bla.npy\")\n",
    "img = torch.from_numpy(img)\n",
    "outputs = model(img)\n",
    "classes = torch.arange(0, 101).type(torch.FloatTensor)\n",
    "outputs = F.softmax(outputs, dim=1)@classes\n",
    "outputs"
   ]
  },
  {
   "cell_type": "markdown",
   "id": "09358013",
   "metadata": {},
   "source": [
    "### UTK Dataset "
   ]
  },
  {
   "cell_type": "code",
   "execution_count": null,
   "id": "8cef1fb9",
   "metadata": {},
   "outputs": [],
   "source": [
    "train_dataset = FaceDataset_UTK(data_dir_utk, \"train\", img_size=img_size, augment=True, age_stddev=age_stddev)\n",
    "train_loader = DataLoader(train_dataset, batch_size=batch_size, shuffle=True, drop_last=True)\n",
    "\n",
    "val_dataset = FaceDataset_UTK(data_dir_utk, \"valid\", img_size=img_size, augment=False)\n",
    "val_loader = DataLoader(val_dataset, batch_size=batch_size, shuffle=False, drop_last=False)"
   ]
  },
  {
   "cell_type": "code",
   "execution_count": null,
   "id": "169b7ecc",
   "metadata": {},
   "outputs": [],
   "source": [
    "for epoch in range(start_epoch, num_epochs):\n",
    "    # train\n",
    "    train_loss, train_acc = train(train_loader, model, criterion, optimizer, epoch, device, classes)\n",
    "\n",
    "    # validate\n",
    "    val_loss, val_acc, val_mae = validate(val_loader, model, criterion, epoch, device, classes)\n",
    "\n",
    "    if tensorboard_dir is not None:\n",
    "        train_writer.add_scalar(\"loss\", train_loss, epoch)\n",
    "        train_writer.add_scalar(\"acc\", train_acc, epoch)\n",
    "        val_writer.add_scalar(\"loss\", val_loss, epoch)\n",
    "        val_writer.add_scalar(\"acc\", val_acc, epoch)\n",
    "        val_writer.add_scalar(\"mae\", val_mae, epoch)\n",
    "\n",
    "    # checkpoint\n",
    "    if val_mae < best_val_mae:\n",
    "        print(f\"=> [epoch {epoch:03d}] best val mae was improved from {best_val_mae:.3f} to {val_mae:.3f}\")\n",
    "        model_state_dict = model.module.state_dict() if multi_gpu else model.state_dict()\n",
    "        torch.save(\n",
    "            {\n",
    "                'epoch': epoch + 1,\n",
    "                'arch': \"resnet\",\n",
    "                'state_dict': model_state_dict,\n",
    "                'optimizer_state_dict': optimizer.state_dict()\n",
    "            },\n",
    "            str(checkpoint_dir.joinpath(\"epoch{:03d}_{:.5f}_{:.4f}.pth\".format(epoch, val_loss, val_mae)))\n",
    "        )\n",
    "        best_val_mae = val_mae\n",
    "    else:\n",
    "        print(f\"=> [epoch {epoch:03d}] best val mae was not improved from {best_val_mae:.3f} ({val_mae:.3f})\")\n",
    "\n",
    "    # adjust learning rate\n",
    "    scheduler.step()\n",
    "\n",
    "print(\"=> training finished\")\n",
    "print(f\"additional opts: {opts}\")\n",
    "print(f\"best val mae: {best_val_mae:.3f}\")"
   ]
  },
  {
   "cell_type": "markdown",
   "id": "95ce5fa9",
   "metadata": {},
   "source": [
    "### Create Residuals csv files"
   ]
  },
  {
   "cell_type": "code",
   "execution_count": 5,
   "id": "727bfd29",
   "metadata": {},
   "outputs": [],
   "source": [
    "import torch.nn.functional as F\n",
    "import pandas as pd \n",
    "import numpy as np"
   ]
  },
  {
   "cell_type": "code",
   "execution_count": 6,
   "id": "150b1f55",
   "metadata": {},
   "outputs": [],
   "source": [
    "train_dataset = FaceDataset(data_dir, \"train\", img_size=img_size, augment=False, age_stddev=age_stddev)\n",
    "train_loader = DataLoader(train_dataset, batch_size=batch_size, shuffle=False, drop_last=False)\n",
    "\n",
    "val_dataset = FaceDataset(data_dir, \"valid\", img_size=img_size, augment=False)\n",
    "val_loader = DataLoader(val_dataset, batch_size=batch_size, shuffle=False, drop_last=False)\n",
    "\n",
    "test_dataset = FaceDataset(data_dir, \"test\", img_size=img_size, augment=False)\n",
    "test_loader = DataLoader(test_dataset, batch_size=batch_size, shuffle=False, drop_last=False)"
   ]
  },
  {
   "cell_type": "code",
   "execution_count": 43,
   "id": "6d819578",
   "metadata": {},
   "outputs": [],
   "source": [
    "def residuals(model, loader, device) : \n",
    "    \"Returns the list of residuals\"\n",
    "    model.to(device)\n",
    "    residuals = []\n",
    "    classes = torch.arange(0, 101).type(torch.FloatTensor).to(device)\n",
    "    with torch.no_grad():\n",
    "        for x, y, real  in loader : \n",
    "            x = x.to(device)\n",
    "            y = y.to(device)\n",
    "            real = real.to(device)\n",
    "            outputs = model(x)\n",
    "            outputs = F.softmax(outputs, dim=1)@classes\n",
    "            residuals += list((real - outputs).cpu().numpy())\n",
    "    return residuals"
   ]
  },
  {
   "cell_type": "code",
   "execution_count": 48,
   "id": "d1486a07",
   "metadata": {},
   "outputs": [],
   "source": [
    "res_train = np.round(residuals(model, train_loader, device), 2)\n",
    "res_val = np.round(residuals(model, val_loader, device), 2)\n",
    "res_test = np.round(residuals(model, test_loader, device), 2)"
   ]
  },
  {
   "cell_type": "code",
   "execution_count": 60,
   "id": "6270c623",
   "metadata": {},
   "outputs": [],
   "source": [
    "pd.DataFrame(res_train, columns=[\"residual\"]).to_csv(\"train_residuals.csv\", index=False)\n",
    "pd.DataFrame(res_val, columns=[\"residual\"]).to_csv(\"val_residuals.csv\", index=False)\n",
    "pd.DataFrame(res_test, columns=[\"residual\"]).to_csv(\"test_residuals.csv\", index=False)"
   ]
  },
  {
   "cell_type": "code",
   "execution_count": 19,
   "id": "cdaee4e4",
   "metadata": {},
   "outputs": [],
   "source": [
    "df_train = pd.read_csv(\"appa-real-release\\gt_avg_train.csv\")\n",
    "residual_train = pd.read_csv(\"train_residuals.csv\")\n",
    "df_val = pd.read_csv(\"appa-real-release\\gt_avg_valid.csv\")\n",
    "residual_val = pd.read_csv(\"val_residuals.csv\")\n",
    "df_test = pd.read_csv(\"appa-real-release\\gt_avg_test.csv\")\n",
    "residual_test = pd.read_csv(\"test_residuals.csv\")\n",
    "\n",
    "df_train.join(residual_train)[['file_name', 'num_ratings', 'residual', 'apparent_age_std', 'real_age', 'apparent_age_avg']].to_csv(\"appa-real-release\\gt_avg_train_res.csv\")\n",
    "df_val.join(residual_val)[['file_name', 'num_ratings', 'residual', 'apparent_age_std', 'real_age', 'apparent_age_avg']].to_csv(\"appa-real-release\\gt_avg_valid_res.csv\")\n",
    "df_test.join(residual_test)[['file_name', 'num_ratings', 'residual', 'apparent_age_std', 'real_age', 'apparent_age_avg']].to_csv(\"appa-real-release\\gt_avg_test_res.csv\")"
   ]
  },
  {
   "cell_type": "markdown",
   "id": "478becc0",
   "metadata": {},
   "source": [
    "### DEX with residuals"
   ]
  },
  {
   "cell_type": "code",
   "execution_count": 6,
   "id": "cae5aa8a",
   "metadata": {},
   "outputs": [],
   "source": [
    "classes = torch.arange(-50, 51).type(torch.FloatTensor)"
   ]
  },
  {
   "cell_type": "code",
   "execution_count": 7,
   "id": "7ab99547",
   "metadata": {},
   "outputs": [],
   "source": [
    "train_dataset = FaceDataset(data_dir, \"train\", img_size=img_size, augment=True, age_stddev=age_stddev, is_res=True)\n",
    "train_loader = DataLoader(train_dataset, batch_size=batch_size, shuffle=True, drop_last=True)\n",
    "\n",
    "val_dataset = FaceDataset(data_dir, \"valid\", img_size=img_size, augment=False, is_res=True)\n",
    "val_loader = DataLoader(val_dataset, batch_size=batch_size, shuffle=False, drop_last=False)"
   ]
  },
  {
   "cell_type": "code",
   "execution_count": null,
   "id": "ab2ab24b",
   "metadata": {},
   "outputs": [],
   "source": [
    "for epoch in range(start_epoch, num_epochs):\n",
    "    # train\n",
    "    train_loss, train_acc = train(train_loader, model, criterion, optimizer, epoch, device, classes)\n",
    "\n",
    "    # validate\n",
    "    val_loss, val_acc, val_mae = validate(val_loader, model, criterion, epoch, device, classes)\n",
    "\n",
    "    if tensorboard_dir is not None:\n",
    "        train_writer.add_scalar(\"loss\", train_loss, epoch)\n",
    "        train_writer.add_scalar(\"acc\", train_acc, epoch)\n",
    "        val_writer.add_scalar(\"loss\", val_loss, epoch)\n",
    "        val_writer.add_scalar(\"acc\", val_acc, epoch)\n",
    "        val_writer.add_scalar(\"mae\", val_mae, epoch)\n",
    "\n",
    "    # checkpoint\n",
    "    if val_mae < best_val_mae:\n",
    "        print(f\"=> [epoch {epoch:03d}] best val mae was improved from {best_val_mae:.3f} to {val_mae:.3f}\")\n",
    "        model_state_dict = model.module.state_dict() if multi_gpu else model.state_dict()\n",
    "        torch.save(\n",
    "            {\n",
    "                'epoch': epoch + 1,\n",
    "                'arch': \"resnet\",\n",
    "                'state_dict': model_state_dict,\n",
    "                'optimizer_state_dict': optimizer.state_dict()\n",
    "            },\n",
    "            str(checkpoint_dir.joinpath(\"epoch{:03d}_{:.5f}_{:.4f}.pth\".format(epoch, val_loss, val_mae)))\n",
    "        )\n",
    "        best_val_mae = val_mae\n",
    "    else:\n",
    "        print(f\"=> [epoch {epoch:03d}] best val mae was not improved from {best_val_mae:.3f} ({val_mae:.3f})\")\n",
    "\n",
    "    # adjust learning rate\n",
    "    scheduler.step()\n",
    "\n",
    "print(\"=> training finished\")\n",
    "print(f\"additional opts: {opts}\")\n",
    "print(f\"best val mae: {best_val_mae:.3f}\")"
   ]
  },
  {
   "cell_type": "code",
   "execution_count": null,
   "id": "2d222caf",
   "metadata": {},
   "outputs": [],
   "source": []
  }
 ],
 "metadata": {
  "interpreter": {
   "hash": "df5f7db2eb774c9a955ca718bbb931dbb7c24ff8ec3882208b724b027430d827"
  },
  "kernelspec": {
   "display_name": "Python 3",
   "language": "python",
   "name": "python3"
  },
  "language_info": {
   "codemirror_mode": {
    "name": "ipython",
    "version": 3
   },
   "file_extension": ".py",
   "mimetype": "text/x-python",
   "name": "python",
   "nbconvert_exporter": "python",
   "pygments_lexer": "ipython3",
   "version": "3.8.8"
  }
 },
 "nbformat": 4,
 "nbformat_minor": 5
}
