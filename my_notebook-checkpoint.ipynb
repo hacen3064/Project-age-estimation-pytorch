{
 "cells": [
  {
   "cell_type": "code",
   "execution_count": 12,
   "id": "5df9d3d0",
   "metadata": {},
   "outputs": [],
   "source": [
    "from pathlib import Path\n",
    "import torch\n",
    "import torch.nn as nn\n",
    "import torch.nn.parallel\n",
    "import torch.optim\n",
    "from torch.optim.lr_scheduler import StepLR\n",
    "import torch.utils.data\n",
    "from torch.utils.data import DataLoader\n",
    "from torch.utils.tensorboard import SummaryWriter\n",
    "import pretrainedmodels\n",
    "import pretrainedmodels.utils\n",
    "from model import get_model, get_resnet\n",
    "from dataset import FaceDataset, FaceDataset_UTK\n",
    "from train import train, validate"
   ]
  },
  {
   "cell_type": "markdown",
   "id": "cf533194",
   "metadata": {},
   "source": [
    "Change data_dir to the direction of the 'appa-real-release' dataset\n",
    "\n",
    "Download with cmd:\n",
    "\n",
    "wget http://158.109.8.102/AppaRealAge/appa-real-release.zip\n",
    "\n",
    "unzip appa-real-release.zip"
   ]
  },
  {
   "cell_type": "code",
   "execution_count": 13,
   "id": "718e189b",
   "metadata": {},
   "outputs": [],
   "source": [
    "model = get_model()\n",
    "data_dir = 'appa-real-release'\n",
    "data_dir_utk = 'data_UTK'\n",
    "start_epoch = 0\n",
    "checkpoint_dir = Path('checkpoint')\n",
    "checkpoint_dir.mkdir(parents=True, exist_ok=True)\n",
    "resume_path = None #\"checkpoint/epoch011_0.31116_6.2232.pth\"\n",
    "tensorboard_dir = None\n",
    "opts = []\n",
    "multi_gpu = False\n",
    "\n",
    "\n",
    "img_size = 224\n",
    "age_stddev = 1.0\n",
    "batch_size = 20\n",
    "learning_rate = 1e-3/15\n",
    "step_size = 20\n",
    "decay_rate = 0.2\n",
    "num_epochs = 100\n",
    "classes = torch.arange(0, 101).type(torch.FloatTensor)"
   ]
  },
  {
   "cell_type": "code",
   "execution_count": 14,
   "id": "9176760b",
   "metadata": {},
   "outputs": [
    {
     "data": {
      "text/plain": [
       "['.badfiles.un~',\n",
       " '.clean_asdf.sh.un~',\n",
       " '.parse_labels.m.un~',\n",
       " '.README.txt.un~',\n",
       " 'gt_avg_test.csv',\n",
       " 'gt_avg_train.csv',\n",
       " 'gt_avg_valid.csv',\n",
       " 'gt_test.csv',\n",
       " 'gt_train.csv',\n",
       " 'gt_valid.csv',\n",
       " 'README.txt',\n",
       " 'test',\n",
       " 'train',\n",
       " 'valid',\n",
       " 'gt_avg_train_res.csv',\n",
       " 'gt_avg_valid_res.csv',\n",
       " 'gt_avg_test_res.csv']"
      ]
     },
     "execution_count": 14,
     "metadata": {},
     "output_type": "execute_result"
    }
   ],
   "source": [
    "import os\n",
    "os.listdir(data_dir)"
   ]
  },
  {
   "cell_type": "code",
   "execution_count": 15,
   "id": "17e170aa",
   "metadata": {},
   "outputs": [],
   "source": [
    "train_dataset = FaceDataset(data_dir, \"train\", img_size=img_size, augment=True, age_stddev=age_stddev)\n",
    "train_loader = DataLoader(train_dataset, batch_size=batch_size, shuffle=True, drop_last=True)\n",
    "\n",
    "val_dataset = FaceDataset(data_dir, \"valid\", img_size=img_size, augment=False)\n",
    "val_loader = DataLoader(val_dataset, batch_size=batch_size, shuffle=True, drop_last=True)\n",
    "\n",
    "\n",
    "optimizer = torch.optim.Adam(model.parameters(), lr=learning_rate)\n",
    "device =  \"cuda\" if torch.cuda.is_available() else \"cpu\"\n",
    "#device = \"cpu\"\n",
    "model = model.to(device)\n",
    "criterion = nn.L1Loss().to(device)\n",
    "\n",
    "if resume_path:\n",
    "    if Path(resume_path).is_file():\n",
    "        print(\"=> loading checkpoint '{}'\".format(resume_path))\n",
    "        checkpoint = torch.load(resume_path, map_location=\"cpu\")\n",
    "        start_epoch = checkpoint['epoch']\n",
    "        model.load_state_dict(checkpoint['state_dict'])\n",
    "        print(\"=> loaded checkpoint '{}' (epoch {})\"\n",
    "              .format(resume_path, checkpoint['epoch']))\n",
    "        optimizer.load_state_dict(checkpoint['optimizer_state_dict'])\n",
    "    else:\n",
    "        print(\"=> no checkpoint found at '{}'\".format(resume_path))\n",
    "\n",
    "scheduler = StepLR(optimizer, step_size=step_size, gamma=decay_rate, last_epoch=start_epoch - 1)\n",
    "best_val_mae = 10000.0\n",
    "train_writer = None\n",
    "\n",
    "if tensorboard_dir is not None:\n",
    "    opts_prefix = \"_\".join(opts)\n",
    "    train_writer = SummaryWriter(log_dir=tensorboard_dir + \"/\" + opts_prefix + \"_train\")\n",
    "    val_writer = SummaryWriter(log_dir=tensorboard_dir + \"/\" + opts_prefix + \"_val\")"
   ]
  },
  {
   "cell_type": "code",
   "execution_count": 16,
   "id": "5f0ae462",
   "metadata": {},
   "outputs": [
    {
     "data": {
      "application/vnd.jupyter.widget-view+json": {
       "model_id": "a734162259954b6daf9b18ccc58f5f27",
       "version_major": 2,
       "version_minor": 0
      },
      "text/plain": [
       "  0%|          | 0/205 [00:00<?, ?it/s]"
      ]
     },
     "metadata": {},
     "output_type": "display_data"
    },
    {
     "data": {
      "application/vnd.jupyter.widget-view+json": {
       "model_id": "09bfdf11bda942d0a8629f4e6f19d8e4",
       "version_major": 2,
       "version_minor": 0
      },
      "text/plain": [
       "  0%|          | 0/75 [00:00<?, ?it/s]"
      ]
     },
     "metadata": {},
     "output_type": "display_data"
    },
    {
     "name": "stdout",
     "output_type": "stream",
     "text": [
      "=> [epoch 000] best val mae was improved from 10000.000 to 9.104\n"
     ]
    },
    {
     "data": {
      "application/vnd.jupyter.widget-view+json": {
       "model_id": "c559bcf198bf44af8919b69497460716",
       "version_major": 2,
       "version_minor": 0
      },
      "text/plain": [
       "  0%|          | 0/205 [00:00<?, ?it/s]"
      ]
     },
     "metadata": {},
     "output_type": "display_data"
    },
    {
     "ename": "KeyboardInterrupt",
     "evalue": "",
     "output_type": "error",
     "traceback": [
      "\u001b[0;31m---------------------------------------------------------------------------\u001b[0m",
      "\u001b[0;31mKeyboardInterrupt\u001b[0m                         Traceback (most recent call last)",
      "\u001b[0;32m/tmp/ipykernel_14904/1216216454.py\u001b[0m in \u001b[0;36m<module>\u001b[0;34m\u001b[0m\n\u001b[1;32m      1\u001b[0m \u001b[0;32mfor\u001b[0m \u001b[0mepoch\u001b[0m \u001b[0;32min\u001b[0m \u001b[0mrange\u001b[0m\u001b[0;34m(\u001b[0m\u001b[0mstart_epoch\u001b[0m\u001b[0;34m,\u001b[0m \u001b[0mnum_epochs\u001b[0m\u001b[0;34m)\u001b[0m\u001b[0;34m:\u001b[0m\u001b[0;34m\u001b[0m\u001b[0;34m\u001b[0m\u001b[0m\n\u001b[1;32m      2\u001b[0m     \u001b[0;31m# train\u001b[0m\u001b[0;34m\u001b[0m\u001b[0;34m\u001b[0m\u001b[0m\n\u001b[0;32m----> 3\u001b[0;31m     \u001b[0mtrain_loss\u001b[0m\u001b[0;34m,\u001b[0m \u001b[0mtrain_acc\u001b[0m \u001b[0;34m=\u001b[0m \u001b[0mtrain\u001b[0m\u001b[0;34m(\u001b[0m\u001b[0mtrain_loader\u001b[0m\u001b[0;34m,\u001b[0m \u001b[0mmodel\u001b[0m\u001b[0;34m,\u001b[0m \u001b[0mcriterion\u001b[0m\u001b[0;34m,\u001b[0m \u001b[0moptimizer\u001b[0m\u001b[0;34m,\u001b[0m \u001b[0mepoch\u001b[0m\u001b[0;34m,\u001b[0m \u001b[0mdevice\u001b[0m\u001b[0;34m,\u001b[0m \u001b[0mclasses\u001b[0m\u001b[0;34m)\u001b[0m\u001b[0;34m\u001b[0m\u001b[0;34m\u001b[0m\u001b[0m\n\u001b[0m\u001b[1;32m      4\u001b[0m \u001b[0;34m\u001b[0m\u001b[0m\n\u001b[1;32m      5\u001b[0m     \u001b[0;31m# validate\u001b[0m\u001b[0;34m\u001b[0m\u001b[0;34m\u001b[0m\u001b[0m\n",
      "\u001b[0;32m/Data/jon/Project-age-estimation-pytorch/train.py\u001b[0m in \u001b[0;36mtrain\u001b[0;34m(train_loader, model, criterion, optimizer, epoch, device, classes)\u001b[0m\n\u001b[1;32m     60\u001b[0m     \u001b[0;32mwith\u001b[0m \u001b[0mtqdm\u001b[0m\u001b[0;34m(\u001b[0m\u001b[0mtrain_loader\u001b[0m\u001b[0;34m)\u001b[0m \u001b[0;32mas\u001b[0m \u001b[0m_tqdm\u001b[0m\u001b[0;34m:\u001b[0m\u001b[0;34m\u001b[0m\u001b[0;34m\u001b[0m\u001b[0m\n\u001b[1;32m     61\u001b[0m         \u001b[0;32mfor\u001b[0m \u001b[0mi\u001b[0m\u001b[0;34m,\u001b[0m \u001b[0;34m(\u001b[0m\u001b[0mx\u001b[0m\u001b[0;34m,\u001b[0m \u001b[0my\u001b[0m\u001b[0;34m,\u001b[0m \u001b[0m_\u001b[0m\u001b[0;34m)\u001b[0m \u001b[0;32min\u001b[0m \u001b[0menumerate\u001b[0m\u001b[0;34m(\u001b[0m\u001b[0m_tqdm\u001b[0m\u001b[0;34m)\u001b[0m\u001b[0;34m:\u001b[0m\u001b[0;34m\u001b[0m\u001b[0;34m\u001b[0m\u001b[0m\n\u001b[0;32m---> 62\u001b[0;31m             \u001b[0mx\u001b[0m \u001b[0;34m=\u001b[0m \u001b[0mx\u001b[0m\u001b[0;34m.\u001b[0m\u001b[0mto\u001b[0m\u001b[0;34m(\u001b[0m\u001b[0mdevice\u001b[0m\u001b[0;34m)\u001b[0m\u001b[0;34m\u001b[0m\u001b[0;34m\u001b[0m\u001b[0m\n\u001b[0m\u001b[1;32m     63\u001b[0m             \u001b[0my\u001b[0m \u001b[0;34m=\u001b[0m \u001b[0my\u001b[0m\u001b[0;34m.\u001b[0m\u001b[0mtype\u001b[0m\u001b[0;34m(\u001b[0m\u001b[0mtorch\u001b[0m\u001b[0;34m.\u001b[0m\u001b[0mLongTensor\u001b[0m\u001b[0;34m)\u001b[0m\u001b[0;34m.\u001b[0m\u001b[0mto\u001b[0m\u001b[0;34m(\u001b[0m\u001b[0mdevice\u001b[0m\u001b[0;34m)\u001b[0m\u001b[0;34m\u001b[0m\u001b[0;34m\u001b[0m\u001b[0m\n\u001b[1;32m     64\u001b[0m \u001b[0;34m\u001b[0m\u001b[0m\n",
      "\u001b[0;31mKeyboardInterrupt\u001b[0m: "
     ]
    }
   ],
   "source": [
    "for epoch in range(start_epoch, num_epochs):\n",
    "    # train\n",
    "    train_loss, train_acc = train(train_loader, model, criterion, optimizer, epoch, device, classes)\n",
    "\n",
    "    # validate\n",
    "    val_loss, val_acc, val_mae = validate(val_loader, model, criterion, epoch, device, classes)\n",
    "\n",
    "    if tensorboard_dir is not None:\n",
    "        train_writer.add_scalar(\"loss\", train_loss, epoch)\n",
    "        train_writer.add_scalar(\"acc\", train_acc, epoch)\n",
    "        val_writer.add_scalar(\"loss\", val_loss, epoch)\n",
    "        val_writer.add_scalar(\"acc\", val_acc, epoch)\n",
    "        val_writer.add_scalar(\"mae\", val_mae, epoch)\n",
    "\n",
    "    # checkpoint\n",
    "    if val_mae < best_val_mae:\n",
    "        print(f\"=> [epoch {epoch:03d}] best val mae was improved from {best_val_mae:.3f} to {val_mae:.3f}\")\n",
    "        model_state_dict = model.module.state_dict() if multi_gpu else model.state_dict()\n",
    "        torch.save(\n",
    "            {\n",
    "                'epoch': epoch + 1,\n",
    "                'arch': \"resnet\",\n",
    "                'state_dict': model_state_dict,\n",
    "                'optimizer_state_dict': optimizer.state_dict()\n",
    "            },\n",
    "            str(checkpoint_dir.joinpath(\"epoch{:03d}_{:.5f}_{:.4f}.pth\".format(epoch, val_loss, val_mae)))\n",
    "        )\n",
    "        best_val_mae = val_mae\n",
    "    else:\n",
    "        print(f\"=> [epoch {epoch:03d}] best val mae was not improved from {best_val_mae:.3f} ({val_mae:.3f})\")\n",
    "\n",
    "    # adjust learning rate\n",
    "    scheduler.step()\n",
    "\n",
    "print(\"=> training finished\")\n",
    "print(f\"additional opts: {opts}\")\n",
    "print(f\"best val mae: {best_val_mae:.3f}\")"
   ]
  },
  {
   "cell_type": "markdown",
   "id": "09358013",
   "metadata": {},
   "source": [
    "### UTK Dataset "
   ]
  },
  {
   "cell_type": "code",
   "execution_count": null,
   "id": "8cef1fb9",
   "metadata": {},
   "outputs": [],
   "source": [
    "train_dataset = FaceDataset_UTK(data_dir_utk, \"train\", img_size=img_size, augment=False, age_stddev=age_stddev)\n",
    "train_loader = DataLoader(train_dataset, batch_size=batch_size, shuffle=True, drop_last=True)\n",
    "\n",
    "val_dataset = FaceDataset_UTK(data_dir_utk, \"valid\", img_size=img_size, augment=False)\n",
    "val_loader = DataLoader(val_dataset, batch_size=batch_size, shuffle=False, drop_last=True)"
   ]
  },
  {
   "cell_type": "code",
   "execution_count": null,
   "id": "169b7ecc",
   "metadata": {},
   "outputs": [],
   "source": [
    "for epoch in range(start_epoch, num_epochs):\n",
    "    # train\n",
    "    train_loss, train_acc = train(train_loader, model, criterion, optimizer, epoch, device, classes)\n",
    "\n",
    "    # validate\n",
    "    val_loss, val_acc, val_mae = validate(val_loader, model, criterion, epoch, device, classes)\n",
    "\n",
    "    if tensorboard_dir is not None:\n",
    "        train_writer.add_scalar(\"loss\", train_loss, epoch)\n",
    "        train_writer.add_scalar(\"acc\", train_acc, epoch)\n",
    "        val_writer.add_scalar(\"loss\", val_loss, epoch)\n",
    "        val_writer.add_scalar(\"acc\", val_acc, epoch)\n",
    "        val_writer.add_scalar(\"mae\", val_mae, epoch)\n",
    "\n",
    "    # checkpoint\n",
    "    if val_mae < best_val_mae:\n",
    "        print(f\"=> [epoch {epoch:03d}] best val mae was improved from {best_val_mae:.3f} to {val_mae:.3f}\")\n",
    "        model_state_dict = model.module.state_dict() if multi_gpu else model.state_dict()\n",
    "        torch.save(\n",
    "            {\n",
    "                'epoch': epoch + 1,\n",
    "                'arch': \"resnet\",\n",
    "                'state_dict': model_state_dict,\n",
    "                'optimizer_state_dict': optimizer.state_dict()\n",
    "            },\n",
    "            str(checkpoint_dir.joinpath(\"epoch{:03d}_{:.5f}_{:.4f}.pth\".format(epoch, val_loss, val_mae)))\n",
    "        )\n",
    "        best_val_mae = val_mae\n",
    "    else:\n",
    "        print(f\"=> [epoch {epoch:03d}] best val mae was not improved from {best_val_mae:.3f} ({val_mae:.3f})\")\n",
    "\n",
    "    # adjust learning rate\n",
    "    scheduler.step()\n",
    "\n",
    "print(\"=> training finished\")\n",
    "print(f\"additional opts: {opts}\")\n",
    "print(f\"best val mae: {best_val_mae:.3f}\")"
   ]
  },
  {
   "cell_type": "markdown",
   "id": "95ce5fa9",
   "metadata": {},
   "source": [
    "### Create Residuals csv files"
   ]
  },
  {
   "cell_type": "code",
   "execution_count": 10,
   "id": "727bfd29",
   "metadata": {},
   "outputs": [],
   "source": [
    "import torch.nn.functional as F\n",
    "import pandas as pd \n",
    "import numpy as np"
   ]
  },
  {
   "cell_type": "code",
   "execution_count": 11,
   "id": "150b1f55",
   "metadata": {},
   "outputs": [],
   "source": [
    "train_dataset = FaceDataset(data_dir, \"train\", img_size=img_size, augment=False, age_stddev=age_stddev)\n",
    "train_loader = DataLoader(train_dataset, batch_size=batch_size, shuffle=False, drop_last=False)\n",
    "\n",
    "val_dataset = FaceDataset(data_dir, \"valid\", img_size=img_size, augment=False)\n",
    "val_loader = DataLoader(val_dataset, batch_size=batch_size, shuffle=False, drop_last=False)\n",
    "\n",
    "test_dataset = FaceDataset(data_dir, \"test\", img_size=img_size, augment=False)\n",
    "test_loader = DataLoader(test_dataset, batch_size=batch_size, shuffle=False, drop_last=False)"
   ]
  },
  {
   "cell_type": "code",
   "execution_count": 12,
   "id": "6d819578",
   "metadata": {},
   "outputs": [],
   "source": [
    "def residuals(model, loader, device) : \n",
    "    \"Returns the list of residuals\"\n",
    "    model.to(device)\n",
    "    residuals = []\n",
    "    classes = torch.arange(0, 101).type(torch.FloatTensor).to(device)\n",
    "    with torch.no_grad():\n",
    "        for x, y, real  in loader : \n",
    "            x = x.to(device)\n",
    "            y = y.to(device)\n",
    "            real = real.to(device)\n",
    "            outputs = model(x)\n",
    "            outputs = F.softmax(outputs, dim=1)@classes\n",
    "            residuals += list((real - outputs).cpu().numpy())\n",
    "    return residuals"
   ]
  },
  {
   "cell_type": "code",
   "execution_count": 13,
   "id": "d1486a07",
   "metadata": {},
   "outputs": [],
   "source": [
    "res_train = np.round(residuals(model, train_loader, device), 2)\n",
    "res_val = np.round(residuals(model, val_loader, device), 2)\n",
    "res_test = np.round(residuals(model, test_loader, device), 2)"
   ]
  },
  {
   "cell_type": "code",
   "execution_count": 14,
   "id": "b3083093",
   "metadata": {},
   "outputs": [
    {
     "data": {
      "text/plain": [
       "'appa-real-release/train_residuals.csv'"
      ]
     },
     "execution_count": 14,
     "metadata": {},
     "output_type": "execute_result"
    }
   ],
   "source": [
    "data_dir + \"/train_residuals.csv\""
   ]
  },
  {
   "cell_type": "code",
   "execution_count": 15,
   "id": "6270c623",
   "metadata": {},
   "outputs": [],
   "source": [
    "pd.DataFrame(res_train, columns=[\"residual\"]).to_csv(\"train_residuals.csv\", index=False)\n",
    "pd.DataFrame(res_val, columns=[\"residual\"]).to_csv(\"val_residuals.csv\", index=False)\n",
    "pd.DataFrame(res_test, columns=[\"residual\"]).to_csv(\"test_residuals.csv\", index=False)"
   ]
  },
  {
   "cell_type": "code",
   "execution_count": 16,
   "id": "cdaee4e4",
   "metadata": {},
   "outputs": [],
   "source": [
    "df_train = pd.read_csv(\"appa-real-release/gt_avg_train.csv\")\n",
    "residual_train = pd.read_csv(\"train_residuals.csv\")\n",
    "df_val = pd.read_csv(\"appa-real-release/gt_avg_valid.csv\")\n",
    "residual_val = pd.read_csv(\"val_residuals.csv\")\n",
    "df_test = pd.read_csv(\"appa-real-release/gt_avg_test.csv\")\n",
    "residual_test = pd.read_csv(\"test_residuals.csv\")\n",
    "\n",
    "df_train.join(residual_train)[['file_name', 'num_ratings', 'residual', 'apparent_age_std', 'real_age', 'apparent_age_avg']].to_csv(\"appa-real-release/gt_avg_train_res.csv\")\n",
    "df_val.join(residual_val)[['file_name', 'num_ratings', 'residual', 'apparent_age_std', 'real_age', 'apparent_age_avg']].to_csv(\"appa-real-release/gt_avg_valid_res.csv\")\n",
    "df_test.join(residual_test)[['file_name', 'num_ratings', 'residual', 'apparent_age_std', 'real_age', 'apparent_age_avg']].to_csv(\"appa-real-release/gt_avg_test_res.csv\")"
   ]
  },
  {
   "cell_type": "markdown",
   "id": "478becc0",
   "metadata": {},
   "source": [
    "### Residual DEX"
   ]
  },
  {
   "cell_type": "code",
   "execution_count": 6,
   "id": "08b4ae7a",
   "metadata": {},
   "outputs": [],
   "source": [
    "import copy"
   ]
  },
  {
   "cell_type": "code",
   "execution_count": 7,
   "id": "cae5aa8a",
   "metadata": {},
   "outputs": [],
   "source": [
    "classes = torch.arange(-50, 51).type(torch.FloatTensor)\n",
    "#model_2 = copy.deepcopy(model)"
   ]
  },
  {
   "cell_type": "code",
   "execution_count": 8,
   "id": "7ab99547",
   "metadata": {},
   "outputs": [],
   "source": [
    "train_dataset = FaceDataset(data_dir, \"train\", img_size=img_size, augment=False, age_stddev=age_stddev, is_res=True)\n",
    "train_loader = DataLoader(train_dataset, batch_size=batch_size, shuffle=True, drop_last=True)\n",
    "\n",
    "val_dataset = FaceDataset(data_dir, \"valid\", img_size=img_size, augment=False, is_res=True)\n",
    "val_loader = DataLoader(val_dataset, batch_size=batch_size, shuffle=True, drop_last=True)\n",
    "\n",
    "best_val_mae = 10000.0\n",
    "train_writer = None"
   ]
  },
  {
   "cell_type": "code",
   "execution_count": 9,
   "id": "ab2ab24b",
   "metadata": {},
   "outputs": [
    {
     "data": {
      "application/vnd.jupyter.widget-view+json": {
       "model_id": "75b81419167e4da485cccf19e4edeee2",
       "version_major": 2,
       "version_minor": 0
      },
      "text/plain": [
       "  0%|          | 0/205 [00:00<?, ?it/s]"
      ]
     },
     "metadata": {},
     "output_type": "display_data"
    },
    {
     "name": "stderr",
     "output_type": "stream",
     "text": [
      "/Data/jon/miniconda3/envs/deepLearning/lib/python3.9/site-packages/torch/nn/functional.py:718: UserWarning: Named tensors and all their associated APIs are an experimental feature and subject to change. Please do not use them for anything important until they are released as stable. (Triggered internally at  /pytorch/c10/core/TensorImpl.h:1156.)\n",
      "  return torch.max_pool2d(input, kernel_size, stride, padding, dilation, ceil_mode)\n"
     ]
    },
    {
     "data": {
      "application/vnd.jupyter.widget-view+json": {
       "model_id": "04e42cd4d51d40be936ed22def378807",
       "version_major": 2,
       "version_minor": 0
      },
      "text/plain": [
       "  0%|          | 0/75 [00:00<?, ?it/s]"
      ]
     },
     "metadata": {},
     "output_type": "display_data"
    },
    {
     "name": "stdout",
     "output_type": "stream",
     "text": [
      "=> [epoch 025] best val mae was improved from 10000.000 to 23.460\n"
     ]
    },
    {
     "data": {
      "application/vnd.jupyter.widget-view+json": {
       "model_id": "a24fa416e31740b5b6890808dbe6ea8f",
       "version_major": 2,
       "version_minor": 0
      },
      "text/plain": [
       "  0%|          | 0/205 [00:00<?, ?it/s]"
      ]
     },
     "metadata": {},
     "output_type": "display_data"
    },
    {
     "data": {
      "application/vnd.jupyter.widget-view+json": {
       "model_id": "86f91daba8bb4ea4a402c08ea9f32c1c",
       "version_major": 2,
       "version_minor": 0
      },
      "text/plain": [
       "  0%|          | 0/75 [00:00<?, ?it/s]"
      ]
     },
     "metadata": {},
     "output_type": "display_data"
    },
    {
     "name": "stdout",
     "output_type": "stream",
     "text": [
      "=> [epoch 026] best val mae was improved from 23.460 to 11.418\n"
     ]
    },
    {
     "data": {
      "application/vnd.jupyter.widget-view+json": {
       "model_id": "2cef4ae5018f4014bdd48caa59a7dc6c",
       "version_major": 2,
       "version_minor": 0
      },
      "text/plain": [
       "  0%|          | 0/205 [00:00<?, ?it/s]"
      ]
     },
     "metadata": {},
     "output_type": "display_data"
    },
    {
     "data": {
      "application/vnd.jupyter.widget-view+json": {
       "model_id": "5aa7cc890b824ad8b804c22fe8aae7a3",
       "version_major": 2,
       "version_minor": 0
      },
      "text/plain": [
       "  0%|          | 0/75 [00:00<?, ?it/s]"
      ]
     },
     "metadata": {},
     "output_type": "display_data"
    },
    {
     "name": "stdout",
     "output_type": "stream",
     "text": [
      "=> [epoch 027] best val mae was improved from 11.418 to 7.115\n"
     ]
    },
    {
     "data": {
      "application/vnd.jupyter.widget-view+json": {
       "model_id": "af0403d7bdf84ca395d364d026262cc5",
       "version_major": 2,
       "version_minor": 0
      },
      "text/plain": [
       "  0%|          | 0/205 [00:00<?, ?it/s]"
      ]
     },
     "metadata": {},
     "output_type": "display_data"
    },
    {
     "data": {
      "application/vnd.jupyter.widget-view+json": {
       "model_id": "65c6a84a74bd46aaada1c37072498aa1",
       "version_major": 2,
       "version_minor": 0
      },
      "text/plain": [
       "  0%|          | 0/75 [00:00<?, ?it/s]"
      ]
     },
     "metadata": {},
     "output_type": "display_data"
    },
    {
     "name": "stdout",
     "output_type": "stream",
     "text": [
      "=> [epoch 028] best val mae was improved from 7.115 to 6.975\n"
     ]
    },
    {
     "data": {
      "application/vnd.jupyter.widget-view+json": {
       "model_id": "04898bbdfdf74211a078a828904fd3b2",
       "version_major": 2,
       "version_minor": 0
      },
      "text/plain": [
       "  0%|          | 0/205 [00:00<?, ?it/s]"
      ]
     },
     "metadata": {},
     "output_type": "display_data"
    },
    {
     "data": {
      "application/vnd.jupyter.widget-view+json": {
       "model_id": "fdb502a9a348487ab9ba049810549b76",
       "version_major": 2,
       "version_minor": 0
      },
      "text/plain": [
       "  0%|          | 0/75 [00:00<?, ?it/s]"
      ]
     },
     "metadata": {},
     "output_type": "display_data"
    },
    {
     "name": "stdout",
     "output_type": "stream",
     "text": [
      "=> [epoch 029] best val mae was improved from 6.975 to 6.657\n"
     ]
    },
    {
     "data": {
      "application/vnd.jupyter.widget-view+json": {
       "model_id": "120c5198213744479855794720f6c1b0",
       "version_major": 2,
       "version_minor": 0
      },
      "text/plain": [
       "  0%|          | 0/205 [00:00<?, ?it/s]"
      ]
     },
     "metadata": {},
     "output_type": "display_data"
    },
    {
     "data": {
      "application/vnd.jupyter.widget-view+json": {
       "model_id": "b69978c187164f7084a1adeecce3a2a5",
       "version_major": 2,
       "version_minor": 0
      },
      "text/plain": [
       "  0%|          | 0/75 [00:00<?, ?it/s]"
      ]
     },
     "metadata": {},
     "output_type": "display_data"
    },
    {
     "name": "stdout",
     "output_type": "stream",
     "text": [
      "=> [epoch 030] best val mae was improved from 6.657 to 6.496\n"
     ]
    },
    {
     "data": {
      "application/vnd.jupyter.widget-view+json": {
       "model_id": "e981e2035e3b4356af67af12c0d5bee4",
       "version_major": 2,
       "version_minor": 0
      },
      "text/plain": [
       "  0%|          | 0/205 [00:00<?, ?it/s]"
      ]
     },
     "metadata": {},
     "output_type": "display_data"
    },
    {
     "data": {
      "application/vnd.jupyter.widget-view+json": {
       "model_id": "e80e4e92af5c42eaa79796da7deae99d",
       "version_major": 2,
       "version_minor": 0
      },
      "text/plain": [
       "  0%|          | 0/75 [00:00<?, ?it/s]"
      ]
     },
     "metadata": {},
     "output_type": "display_data"
    },
    {
     "name": "stdout",
     "output_type": "stream",
     "text": [
      "=> [epoch 031] best val mae was improved from 6.496 to 6.343\n"
     ]
    },
    {
     "data": {
      "application/vnd.jupyter.widget-view+json": {
       "model_id": "5cc1362fd8b24ff193f7d970548d2b33",
       "version_major": 2,
       "version_minor": 0
      },
      "text/plain": [
       "  0%|          | 0/205 [00:00<?, ?it/s]"
      ]
     },
     "metadata": {},
     "output_type": "display_data"
    },
    {
     "data": {
      "application/vnd.jupyter.widget-view+json": {
       "model_id": "695eafc918dd4a52bd12194de218b7b3",
       "version_major": 2,
       "version_minor": 0
      },
      "text/plain": [
       "  0%|          | 0/75 [00:00<?, ?it/s]"
      ]
     },
     "metadata": {},
     "output_type": "display_data"
    },
    {
     "name": "stdout",
     "output_type": "stream",
     "text": [
      "=> [epoch 032] best val mae was improved from 6.343 to 6.267\n"
     ]
    },
    {
     "data": {
      "application/vnd.jupyter.widget-view+json": {
       "model_id": "8457d5f3b06c46338c64ce70597f8e0f",
       "version_major": 2,
       "version_minor": 0
      },
      "text/plain": [
       "  0%|          | 0/205 [00:00<?, ?it/s]"
      ]
     },
     "metadata": {},
     "output_type": "display_data"
    },
    {
     "data": {
      "application/vnd.jupyter.widget-view+json": {
       "model_id": "d73196dc78ad4029b50216b222dc67b7",
       "version_major": 2,
       "version_minor": 0
      },
      "text/plain": [
       "  0%|          | 0/75 [00:00<?, ?it/s]"
      ]
     },
     "metadata": {},
     "output_type": "display_data"
    },
    {
     "name": "stdout",
     "output_type": "stream",
     "text": [
      "=> [epoch 033] best val mae was improved from 6.267 to 5.871\n"
     ]
    },
    {
     "data": {
      "application/vnd.jupyter.widget-view+json": {
       "model_id": "bb480f4fb9d14644806cd3220b97b462",
       "version_major": 2,
       "version_minor": 0
      },
      "text/plain": [
       "  0%|          | 0/205 [00:00<?, ?it/s]"
      ]
     },
     "metadata": {},
     "output_type": "display_data"
    },
    {
     "data": {
      "application/vnd.jupyter.widget-view+json": {
       "model_id": "a04c6555496940df99ad92c7d2270fe2",
       "version_major": 2,
       "version_minor": 0
      },
      "text/plain": [
       "  0%|          | 0/75 [00:00<?, ?it/s]"
      ]
     },
     "metadata": {},
     "output_type": "display_data"
    },
    {
     "name": "stdout",
     "output_type": "stream",
     "text": [
      "=> [epoch 034] best val mae was improved from 5.871 to 5.668\n"
     ]
    },
    {
     "data": {
      "application/vnd.jupyter.widget-view+json": {
       "model_id": "0b3c8574d1644e36842f40d83c4324bd",
       "version_major": 2,
       "version_minor": 0
      },
      "text/plain": [
       "  0%|          | 0/205 [00:00<?, ?it/s]"
      ]
     },
     "metadata": {},
     "output_type": "display_data"
    },
    {
     "data": {
      "application/vnd.jupyter.widget-view+json": {
       "model_id": "fa1ea20c9b0a464491549654bd88d172",
       "version_major": 2,
       "version_minor": 0
      },
      "text/plain": [
       "  0%|          | 0/75 [00:00<?, ?it/s]"
      ]
     },
     "metadata": {},
     "output_type": "display_data"
    },
    {
     "name": "stdout",
     "output_type": "stream",
     "text": [
      "=> [epoch 035] best val mae was improved from 5.668 to 5.499\n"
     ]
    },
    {
     "data": {
      "application/vnd.jupyter.widget-view+json": {
       "model_id": "67c600cf9109403b8c81d263ce4469d3",
       "version_major": 2,
       "version_minor": 0
      },
      "text/plain": [
       "  0%|          | 0/205 [00:00<?, ?it/s]"
      ]
     },
     "metadata": {},
     "output_type": "display_data"
    },
    {
     "data": {
      "application/vnd.jupyter.widget-view+json": {
       "model_id": "8bfaf394c4904898b27f2668b69d3b02",
       "version_major": 2,
       "version_minor": 0
      },
      "text/plain": [
       "  0%|          | 0/75 [00:00<?, ?it/s]"
      ]
     },
     "metadata": {},
     "output_type": "display_data"
    },
    {
     "name": "stdout",
     "output_type": "stream",
     "text": [
      "=> [epoch 036] best val mae was improved from 5.499 to 5.406\n"
     ]
    },
    {
     "data": {
      "application/vnd.jupyter.widget-view+json": {
       "model_id": "b5b99c02d5714c8fad34d984bae8e38f",
       "version_major": 2,
       "version_minor": 0
      },
      "text/plain": [
       "  0%|          | 0/205 [00:00<?, ?it/s]"
      ]
     },
     "metadata": {},
     "output_type": "display_data"
    },
    {
     "data": {
      "application/vnd.jupyter.widget-view+json": {
       "model_id": "1e70044bba9f4ee0b243052a304d780c",
       "version_major": 2,
       "version_minor": 0
      },
      "text/plain": [
       "  0%|          | 0/75 [00:00<?, ?it/s]"
      ]
     },
     "metadata": {},
     "output_type": "display_data"
    },
    {
     "name": "stdout",
     "output_type": "stream",
     "text": [
      "=> [epoch 037] best val mae was not improved from 5.406 (5.512)\n"
     ]
    },
    {
     "data": {
      "application/vnd.jupyter.widget-view+json": {
       "model_id": "1e95789ebedb4514840d1d5def46ef50",
       "version_major": 2,
       "version_minor": 0
      },
      "text/plain": [
       "  0%|          | 0/205 [00:00<?, ?it/s]"
      ]
     },
     "metadata": {},
     "output_type": "display_data"
    },
    {
     "data": {
      "application/vnd.jupyter.widget-view+json": {
       "model_id": "75bde7384e91415c9015badbe1eba368",
       "version_major": 2,
       "version_minor": 0
      },
      "text/plain": [
       "  0%|          | 0/75 [00:00<?, ?it/s]"
      ]
     },
     "metadata": {},
     "output_type": "display_data"
    },
    {
     "name": "stdout",
     "output_type": "stream",
     "text": [
      "=> [epoch 038] best val mae was improved from 5.406 to 5.283\n"
     ]
    },
    {
     "data": {
      "application/vnd.jupyter.widget-view+json": {
       "model_id": "b55cbcfe0eb64ad9b049b3ace1cb7b3f",
       "version_major": 2,
       "version_minor": 0
      },
      "text/plain": [
       "  0%|          | 0/205 [00:00<?, ?it/s]"
      ]
     },
     "metadata": {},
     "output_type": "display_data"
    },
    {
     "data": {
      "application/vnd.jupyter.widget-view+json": {
       "model_id": "09ae8f04b88d46c0a6b46aeb284a8dd5",
       "version_major": 2,
       "version_minor": 0
      },
      "text/plain": [
       "  0%|          | 0/75 [00:00<?, ?it/s]"
      ]
     },
     "metadata": {},
     "output_type": "display_data"
    },
    {
     "name": "stdout",
     "output_type": "stream",
     "text": [
      "=> [epoch 039] best val mae was not improved from 5.283 (5.506)\n"
     ]
    },
    {
     "data": {
      "application/vnd.jupyter.widget-view+json": {
       "model_id": "f01aa768d3874b5ab80214d498bbdf1c",
       "version_major": 2,
       "version_minor": 0
      },
      "text/plain": [
       "  0%|          | 0/205 [00:00<?, ?it/s]"
      ]
     },
     "metadata": {},
     "output_type": "display_data"
    },
    {
     "data": {
      "application/vnd.jupyter.widget-view+json": {
       "model_id": "83bb9483cf534ad58b8f29a7d86fcfc1",
       "version_major": 2,
       "version_minor": 0
      },
      "text/plain": [
       "  0%|          | 0/75 [00:00<?, ?it/s]"
      ]
     },
     "metadata": {},
     "output_type": "display_data"
    },
    {
     "name": "stdout",
     "output_type": "stream",
     "text": [
      "=> [epoch 040] best val mae was improved from 5.283 to 5.271\n"
     ]
    },
    {
     "data": {
      "application/vnd.jupyter.widget-view+json": {
       "model_id": "e761e913b8e44a52af620dcbb2e9232b",
       "version_major": 2,
       "version_minor": 0
      },
      "text/plain": [
       "  0%|          | 0/205 [00:00<?, ?it/s]"
      ]
     },
     "metadata": {},
     "output_type": "display_data"
    },
    {
     "data": {
      "application/vnd.jupyter.widget-view+json": {
       "model_id": "d27d324f4cbf4347a7cba5d5eff4d15b",
       "version_major": 2,
       "version_minor": 0
      },
      "text/plain": [
       "  0%|          | 0/75 [00:00<?, ?it/s]"
      ]
     },
     "metadata": {},
     "output_type": "display_data"
    },
    {
     "name": "stdout",
     "output_type": "stream",
     "text": [
      "=> [epoch 041] best val mae was not improved from 5.271 (5.444)\n"
     ]
    },
    {
     "data": {
      "application/vnd.jupyter.widget-view+json": {
       "model_id": "0570045cb9154d0aa056771cb3d5412d",
       "version_major": 2,
       "version_minor": 0
      },
      "text/plain": [
       "  0%|          | 0/205 [00:00<?, ?it/s]"
      ]
     },
     "metadata": {},
     "output_type": "display_data"
    },
    {
     "data": {
      "application/vnd.jupyter.widget-view+json": {
       "model_id": "dcf1da18e95b43df9c1883acd72a7045",
       "version_major": 2,
       "version_minor": 0
      },
      "text/plain": [
       "  0%|          | 0/75 [00:00<?, ?it/s]"
      ]
     },
     "metadata": {},
     "output_type": "display_data"
    },
    {
     "name": "stdout",
     "output_type": "stream",
     "text": [
      "=> [epoch 042] best val mae was not improved from 5.271 (5.326)\n"
     ]
    },
    {
     "data": {
      "application/vnd.jupyter.widget-view+json": {
       "model_id": "39f770c911ad4418ac2794b53b8be0f9",
       "version_major": 2,
       "version_minor": 0
      },
      "text/plain": [
       "  0%|          | 0/205 [00:00<?, ?it/s]"
      ]
     },
     "metadata": {},
     "output_type": "display_data"
    },
    {
     "data": {
      "application/vnd.jupyter.widget-view+json": {
       "model_id": "f5ebe81cb7074c3c98a616565056ed6a",
       "version_major": 2,
       "version_minor": 0
      },
      "text/plain": [
       "  0%|          | 0/75 [00:00<?, ?it/s]"
      ]
     },
     "metadata": {},
     "output_type": "display_data"
    },
    {
     "name": "stdout",
     "output_type": "stream",
     "text": [
      "=> [epoch 043] best val mae was not improved from 5.271 (5.338)\n"
     ]
    },
    {
     "data": {
      "application/vnd.jupyter.widget-view+json": {
       "model_id": "a3ec54b622ae4258bc239d491d1efaec",
       "version_major": 2,
       "version_minor": 0
      },
      "text/plain": [
       "  0%|          | 0/205 [00:00<?, ?it/s]"
      ]
     },
     "metadata": {},
     "output_type": "display_data"
    },
    {
     "data": {
      "application/vnd.jupyter.widget-view+json": {
       "model_id": "c7a807baf4e04bb09348bd21537dfffc",
       "version_major": 2,
       "version_minor": 0
      },
      "text/plain": [
       "  0%|          | 0/75 [00:00<?, ?it/s]"
      ]
     },
     "metadata": {},
     "output_type": "display_data"
    },
    {
     "name": "stdout",
     "output_type": "stream",
     "text": [
      "=> [epoch 044] best val mae was not improved from 5.271 (5.320)\n"
     ]
    },
    {
     "data": {
      "application/vnd.jupyter.widget-view+json": {
       "model_id": "73cf735cef7949aea033edfad1d7356d",
       "version_major": 2,
       "version_minor": 0
      },
      "text/plain": [
       "  0%|          | 0/205 [00:00<?, ?it/s]"
      ]
     },
     "metadata": {},
     "output_type": "display_data"
    },
    {
     "data": {
      "application/vnd.jupyter.widget-view+json": {
       "model_id": "dce8dfb03e6245db9f638d6c46d5c90f",
       "version_major": 2,
       "version_minor": 0
      },
      "text/plain": [
       "  0%|          | 0/75 [00:00<?, ?it/s]"
      ]
     },
     "metadata": {},
     "output_type": "display_data"
    },
    {
     "name": "stdout",
     "output_type": "stream",
     "text": [
      "=> [epoch 045] best val mae was not improved from 5.271 (5.316)\n"
     ]
    },
    {
     "data": {
      "application/vnd.jupyter.widget-view+json": {
       "model_id": "18f74ccc19e64572861dfdd8e9eb8081",
       "version_major": 2,
       "version_minor": 0
      },
      "text/plain": [
       "  0%|          | 0/205 [00:00<?, ?it/s]"
      ]
     },
     "metadata": {},
     "output_type": "display_data"
    },
    {
     "data": {
      "application/vnd.jupyter.widget-view+json": {
       "model_id": "2dc2225033e740c5a8e97f33a6549357",
       "version_major": 2,
       "version_minor": 0
      },
      "text/plain": [
       "  0%|          | 0/75 [00:00<?, ?it/s]"
      ]
     },
     "metadata": {},
     "output_type": "display_data"
    },
    {
     "name": "stdout",
     "output_type": "stream",
     "text": [
      "=> [epoch 046] best val mae was not improved from 5.271 (5.346)\n"
     ]
    },
    {
     "data": {
      "application/vnd.jupyter.widget-view+json": {
       "model_id": "2f65eacf792e4ff7a4f13132bcf76cc6",
       "version_major": 2,
       "version_minor": 0
      },
      "text/plain": [
       "  0%|          | 0/205 [00:00<?, ?it/s]"
      ]
     },
     "metadata": {},
     "output_type": "display_data"
    },
    {
     "data": {
      "application/vnd.jupyter.widget-view+json": {
       "model_id": "bd8d1b32da16422d89630633a823f1cb",
       "version_major": 2,
       "version_minor": 0
      },
      "text/plain": [
       "  0%|          | 0/75 [00:00<?, ?it/s]"
      ]
     },
     "metadata": {},
     "output_type": "display_data"
    },
    {
     "name": "stdout",
     "output_type": "stream",
     "text": [
      "=> [epoch 047] best val mae was not improved from 5.271 (5.287)\n"
     ]
    },
    {
     "data": {
      "application/vnd.jupyter.widget-view+json": {
       "model_id": "d944d4b03ecd44c69bc125a7e784cc9f",
       "version_major": 2,
       "version_minor": 0
      },
      "text/plain": [
       "  0%|          | 0/205 [00:00<?, ?it/s]"
      ]
     },
     "metadata": {},
     "output_type": "display_data"
    },
    {
     "data": {
      "application/vnd.jupyter.widget-view+json": {
       "model_id": "65188b7a28344005950d8797cf601338",
       "version_major": 2,
       "version_minor": 0
      },
      "text/plain": [
       "  0%|          | 0/75 [00:00<?, ?it/s]"
      ]
     },
     "metadata": {},
     "output_type": "display_data"
    },
    {
     "name": "stdout",
     "output_type": "stream",
     "text": [
      "=> [epoch 048] best val mae was not improved from 5.271 (5.399)\n"
     ]
    },
    {
     "data": {
      "application/vnd.jupyter.widget-view+json": {
       "model_id": "62758dab6a484af1b2855c716f970579",
       "version_major": 2,
       "version_minor": 0
      },
      "text/plain": [
       "  0%|          | 0/205 [00:00<?, ?it/s]"
      ]
     },
     "metadata": {},
     "output_type": "display_data"
    },
    {
     "data": {
      "application/vnd.jupyter.widget-view+json": {
       "model_id": "16f12abf40814ac3b6786e6d7efb7ad1",
       "version_major": 2,
       "version_minor": 0
      },
      "text/plain": [
       "  0%|          | 0/75 [00:00<?, ?it/s]"
      ]
     },
     "metadata": {},
     "output_type": "display_data"
    },
    {
     "name": "stdout",
     "output_type": "stream",
     "text": [
      "=> [epoch 049] best val mae was not improved from 5.271 (5.359)\n"
     ]
    },
    {
     "data": {
      "application/vnd.jupyter.widget-view+json": {
       "model_id": "5a66932098904870a277a2fc8ac55dcc",
       "version_major": 2,
       "version_minor": 0
      },
      "text/plain": [
       "  0%|          | 0/205 [00:00<?, ?it/s]"
      ]
     },
     "metadata": {},
     "output_type": "display_data"
    },
    {
     "ename": "KeyboardInterrupt",
     "evalue": "",
     "output_type": "error",
     "traceback": [
      "\u001b[0;31m---------------------------------------------------------------------------\u001b[0m",
      "\u001b[0;31mKeyboardInterrupt\u001b[0m                         Traceback (most recent call last)",
      "\u001b[0;32m/tmp/ipykernel_25202/1216216454.py\u001b[0m in \u001b[0;36m<module>\u001b[0;34m\u001b[0m\n\u001b[1;32m      1\u001b[0m \u001b[0;32mfor\u001b[0m \u001b[0mepoch\u001b[0m \u001b[0;32min\u001b[0m \u001b[0mrange\u001b[0m\u001b[0;34m(\u001b[0m\u001b[0mstart_epoch\u001b[0m\u001b[0;34m,\u001b[0m \u001b[0mnum_epochs\u001b[0m\u001b[0;34m)\u001b[0m\u001b[0;34m:\u001b[0m\u001b[0;34m\u001b[0m\u001b[0;34m\u001b[0m\u001b[0m\n\u001b[1;32m      2\u001b[0m     \u001b[0;31m# train\u001b[0m\u001b[0;34m\u001b[0m\u001b[0;34m\u001b[0m\u001b[0m\n\u001b[0;32m----> 3\u001b[0;31m     \u001b[0mtrain_loss\u001b[0m\u001b[0;34m,\u001b[0m \u001b[0mtrain_acc\u001b[0m \u001b[0;34m=\u001b[0m \u001b[0mtrain\u001b[0m\u001b[0;34m(\u001b[0m\u001b[0mtrain_loader\u001b[0m\u001b[0;34m,\u001b[0m \u001b[0mmodel\u001b[0m\u001b[0;34m,\u001b[0m \u001b[0mcriterion\u001b[0m\u001b[0;34m,\u001b[0m \u001b[0moptimizer\u001b[0m\u001b[0;34m,\u001b[0m \u001b[0mepoch\u001b[0m\u001b[0;34m,\u001b[0m \u001b[0mdevice\u001b[0m\u001b[0;34m,\u001b[0m \u001b[0mclasses\u001b[0m\u001b[0;34m)\u001b[0m\u001b[0;34m\u001b[0m\u001b[0;34m\u001b[0m\u001b[0m\n\u001b[0m\u001b[1;32m      4\u001b[0m \u001b[0;34m\u001b[0m\u001b[0m\n\u001b[1;32m      5\u001b[0m     \u001b[0;31m# validate\u001b[0m\u001b[0;34m\u001b[0m\u001b[0;34m\u001b[0m\u001b[0m\n",
      "\u001b[0;32m/Data/jon/Project-age-estimation-pytorch/train.py\u001b[0m in \u001b[0;36mtrain\u001b[0;34m(train_loader, model, criterion, optimizer, epoch, device, classes)\u001b[0m\n\u001b[1;32m     60\u001b[0m     \u001b[0;32mwith\u001b[0m \u001b[0mtqdm\u001b[0m\u001b[0;34m(\u001b[0m\u001b[0mtrain_loader\u001b[0m\u001b[0;34m)\u001b[0m \u001b[0;32mas\u001b[0m \u001b[0m_tqdm\u001b[0m\u001b[0;34m:\u001b[0m\u001b[0;34m\u001b[0m\u001b[0;34m\u001b[0m\u001b[0m\n\u001b[1;32m     61\u001b[0m         \u001b[0;32mfor\u001b[0m \u001b[0mi\u001b[0m\u001b[0;34m,\u001b[0m \u001b[0;34m(\u001b[0m\u001b[0mx\u001b[0m\u001b[0;34m,\u001b[0m \u001b[0my\u001b[0m\u001b[0;34m,\u001b[0m \u001b[0m_\u001b[0m\u001b[0;34m)\u001b[0m \u001b[0;32min\u001b[0m \u001b[0menumerate\u001b[0m\u001b[0;34m(\u001b[0m\u001b[0m_tqdm\u001b[0m\u001b[0;34m)\u001b[0m\u001b[0;34m:\u001b[0m\u001b[0;34m\u001b[0m\u001b[0;34m\u001b[0m\u001b[0m\n\u001b[0;32m---> 62\u001b[0;31m             \u001b[0mx\u001b[0m \u001b[0;34m=\u001b[0m \u001b[0mx\u001b[0m\u001b[0;34m.\u001b[0m\u001b[0mto\u001b[0m\u001b[0;34m(\u001b[0m\u001b[0mdevice\u001b[0m\u001b[0;34m)\u001b[0m\u001b[0;34m\u001b[0m\u001b[0;34m\u001b[0m\u001b[0m\n\u001b[0m\u001b[1;32m     63\u001b[0m             \u001b[0my\u001b[0m \u001b[0;34m=\u001b[0m \u001b[0my\u001b[0m\u001b[0;34m.\u001b[0m\u001b[0mtype\u001b[0m\u001b[0;34m(\u001b[0m\u001b[0mtorch\u001b[0m\u001b[0;34m.\u001b[0m\u001b[0mLongTensor\u001b[0m\u001b[0;34m)\u001b[0m\u001b[0;34m.\u001b[0m\u001b[0mto\u001b[0m\u001b[0;34m(\u001b[0m\u001b[0mdevice\u001b[0m\u001b[0;34m)\u001b[0m\u001b[0;34m\u001b[0m\u001b[0;34m\u001b[0m\u001b[0m\n\u001b[1;32m     64\u001b[0m \u001b[0;34m\u001b[0m\u001b[0m\n",
      "\u001b[0;31mKeyboardInterrupt\u001b[0m: "
     ]
    }
   ],
   "source": [
    "for epoch in range(start_epoch, num_epochs):\n",
    "    # train\n",
    "    train_loss, train_acc = train(train_loader, model, criterion, optimizer, epoch, device, classes)\n",
    "\n",
    "    # validate\n",
    "    val_loss, val_acc, val_mae = validate(val_loader, model, criterion, epoch, device, classes)\n",
    "\n",
    "    if tensorboard_dir is not None:\n",
    "        train_writer.add_scalar(\"loss\", train_loss, epoch)\n",
    "        train_writer.add_scalar(\"acc\", train_acc, epoch)\n",
    "        val_writer.add_scalar(\"loss\", val_loss, epoch)\n",
    "        val_writer.add_scalar(\"acc\", val_acc, epoch)\n",
    "        val_writer.add_scalar(\"mae\", val_mae, epoch)\n",
    "\n",
    "    # checkpoint\n",
    "    if val_mae < best_val_mae:\n",
    "        print(f\"=> [epoch {epoch:03d}] best val mae was improved from {best_val_mae:.3f} to {val_mae:.3f}\")\n",
    "        model_state_dict = model.module.state_dict() if multi_gpu else model.state_dict()\n",
    "        torch.save(\n",
    "            {\n",
    "                'epoch': epoch + 1,\n",
    "                'arch': \"resnet\",\n",
    "                'state_dict': model_state_dict,\n",
    "                'optimizer_state_dict': optimizer.state_dict()\n",
    "            },\n",
    "            str(checkpoint_dir.joinpath(\"epoch{:03d}_{:.5f}_{:.4f}.pth\".format(epoch, val_loss, val_mae)))\n",
    "        )\n",
    "        best_val_mae = val_mae\n",
    "    else:\n",
    "        print(f\"=> [epoch {epoch:03d}] best val mae was not improved from {best_val_mae:.3f} ({val_mae:.3f})\")\n",
    "\n",
    "    # adjust learning rate\n",
    "    scheduler.step()\n",
    "\n",
    "print(\"=> training finished\")\n",
    "print(f\"additional opts: {opts}\")\n",
    "print(f\"best val mae: {best_val_mae:.3f}\")"
   ]
  },
  {
   "cell_type": "code",
   "execution_count": null,
   "id": "2d222caf",
   "metadata": {},
   "outputs": [],
   "source": []
  },
  {
   "cell_type": "markdown",
   "id": "7bf22199",
   "metadata": {},
   "source": [
    "### Test Residual DEX"
   ]
  },
  {
   "cell_type": "code",
   "execution_count": null,
   "id": "affcd74b",
   "metadata": {},
   "outputs": [],
   "source": [
    "test_dataset = FaceDataset(data_dir, \"test\", img_size=img_size, augment=False)\n",
    "test_loader = DataLoader(test_dataset, batch_size=batch_size, shuffle=False, drop_last=False)"
   ]
  },
  {
   "cell_type": "code",
   "execution_count": null,
   "id": "b354cf32",
   "metadata": {},
   "outputs": [],
   "source": [
    "data_dir = 'appa-real-release'\n",
    "resume_path = \"checkpoint/epoch024_0.23000_4.5999.pth\" \n",
    "resume_path_2 = \"checkpoint/epoch021_0.22150_4.4299.pth\" \n",
    "classes = torch.arange(0, 101).type(torch.FloatTensor).to(device)"
   ]
  },
  {
   "cell_type": "code",
   "execution_count": null,
   "id": "d8d7394d",
   "metadata": {},
   "outputs": [],
   "source": [
    "if resume_path:\n",
    "    if Path(resume_path).is_file():\n",
    "        print(\"=> loading checkpoint '{}'\".format(resume_path))\n",
    "        checkpoint = torch.load(resume_path, map_location=\"cpu\")\n",
    "        start_epoch = checkpoint['epoch']\n",
    "        model.load_state_dict(checkpoint['state_dict'])\n",
    "        print(\"=> loaded checkpoint '{}' (epoch {})\"\n",
    "              .format(resume_path, checkpoint['epoch']))\n",
    "        #optimizer.load_state_dict(checkpoint['optimizer_state_dict'])\n",
    "    else:\n",
    "        print(\"=> no checkpoint found at '{}'\".format(resume_path))\n",
    "\n",
    "\n",
    "if resume_path_2:\n",
    "    if Path(resume_path_2).is_file():\n",
    "        print(\"=> loading checkpoint '{}'\".format(resume_path_2))\n",
    "        checkpoint_2 = torch.load(resume_path_2, map_location=\"cpu\")\n",
    "        start_epoch = checkpoint_2['epoch']\n",
    "        model_2.load_state_dict(checkpoint_2['state_dict'])\n",
    "        print(\"=> loaded checkpoint '{}' (epoch {})\"\n",
    "              .format(resume_path_2, checkpoint_2['epoch']))\n",
    "        #optimizer.load_state_dict(checkpoint['optimizer_state_dict'])\n",
    "    else:\n",
    "        print(\"=> no checkpoint found at '{}'\".format(resume_path_2))"
   ]
  },
  {
   "cell_type": "code",
   "execution_count": null,
   "id": "39347116",
   "metadata": {},
   "outputs": [],
   "source": [
    "_,_,mae = validate(test_loader, model, model_2, None, 0, device,  torch.arange(0, 101).type(torch.FloatTensor).to(device))\n",
    "mae"
   ]
  }
 ],
 "metadata": {
  "interpreter": {
   "hash": "df5f7db2eb774c9a955ca718bbb931dbb7c24ff8ec3882208b724b027430d827"
  },
  "kernelspec": {
   "display_name": "Python 3",
   "language": "python",
   "name": "python3"
  },
  "language_info": {
   "codemirror_mode": {
    "name": "ipython",
    "version": 3
   },
   "file_extension": ".py",
   "mimetype": "text/x-python",
   "name": "python",
   "nbconvert_exporter": "python",
   "pygments_lexer": "ipython3",
   "version": "3.9.7"
  }
 },
 "nbformat": 4,
 "nbformat_minor": 5
}
