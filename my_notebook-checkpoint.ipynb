{
 "cells": [
  {
   "cell_type": "code",
   "execution_count": 1,
   "id": "5df9d3d0",
   "metadata": {},
   "outputs": [],
   "source": [
    "from pathlib import Path\n",
    "import torch\n",
    "import torch.nn as nn\n",
    "import torch.nn.parallel\n",
    "import torch.optim\n",
    "from torch.optim.lr_scheduler import StepLR\n",
    "import torch.utils.data\n",
    "from torch.utils.data import DataLoader\n",
    "from torch.utils.tensorboard import SummaryWriter\n",
    "import pretrainedmodels\n",
    "import pretrainedmodels.utils\n",
    "from model import get_model, get_vgg\n",
    "from dataset import FaceDataset\n",
    "from train import train, validate"
   ]
  },
  {
   "cell_type": "markdown",
   "id": "cf533194",
   "metadata": {},
   "source": [
    "Change data_dir to the direction of the 'appa-real-release' dataset\n",
    "\n",
    "Download with cmd:\n",
    "\n",
    "wget http://158.109.8.102/AppaRealAge/appa-real-release.zip\n",
    "\n",
    "unzip appa-real-release.zip"
   ]
  },
  {
   "cell_type": "code",
   "execution_count": 2,
   "id": "718e189b",
   "metadata": {},
   "outputs": [],
   "source": [
    "model = get_model()\n",
    "data_dir = 'appa-real-release'\n",
    "start_epoch = 0\n",
    "checkpoint_dir = Path('checkpoint')\n",
    "checkpoint_dir.mkdir(parents=True, exist_ok=True)\n",
    "resume_path = \"checkpoint/epoch013_0.24098_7.6930.pth\"\n",
    "tensorboard_dir = None\n",
    "opts = []\n",
    "multi_gpu = False\n",
    "\n",
    "\n",
    "img_size = 128\n",
    "age_stddev = 1.0\n",
    "batch_size = 64\n",
    "learning_rate = 1e-3\n",
    "step_size = 20\n",
    "decay_rate = 0.2\n",
    "num_epochs = 100"
   ]
  },
  {
   "cell_type": "code",
   "execution_count": 3,
   "id": "9176760b",
   "metadata": {},
   "outputs": [
    {
     "data": {
      "text/plain": [
       "['.badfiles.un~',\n",
       " '.clean_asdf.sh.un~',\n",
       " '.parse_labels.m.un~',\n",
       " '.README.txt.un~',\n",
       " 'gt_avg_test.csv',\n",
       " 'gt_avg_train.csv',\n",
       " 'gt_avg_valid.csv',\n",
       " 'gt_test.csv',\n",
       " 'gt_train.csv',\n",
       " 'gt_valid.csv',\n",
       " 'README.txt',\n",
       " 'test',\n",
       " 'train',\n",
       " 'valid']"
      ]
     },
     "execution_count": 3,
     "metadata": {},
     "output_type": "execute_result"
    }
   ],
   "source": [
    "import os\n",
    "os.listdir(data_dir)"
   ]
  },
  {
   "cell_type": "code",
   "execution_count": 4,
   "id": "17e170aa",
   "metadata": {},
   "outputs": [
    {
     "name": "stdout",
     "output_type": "stream",
     "text": [
      "=> loading checkpoint 'checkpoint/epoch013_0.24098_7.6930.pth'\n",
      "=> loaded checkpoint 'checkpoint/epoch013_0.24098_7.6930.pth' (epoch 14)\n"
     ]
    }
   ],
   "source": [
    "train_dataset = FaceDataset(data_dir, \"train\", img_size=img_size, augment=True, age_stddev=age_stddev)\n",
    "train_loader = DataLoader(train_dataset, batch_size=batch_size, shuffle=True, drop_last=True)\n",
    "\n",
    "val_dataset = FaceDataset(data_dir, \"valid\", img_size=img_size, augment=False)\n",
    "val_loader = DataLoader(val_dataset, batch_size=batch_size, shuffle=False, drop_last=False)\n",
    "\n",
    "\n",
    "optimizer = torch.optim.Adam(model.parameters(), lr=learning_rate)\n",
    "device =  \"cuda\" if torch.cuda.is_available() else \"cpu\"\n",
    "model = model.to(device)\n",
    "criterion = nn.L1Loss().to(device)\n",
    "\n",
    "if resume_path:\n",
    "    if Path(resume_path).is_file():\n",
    "        print(\"=> loading checkpoint '{}'\".format(resume_path))\n",
    "        checkpoint = torch.load(resume_path, map_location=\"cpu\")\n",
    "        start_epoch = checkpoint['epoch']\n",
    "        model.load_state_dict(checkpoint['state_dict'])\n",
    "        print(\"=> loaded checkpoint '{}' (epoch {})\"\n",
    "              .format(resume_path, checkpoint['epoch']))\n",
    "        optimizer.load_state_dict(checkpoint['optimizer_state_dict'])\n",
    "    else:\n",
    "        print(\"=> no checkpoint found at '{}'\".format(resume_path))\n",
    "\n",
    "scheduler = StepLR(optimizer, step_size=step_size, gamma=decay_rate, last_epoch=start_epoch - 1)\n",
    "best_val_mae = 10000.0\n",
    "train_writer = None\n",
    "\n",
    "if tensorboard_dir is not None:\n",
    "    opts_prefix = \"_\".join(opts)\n",
    "    train_writer = SummaryWriter(log_dir=tensorboard_dir + \"/\" + opts_prefix + \"_train\")\n",
    "    val_writer = SummaryWriter(log_dir=tensorboard_dir + \"/\" + opts_prefix + \"_val\")"
   ]
  },
  {
   "cell_type": "code",
   "execution_count": 5,
   "id": "5f0ae462",
   "metadata": {},
   "outputs": [
    {
     "name": "stderr",
     "output_type": "stream",
     "text": [
      "100%|██████████| 124/124 [00:47<00:00,  2.63it/s, stage=train, epoch=14, loss=0.247, acc=0.00151, correct=0, sample_num=32]\n",
      "100%|██████████| 47/47 [00:07<00:00,  6.36it/s, stage=val, epoch=14, loss=0.244, acc=0.000667, correct=0, sample_num=28]\n"
     ]
    },
    {
     "name": "stdout",
     "output_type": "stream",
     "text": [
      "=> [epoch 014] best val mae was improved from 10000.000 to 7.797\n"
     ]
    },
    {
     "name": "stderr",
     "output_type": "stream",
     "text": [
      "100%|██████████| 124/124 [00:40<00:00,  3.08it/s, stage=train, epoch=15, loss=0.248, acc=0.00202, correct=0, sample_num=32]\n",
      "100%|██████████| 47/47 [00:07<00:00,  6.07it/s, stage=val, epoch=15, loss=0.241, acc=0.000667, correct=0, sample_num=28]\n"
     ]
    },
    {
     "name": "stdout",
     "output_type": "stream",
     "text": [
      "=> [epoch 015] best val mae was improved from 7.797 to 7.700\n"
     ]
    },
    {
     "name": "stderr",
     "output_type": "stream",
     "text": [
      "100%|██████████| 124/124 [00:34<00:00,  3.54it/s, stage=train, epoch=16, loss=0.247, acc=0.00151, correct=0, sample_num=32]\n",
      "100%|██████████| 47/47 [00:07<00:00,  5.97it/s, stage=val, epoch=16, loss=0.242, acc=0.000667, correct=0, sample_num=28]\n",
      "  0%|          | 0/124 [00:00<?, ?it/s]"
     ]
    },
    {
     "name": "stdout",
     "output_type": "stream",
     "text": [
      "=> [epoch 016] best val mae was not improved from 7.700 (7.726)\n"
     ]
    },
    {
     "name": "stderr",
     "output_type": "stream",
     "text": [
      "100%|██████████| 124/124 [00:39<00:00,  3.12it/s, stage=train, epoch=17, loss=0.248, acc=0.00252, correct=0, sample_num=32]\n",
      "100%|██████████| 47/47 [00:06<00:00,  7.32it/s, stage=val, epoch=17, loss=0.241, acc=0.000667, correct=0, sample_num=28]\n"
     ]
    },
    {
     "name": "stdout",
     "output_type": "stream",
     "text": [
      "=> [epoch 017] best val mae was improved from 7.700 to 7.695\n"
     ]
    },
    {
     "name": "stderr",
     "output_type": "stream",
     "text": [
      "100%|██████████| 124/124 [00:35<00:00,  3.46it/s, stage=train, epoch=18, loss=0.245, acc=0.000504, correct=0, sample_num=32]\n",
      "100%|██████████| 47/47 [00:06<00:00,  7.35it/s, stage=val, epoch=18, loss=0.238, acc=0.000667, correct=0, sample_num=28]\n"
     ]
    },
    {
     "name": "stdout",
     "output_type": "stream",
     "text": [
      "=> [epoch 018] best val mae was improved from 7.695 to 7.608\n"
     ]
    },
    {
     "name": "stderr",
     "output_type": "stream",
     "text": [
      "100%|██████████| 124/124 [00:34<00:00,  3.55it/s, stage=train, epoch=19, loss=0.244, acc=0.00151, correct=0, sample_num=32]\n",
      "100%|██████████| 47/47 [00:06<00:00,  7.45it/s, stage=val, epoch=19, loss=0.243, acc=0.000667, correct=0, sample_num=28]\n",
      "  0%|          | 0/124 [00:00<?, ?it/s]"
     ]
    },
    {
     "name": "stdout",
     "output_type": "stream",
     "text": [
      "=> [epoch 019] best val mae was not improved from 7.608 (7.748)\n"
     ]
    },
    {
     "name": "stderr",
     "output_type": "stream",
     "text": [
      "100%|██████████| 124/124 [00:34<00:00,  3.54it/s, stage=train, epoch=20, loss=0.246, acc=0.00202, correct=0, sample_num=32]\n",
      "100%|██████████| 47/47 [00:06<00:00,  7.39it/s, stage=val, epoch=20, loss=0.244, acc=0.000667, correct=0, sample_num=28]\n",
      "  0%|          | 0/124 [00:00<?, ?it/s]"
     ]
    },
    {
     "name": "stdout",
     "output_type": "stream",
     "text": [
      "=> [epoch 020] best val mae was not improved from 7.608 (7.779)\n"
     ]
    },
    {
     "name": "stderr",
     "output_type": "stream",
     "text": [
      "100%|██████████| 124/124 [00:35<00:00,  3.50it/s, stage=train, epoch=21, loss=0.242, acc=0.00151, correct=0, sample_num=32]\n",
      "100%|██████████| 47/47 [00:06<00:00,  7.55it/s, stage=val, epoch=21, loss=0.241, acc=0.000667, correct=0, sample_num=28]\n",
      "  0%|          | 0/124 [00:00<?, ?it/s]"
     ]
    },
    {
     "name": "stdout",
     "output_type": "stream",
     "text": [
      "=> [epoch 021] best val mae was not improved from 7.608 (7.707)\n"
     ]
    },
    {
     "name": "stderr",
     "output_type": "stream",
     "text": [
      "100%|██████████| 124/124 [00:34<00:00,  3.58it/s, stage=train, epoch=22, loss=0.239, acc=0.00252, correct=1, sample_num=32]\n",
      "100%|██████████| 47/47 [00:06<00:00,  7.33it/s, stage=val, epoch=22, loss=0.243, acc=0.000667, correct=0, sample_num=28]\n",
      "  0%|          | 0/124 [00:00<?, ?it/s]"
     ]
    },
    {
     "name": "stdout",
     "output_type": "stream",
     "text": [
      "=> [epoch 022] best val mae was not improved from 7.608 (7.747)\n"
     ]
    },
    {
     "name": "stderr",
     "output_type": "stream",
     "text": [
      "100%|██████████| 124/124 [00:39<00:00,  3.15it/s, stage=train, epoch=23, loss=0.243, acc=0.00202, correct=0, sample_num=32]\n",
      "100%|██████████| 47/47 [00:06<00:00,  7.52it/s, stage=val, epoch=23, loss=0.24, acc=0.000667, correct=0, sample_num=28] \n",
      "  0%|          | 0/124 [00:00<?, ?it/s]"
     ]
    },
    {
     "name": "stdout",
     "output_type": "stream",
     "text": [
      "=> [epoch 023] best val mae was not improved from 7.608 (7.647)\n"
     ]
    },
    {
     "name": "stderr",
     "output_type": "stream",
     "text": [
      "100%|██████████| 124/124 [00:35<00:00,  3.45it/s, stage=train, epoch=24, loss=0.243, acc=0.00101, correct=0, sample_num=32]\n",
      "100%|██████████| 47/47 [00:06<00:00,  7.48it/s, stage=val, epoch=24, loss=0.242, acc=0.000667, correct=0, sample_num=28]\n",
      "  0%|          | 0/124 [00:00<?, ?it/s]"
     ]
    },
    {
     "name": "stdout",
     "output_type": "stream",
     "text": [
      "=> [epoch 024] best val mae was not improved from 7.608 (7.724)\n"
     ]
    },
    {
     "name": "stderr",
     "output_type": "stream",
     "text": [
      "100%|██████████| 124/124 [00:35<00:00,  3.50it/s, stage=train, epoch=25, loss=0.242, acc=0.00176, correct=0, sample_num=32]\n",
      "100%|██████████| 47/47 [00:06<00:00,  7.51it/s, stage=val, epoch=25, loss=0.24, acc=0.000667, correct=0, sample_num=28]\n",
      "  0%|          | 0/124 [00:00<?, ?it/s]"
     ]
    },
    {
     "name": "stdout",
     "output_type": "stream",
     "text": [
      "=> [epoch 025] best val mae was not improved from 7.608 (7.664)\n"
     ]
    },
    {
     "name": "stderr",
     "output_type": "stream",
     "text": [
      "100%|██████████| 124/124 [00:35<00:00,  3.53it/s, stage=train, epoch=26, loss=0.246, acc=0.00126, correct=0, sample_num=32]\n",
      "100%|██████████| 47/47 [00:06<00:00,  7.50it/s, stage=val, epoch=26, loss=0.24, acc=0.000667, correct=0, sample_num=28]\n",
      "  0%|          | 0/124 [00:00<?, ?it/s]"
     ]
    },
    {
     "name": "stdout",
     "output_type": "stream",
     "text": [
      "=> [epoch 026] best val mae was not improved from 7.608 (7.675)\n"
     ]
    },
    {
     "name": "stderr",
     "output_type": "stream",
     "text": [
      "100%|██████████| 124/124 [00:34<00:00,  3.56it/s, stage=train, epoch=27, loss=0.244, acc=0.00227, correct=0, sample_num=32]\n",
      "100%|██████████| 47/47 [00:06<00:00,  7.50it/s, stage=val, epoch=27, loss=0.242, acc=0.000667, correct=0, sample_num=28]\n",
      "  0%|          | 0/124 [00:00<?, ?it/s]"
     ]
    },
    {
     "name": "stdout",
     "output_type": "stream",
     "text": [
      "=> [epoch 027] best val mae was not improved from 7.608 (7.717)\n"
     ]
    },
    {
     "name": "stderr",
     "output_type": "stream",
     "text": [
      "100%|██████████| 124/124 [00:35<00:00,  3.50it/s, stage=train, epoch=28, loss=0.241, acc=0.000252, correct=0, sample_num=32]\n",
      "100%|██████████| 47/47 [00:06<00:00,  7.48it/s, stage=val, epoch=28, loss=0.242, acc=0.000667, correct=0, sample_num=28]\n",
      "  0%|          | 0/124 [00:00<?, ?it/s]"
     ]
    },
    {
     "name": "stdout",
     "output_type": "stream",
     "text": [
      "=> [epoch 028] best val mae was not improved from 7.608 (7.715)\n"
     ]
    },
    {
     "name": "stderr",
     "output_type": "stream",
     "text": [
      "100%|██████████| 124/124 [00:34<00:00,  3.54it/s, stage=train, epoch=29, loss=0.241, acc=0.000252, correct=0, sample_num=32]\n",
      "100%|██████████| 47/47 [00:07<00:00,  6.19it/s, stage=val, epoch=29, loss=0.24, acc=0.000667, correct=0, sample_num=28]\n",
      "  0%|          | 0/124 [00:00<?, ?it/s]"
     ]
    },
    {
     "name": "stdout",
     "output_type": "stream",
     "text": [
      "=> [epoch 029] best val mae was not improved from 7.608 (7.654)\n"
     ]
    },
    {
     "name": "stderr",
     "output_type": "stream",
     "text": [
      "100%|██████████| 124/124 [00:35<00:00,  3.51it/s, stage=train, epoch=30, loss=0.238, acc=0.00101, correct=0, sample_num=32]\n",
      "100%|██████████| 47/47 [00:06<00:00,  7.36it/s, stage=val, epoch=30, loss=0.24, acc=0.000667, correct=0, sample_num=28] \n",
      "  0%|          | 0/124 [00:00<?, ?it/s]"
     ]
    },
    {
     "name": "stdout",
     "output_type": "stream",
     "text": [
      "=> [epoch 030] best val mae was not improved from 7.608 (7.648)\n"
     ]
    },
    {
     "name": "stderr",
     "output_type": "stream",
     "text": [
      "100%|██████████| 124/124 [00:35<00:00,  3.50it/s, stage=train, epoch=31, loss=0.241, acc=0.00126, correct=0, sample_num=32]\n",
      "100%|██████████| 47/47 [00:06<00:00,  7.41it/s, stage=val, epoch=31, loss=0.24, acc=0.000667, correct=0, sample_num=28]\n",
      "  0%|          | 0/124 [00:00<?, ?it/s]"
     ]
    },
    {
     "name": "stdout",
     "output_type": "stream",
     "text": [
      "=> [epoch 031] best val mae was not improved from 7.608 (7.662)\n"
     ]
    },
    {
     "name": "stderr",
     "output_type": "stream",
     "text": [
      "100%|██████████| 124/124 [00:37<00:00,  3.31it/s, stage=train, epoch=32, loss=0.243, acc=0.00126, correct=0, sample_num=32]\n",
      "100%|██████████| 47/47 [00:07<00:00,  6.05it/s, stage=val, epoch=32, loss=0.241, acc=0.000667, correct=0, sample_num=28]\n",
      "  0%|          | 0/124 [00:00<?, ?it/s]"
     ]
    },
    {
     "name": "stdout",
     "output_type": "stream",
     "text": [
      "=> [epoch 032] best val mae was not improved from 7.608 (7.678)\n"
     ]
    },
    {
     "name": "stderr",
     "output_type": "stream",
     "text": [
      "100%|██████████| 124/124 [00:37<00:00,  3.32it/s, stage=train, epoch=33, loss=0.241, acc=0.000504, correct=0, sample_num=32]\n",
      "100%|██████████| 47/47 [00:06<00:00,  7.42it/s, stage=val, epoch=33, loss=0.24, acc=0.000667, correct=0, sample_num=28]\n",
      "  0%|          | 0/124 [00:00<?, ?it/s]"
     ]
    },
    {
     "name": "stdout",
     "output_type": "stream",
     "text": [
      "=> [epoch 033] best val mae was not improved from 7.608 (7.666)\n"
     ]
    },
    {
     "name": "stderr",
     "output_type": "stream",
     "text": [
      "100%|██████████| 124/124 [00:36<00:00,  3.37it/s, stage=train, epoch=34, loss=0.243, acc=0.00151, correct=0, sample_num=32]\n",
      "100%|██████████| 47/47 [00:06<00:00,  7.23it/s, stage=val, epoch=34, loss=0.241, acc=0, correct=0, sample_num=28]\n",
      "  0%|          | 0/124 [00:00<?, ?it/s]"
     ]
    },
    {
     "name": "stdout",
     "output_type": "stream",
     "text": [
      "=> [epoch 034] best val mae was not improved from 7.608 (7.705)\n"
     ]
    },
    {
     "name": "stderr",
     "output_type": "stream",
     "text": [
      "100%|██████████| 124/124 [00:35<00:00,  3.46it/s, stage=train, epoch=35, loss=0.238, acc=0.00101, correct=0, sample_num=32] \n",
      "100%|██████████| 47/47 [00:06<00:00,  7.32it/s, stage=val, epoch=35, loss=0.242, acc=0.000667, correct=0, sample_num=28]\n",
      "  0%|          | 0/124 [00:00<?, ?it/s]"
     ]
    },
    {
     "name": "stdout",
     "output_type": "stream",
     "text": [
      "=> [epoch 035] best val mae was not improved from 7.608 (7.715)\n"
     ]
    },
    {
     "name": "stderr",
     "output_type": "stream",
     "text": [
      "100%|██████████| 124/124 [00:35<00:00,  3.45it/s, stage=train, epoch=36, loss=0.243, acc=0.00126, correct=0, sample_num=32]\n",
      "100%|██████████| 47/47 [00:06<00:00,  7.39it/s, stage=val, epoch=36, loss=0.239, acc=0.000667, correct=0, sample_num=28]\n",
      "  0%|          | 0/124 [00:00<?, ?it/s]"
     ]
    },
    {
     "name": "stdout",
     "output_type": "stream",
     "text": [
      "=> [epoch 036] best val mae was not improved from 7.608 (7.631)\n"
     ]
    },
    {
     "name": "stderr",
     "output_type": "stream",
     "text": [
      "100%|██████████| 124/124 [00:36<00:00,  3.43it/s, stage=train, epoch=37, loss=0.243, acc=0.00151, correct=0, sample_num=32]\n",
      "100%|██████████| 47/47 [00:06<00:00,  7.26it/s, stage=val, epoch=37, loss=0.241, acc=0.000667, correct=0, sample_num=28]\n",
      "  0%|          | 0/124 [00:00<?, ?it/s]"
     ]
    },
    {
     "name": "stdout",
     "output_type": "stream",
     "text": [
      "=> [epoch 037] best val mae was not improved from 7.608 (7.677)\n"
     ]
    },
    {
     "name": "stderr",
     "output_type": "stream",
     "text": [
      "100%|██████████| 124/124 [00:35<00:00,  3.48it/s, stage=train, epoch=38, loss=0.244, acc=0.00101, correct=0, sample_num=32]\n",
      "100%|██████████| 47/47 [00:06<00:00,  7.38it/s, stage=val, epoch=38, loss=0.241, acc=0, correct=0, sample_num=28]\n",
      "  0%|          | 0/124 [00:00<?, ?it/s]"
     ]
    },
    {
     "name": "stdout",
     "output_type": "stream",
     "text": [
      "=> [epoch 038] best val mae was not improved from 7.608 (7.696)\n"
     ]
    },
    {
     "name": "stderr",
     "output_type": "stream",
     "text": [
      "100%|██████████| 124/124 [00:35<00:00,  3.46it/s, stage=train, epoch=39, loss=0.24, acc=0.00176, correct=0, sample_num=32] \n",
      "100%|██████████| 47/47 [00:06<00:00,  7.42it/s, stage=val, epoch=39, loss=0.238, acc=0.000667, correct=0, sample_num=28]\n",
      "  0%|          | 0/124 [00:00<?, ?it/s]"
     ]
    },
    {
     "name": "stdout",
     "output_type": "stream",
     "text": [
      "=> [epoch 039] best val mae was not improved from 7.608 (7.613)\n"
     ]
    },
    {
     "name": "stderr",
     "output_type": "stream",
     "text": [
      "100%|██████████| 124/124 [00:36<00:00,  3.38it/s, stage=train, epoch=40, loss=0.241, acc=0.00151, correct=0, sample_num=32]\n",
      "100%|██████████| 47/47 [00:06<00:00,  7.39it/s, stage=val, epoch=40, loss=0.239, acc=0.000667, correct=0, sample_num=28]\n",
      "  0%|          | 0/124 [00:00<?, ?it/s]"
     ]
    },
    {
     "name": "stdout",
     "output_type": "stream",
     "text": [
      "=> [epoch 040] best val mae was not improved from 7.608 (7.645)\n"
     ]
    },
    {
     "name": "stderr",
     "output_type": "stream",
     "text": [
      "100%|██████████| 124/124 [00:35<00:00,  3.50it/s, stage=train, epoch=41, loss=0.241, acc=0.00151, correct=0, sample_num=32]\n",
      "100%|██████████| 47/47 [00:06<00:00,  7.39it/s, stage=val, epoch=41, loss=0.241, acc=0.000667, correct=0, sample_num=28]\n",
      "  0%|          | 0/124 [00:00<?, ?it/s]"
     ]
    },
    {
     "name": "stdout",
     "output_type": "stream",
     "text": [
      "=> [epoch 041] best val mae was not improved from 7.608 (7.690)\n"
     ]
    },
    {
     "name": "stderr",
     "output_type": "stream",
     "text": [
      "100%|██████████| 124/124 [00:35<00:00,  3.46it/s, stage=train, epoch=42, loss=0.24, acc=0.00202, correct=0, sample_num=32] \n",
      "100%|██████████| 47/47 [00:06<00:00,  7.42it/s, stage=val, epoch=42, loss=0.241, acc=0.000667, correct=0, sample_num=28]\n",
      "  0%|          | 0/124 [00:00<?, ?it/s]"
     ]
    },
    {
     "name": "stdout",
     "output_type": "stream",
     "text": [
      "=> [epoch 042] best val mae was not improved from 7.608 (7.705)\n"
     ]
    },
    {
     "name": "stderr",
     "output_type": "stream",
     "text": [
      "100%|██████████| 124/124 [00:36<00:00,  3.36it/s, stage=train, epoch=43, loss=0.243, acc=0.00126, correct=0, sample_num=32]\n",
      "100%|██████████| 47/47 [00:06<00:00,  6.87it/s, stage=val, epoch=43, loss=0.24, acc=0.000667, correct=0, sample_num=28]\n",
      "  0%|          | 0/124 [00:00<?, ?it/s]"
     ]
    },
    {
     "name": "stdout",
     "output_type": "stream",
     "text": [
      "=> [epoch 043] best val mae was not improved from 7.608 (7.669)\n"
     ]
    },
    {
     "name": "stderr",
     "output_type": "stream",
     "text": [
      "100%|██████████| 124/124 [00:35<00:00,  3.45it/s, stage=train, epoch=44, loss=0.244, acc=0.000756, correct=0, sample_num=32]\n",
      "100%|██████████| 47/47 [00:06<00:00,  7.21it/s, stage=val, epoch=44, loss=0.239, acc=0, correct=0, sample_num=28]\n",
      "  0%|          | 0/124 [00:00<?, ?it/s]"
     ]
    },
    {
     "name": "stdout",
     "output_type": "stream",
     "text": [
      "=> [epoch 044] best val mae was not improved from 7.608 (7.633)\n"
     ]
    },
    {
     "name": "stderr",
     "output_type": "stream",
     "text": [
      "100%|██████████| 124/124 [00:38<00:00,  3.19it/s, stage=train, epoch=45, loss=0.241, acc=0.00151, correct=0, sample_num=32]\n",
      "100%|██████████| 47/47 [00:06<00:00,  6.91it/s, stage=val, epoch=45, loss=0.241, acc=0.000667, correct=0, sample_num=28]\n",
      "  0%|          | 0/124 [00:00<?, ?it/s]"
     ]
    },
    {
     "name": "stdout",
     "output_type": "stream",
     "text": [
      "=> [epoch 045] best val mae was not improved from 7.608 (7.680)\n"
     ]
    },
    {
     "name": "stderr",
     "output_type": "stream",
     "text": [
      "100%|██████████| 124/124 [00:37<00:00,  3.33it/s, stage=train, epoch=46, loss=0.236, acc=0.00202, correct=0, sample_num=32]\n",
      "100%|██████████| 47/47 [00:07<00:00,  6.22it/s, stage=val, epoch=46, loss=0.242, acc=0.000667, correct=0, sample_num=28]\n",
      "  0%|          | 0/124 [00:00<?, ?it/s]"
     ]
    },
    {
     "name": "stdout",
     "output_type": "stream",
     "text": [
      "=> [epoch 046] best val mae was not improved from 7.608 (7.723)\n"
     ]
    },
    {
     "name": "stderr",
     "output_type": "stream",
     "text": [
      "100%|██████████| 124/124 [00:40<00:00,  3.05it/s, stage=train, epoch=47, loss=0.24, acc=0.00176, correct=0, sample_num=32] \n",
      "100%|██████████| 47/47 [00:07<00:00,  6.46it/s, stage=val, epoch=47, loss=0.241, acc=0.000667, correct=0, sample_num=28]\n",
      "  0%|          | 0/124 [00:00<?, ?it/s]"
     ]
    },
    {
     "name": "stdout",
     "output_type": "stream",
     "text": [
      "=> [epoch 047] best val mae was not improved from 7.608 (7.693)\n"
     ]
    },
    {
     "name": "stderr",
     "output_type": "stream",
     "text": [
      "100%|██████████| 124/124 [00:38<00:00,  3.21it/s, stage=train, epoch=48, loss=0.244, acc=0.00176, correct=0, sample_num=32]\n",
      "100%|██████████| 47/47 [00:06<00:00,  7.00it/s, stage=val, epoch=48, loss=0.239, acc=0, correct=0, sample_num=28]\n",
      "  0%|          | 0/124 [00:00<?, ?it/s]"
     ]
    },
    {
     "name": "stdout",
     "output_type": "stream",
     "text": [
      "=> [epoch 048] best val mae was not improved from 7.608 (7.634)\n"
     ]
    },
    {
     "name": "stderr",
     "output_type": "stream",
     "text": [
      "100%|██████████| 124/124 [00:34<00:00,  3.55it/s, stage=train, epoch=49, loss=0.242, acc=0.00277, correct=0, sample_num=32]\n",
      "100%|██████████| 47/47 [00:05<00:00,  7.84it/s, stage=val, epoch=49, loss=0.241, acc=0.000667, correct=0, sample_num=28]\n",
      "  0%|          | 0/124 [00:00<?, ?it/s]"
     ]
    },
    {
     "name": "stdout",
     "output_type": "stream",
     "text": [
      "=> [epoch 049] best val mae was not improved from 7.608 (7.693)\n"
     ]
    },
    {
     "name": "stderr",
     "output_type": "stream",
     "text": [
      "100%|██████████| 124/124 [00:32<00:00,  3.78it/s, stage=train, epoch=50, loss=0.241, acc=0.000252, correct=0, sample_num=32]\n",
      "100%|██████████| 47/47 [00:05<00:00,  7.87it/s, stage=val, epoch=50, loss=0.24, acc=0.000667, correct=0, sample_num=28]\n",
      "  0%|          | 0/124 [00:00<?, ?it/s]"
     ]
    },
    {
     "name": "stdout",
     "output_type": "stream",
     "text": [
      "=> [epoch 050] best val mae was not improved from 7.608 (7.670)\n"
     ]
    },
    {
     "name": "stderr",
     "output_type": "stream",
     "text": [
      "100%|██████████| 124/124 [00:32<00:00,  3.76it/s, stage=train, epoch=51, loss=0.24, acc=0.00151, correct=0, sample_num=32] \n",
      "100%|██████████| 47/47 [00:05<00:00,  7.83it/s, stage=val, epoch=51, loss=0.241, acc=0.000667, correct=0, sample_num=28]\n",
      "  0%|          | 0/124 [00:00<?, ?it/s]"
     ]
    },
    {
     "name": "stdout",
     "output_type": "stream",
     "text": [
      "=> [epoch 051] best val mae was not improved from 7.608 (7.693)\n"
     ]
    },
    {
     "name": "stderr",
     "output_type": "stream",
     "text": [
      "100%|██████████| 124/124 [00:33<00:00,  3.73it/s, stage=train, epoch=52, loss=0.241, acc=0.00101, correct=0, sample_num=32]\n",
      "100%|██████████| 47/47 [00:05<00:00,  7.90it/s, stage=val, epoch=52, loss=0.24, acc=0.000667, correct=0, sample_num=28]\n",
      "  0%|          | 0/124 [00:00<?, ?it/s]"
     ]
    },
    {
     "name": "stdout",
     "output_type": "stream",
     "text": [
      "=> [epoch 052] best val mae was not improved from 7.608 (7.663)\n"
     ]
    },
    {
     "name": "stderr",
     "output_type": "stream",
     "text": [
      "100%|██████████| 124/124 [00:32<00:00,  3.78it/s, stage=train, epoch=53, loss=0.243, acc=0.00101, correct=0, sample_num=32]\n",
      "100%|██████████| 47/47 [00:05<00:00,  7.84it/s, stage=val, epoch=53, loss=0.239, acc=0.000667, correct=0, sample_num=28]\n",
      "  0%|          | 0/124 [00:00<?, ?it/s]"
     ]
    },
    {
     "name": "stdout",
     "output_type": "stream",
     "text": [
      "=> [epoch 053] best val mae was not improved from 7.608 (7.642)\n"
     ]
    },
    {
     "name": "stderr",
     "output_type": "stream",
     "text": [
      "100%|██████████| 124/124 [00:34<00:00,  3.60it/s, stage=train, epoch=54, loss=0.239, acc=0.00227, correct=0, sample_num=32]\n",
      "100%|██████████| 47/47 [00:05<00:00,  7.85it/s, stage=val, epoch=54, loss=0.24, acc=0.000667, correct=0, sample_num=28]\n",
      "  0%|          | 0/124 [00:00<?, ?it/s]"
     ]
    },
    {
     "name": "stdout",
     "output_type": "stream",
     "text": [
      "=> [epoch 054] best val mae was not improved from 7.608 (7.656)\n"
     ]
    },
    {
     "name": "stderr",
     "output_type": "stream",
     "text": [
      "100%|██████████| 124/124 [00:34<00:00,  3.56it/s, stage=train, epoch=55, loss=0.239, acc=0.00227, correct=0, sample_num=32]\n",
      "100%|██████████| 47/47 [00:06<00:00,  7.11it/s, stage=val, epoch=55, loss=0.239, acc=0.000667, correct=0, sample_num=28]\n",
      "  0%|          | 0/124 [00:00<?, ?it/s]"
     ]
    },
    {
     "name": "stdout",
     "output_type": "stream",
     "text": [
      "=> [epoch 055] best val mae was not improved from 7.608 (7.637)\n"
     ]
    },
    {
     "name": "stderr",
     "output_type": "stream",
     "text": [
      "100%|██████████| 124/124 [00:33<00:00,  3.74it/s, stage=train, epoch=56, loss=0.238, acc=0.00202, correct=0, sample_num=32]\n",
      "100%|██████████| 47/47 [00:05<00:00,  7.85it/s, stage=val, epoch=56, loss=0.24, acc=0, correct=0, sample_num=28] \n",
      "  0%|          | 0/124 [00:00<?, ?it/s]"
     ]
    },
    {
     "name": "stdout",
     "output_type": "stream",
     "text": [
      "=> [epoch 056] best val mae was not improved from 7.608 (7.650)\n"
     ]
    },
    {
     "name": "stderr",
     "output_type": "stream",
     "text": [
      "100%|██████████| 124/124 [00:35<00:00,  3.51it/s, stage=train, epoch=57, loss=0.239, acc=0.00176, correct=0, sample_num=32]\n",
      "100%|██████████| 47/47 [00:05<00:00,  8.03it/s, stage=val, epoch=57, loss=0.239, acc=0, correct=0, sample_num=28]\n",
      "  0%|          | 0/124 [00:00<?, ?it/s]"
     ]
    },
    {
     "name": "stdout",
     "output_type": "stream",
     "text": [
      "=> [epoch 057] best val mae was not improved from 7.608 (7.627)\n"
     ]
    },
    {
     "name": "stderr",
     "output_type": "stream",
     "text": [
      "100%|██████████| 124/124 [00:31<00:00,  3.88it/s, stage=train, epoch=58, loss=0.242, acc=0.00151, correct=1, sample_num=32] \n",
      "100%|██████████| 47/47 [00:05<00:00,  8.08it/s, stage=val, epoch=58, loss=0.242, acc=0.000667, correct=0, sample_num=28]\n",
      "  0%|          | 0/124 [00:00<?, ?it/s]"
     ]
    },
    {
     "name": "stdout",
     "output_type": "stream",
     "text": [
      "=> [epoch 058] best val mae was not improved from 7.608 (7.710)\n"
     ]
    },
    {
     "name": "stderr",
     "output_type": "stream",
     "text": [
      "100%|██████████| 124/124 [00:31<00:00,  3.88it/s, stage=train, epoch=59, loss=0.243, acc=0.00151, correct=0, sample_num=32]\n",
      "100%|██████████| 47/47 [00:05<00:00,  8.14it/s, stage=val, epoch=59, loss=0.241, acc=0.000667, correct=0, sample_num=28]\n",
      "  0%|          | 0/124 [00:00<?, ?it/s]"
     ]
    },
    {
     "name": "stdout",
     "output_type": "stream",
     "text": [
      "=> [epoch 059] best val mae was not improved from 7.608 (7.688)\n"
     ]
    },
    {
     "name": "stderr",
     "output_type": "stream",
     "text": [
      "100%|██████████| 124/124 [00:32<00:00,  3.84it/s, stage=train, epoch=60, loss=0.242, acc=0.000756, correct=0, sample_num=32]\n",
      "100%|██████████| 47/47 [00:05<00:00,  8.11it/s, stage=val, epoch=60, loss=0.241, acc=0, correct=0, sample_num=28]\n",
      "  0%|          | 0/124 [00:00<?, ?it/s]"
     ]
    },
    {
     "name": "stdout",
     "output_type": "stream",
     "text": [
      "=> [epoch 060] best val mae was not improved from 7.608 (7.707)\n"
     ]
    },
    {
     "name": "stderr",
     "output_type": "stream",
     "text": [
      "100%|██████████| 124/124 [00:32<00:00,  3.82it/s, stage=train, epoch=61, loss=0.241, acc=0.00101, correct=0, sample_num=32] \n",
      "100%|██████████| 47/47 [00:05<00:00,  8.11it/s, stage=val, epoch=61, loss=0.241, acc=0.000667, correct=0, sample_num=28]\n",
      "  0%|          | 0/124 [00:00<?, ?it/s]"
     ]
    },
    {
     "name": "stdout",
     "output_type": "stream",
     "text": [
      "=> [epoch 061] best val mae was not improved from 7.608 (7.679)\n"
     ]
    },
    {
     "name": "stderr",
     "output_type": "stream",
     "text": [
      "100%|██████████| 124/124 [00:32<00:00,  3.87it/s, stage=train, epoch=62, loss=0.241, acc=0.00151, correct=0, sample_num=32]\n",
      "100%|██████████| 47/47 [00:05<00:00,  8.27it/s, stage=val, epoch=62, loss=0.24, acc=0.000667, correct=0, sample_num=28]\n",
      "  0%|          | 0/124 [00:00<?, ?it/s]"
     ]
    },
    {
     "name": "stdout",
     "output_type": "stream",
     "text": [
      "=> [epoch 062] best val mae was not improved from 7.608 (7.659)\n"
     ]
    },
    {
     "name": "stderr",
     "output_type": "stream",
     "text": [
      "100%|██████████| 124/124 [00:35<00:00,  3.45it/s, stage=train, epoch=63, loss=0.237, acc=0.00126, correct=0, sample_num=32] \n",
      "100%|██████████| 47/47 [00:05<00:00,  8.06it/s, stage=val, epoch=63, loss=0.24, acc=0, correct=0, sample_num=28] \n",
      "  0%|          | 0/124 [00:00<?, ?it/s]"
     ]
    },
    {
     "name": "stdout",
     "output_type": "stream",
     "text": [
      "=> [epoch 063] best val mae was not improved from 7.608 (7.666)\n"
     ]
    },
    {
     "name": "stderr",
     "output_type": "stream",
     "text": [
      "100%|██████████| 124/124 [00:36<00:00,  3.36it/s, stage=train, epoch=64, loss=0.242, acc=0.00151, correct=0, sample_num=32]\n",
      "100%|██████████| 47/47 [00:06<00:00,  7.83it/s, stage=val, epoch=64, loss=0.24, acc=0.000667, correct=0, sample_num=28]\n",
      "  0%|          | 0/124 [00:00<?, ?it/s]"
     ]
    },
    {
     "name": "stdout",
     "output_type": "stream",
     "text": [
      "=> [epoch 064] best val mae was not improved from 7.608 (7.662)\n"
     ]
    },
    {
     "name": "stderr",
     "output_type": "stream",
     "text": [
      "100%|██████████| 124/124 [00:33<00:00,  3.67it/s, stage=train, epoch=65, loss=0.246, acc=0.000756, correct=0, sample_num=32]\n",
      "100%|██████████| 47/47 [00:06<00:00,  7.06it/s, stage=val, epoch=65, loss=0.24, acc=0.000667, correct=0, sample_num=28]\n",
      "  0%|          | 0/124 [00:00<?, ?it/s]"
     ]
    },
    {
     "name": "stdout",
     "output_type": "stream",
     "text": [
      "=> [epoch 065] best val mae was not improved from 7.608 (7.677)\n"
     ]
    },
    {
     "name": "stderr",
     "output_type": "stream",
     "text": [
      "100%|██████████| 124/124 [00:34<00:00,  3.64it/s, stage=train, epoch=66, loss=0.239, acc=0.00126, correct=0, sample_num=32]\n",
      "100%|██████████| 47/47 [00:05<00:00,  7.90it/s, stage=val, epoch=66, loss=0.241, acc=0, correct=0, sample_num=28]\n",
      "  0%|          | 0/124 [00:00<?, ?it/s]"
     ]
    },
    {
     "name": "stdout",
     "output_type": "stream",
     "text": [
      "=> [epoch 066] best val mae was not improved from 7.608 (7.682)\n"
     ]
    },
    {
     "name": "stderr",
     "output_type": "stream",
     "text": [
      "100%|██████████| 124/124 [00:34<00:00,  3.61it/s, stage=train, epoch=67, loss=0.242, acc=0.00126, correct=0, sample_num=32] \n",
      "100%|██████████| 47/47 [00:07<00:00,  6.21it/s, stage=val, epoch=67, loss=0.242, acc=0.000667, correct=0, sample_num=28]\n",
      "  0%|          | 0/124 [00:00<?, ?it/s]"
     ]
    },
    {
     "name": "stdout",
     "output_type": "stream",
     "text": [
      "=> [epoch 067] best val mae was not improved from 7.608 (7.714)\n"
     ]
    },
    {
     "name": "stderr",
     "output_type": "stream",
     "text": [
      "100%|██████████| 124/124 [00:34<00:00,  3.59it/s, stage=train, epoch=68, loss=0.241, acc=0.00151, correct=0, sample_num=32]\n",
      "100%|██████████| 47/47 [00:06<00:00,  7.79it/s, stage=val, epoch=68, loss=0.24, acc=0.000667, correct=0, sample_num=28]\n",
      "  0%|          | 0/124 [00:00<?, ?it/s]"
     ]
    },
    {
     "name": "stdout",
     "output_type": "stream",
     "text": [
      "=> [epoch 068] best val mae was not improved from 7.608 (7.659)\n"
     ]
    },
    {
     "name": "stderr",
     "output_type": "stream",
     "text": [
      "100%|██████████| 124/124 [00:34<00:00,  3.54it/s, stage=train, epoch=69, loss=0.243, acc=0.00277, correct=0, sample_num=32]\n",
      "100%|██████████| 47/47 [00:06<00:00,  7.73it/s, stage=val, epoch=69, loss=0.242, acc=0.000667, correct=0, sample_num=28]\n",
      "  0%|          | 0/124 [00:00<?, ?it/s]"
     ]
    },
    {
     "name": "stdout",
     "output_type": "stream",
     "text": [
      "=> [epoch 069] best val mae was not improved from 7.608 (7.712)\n"
     ]
    },
    {
     "name": "stderr",
     "output_type": "stream",
     "text": [
      "100%|██████████| 124/124 [00:34<00:00,  3.64it/s, stage=train, epoch=70, loss=0.242, acc=0.00227, correct=0, sample_num=32]\n",
      "100%|██████████| 47/47 [00:05<00:00,  7.89it/s, stage=val, epoch=70, loss=0.24, acc=0.000667, correct=0, sample_num=28]\n",
      "  0%|          | 0/124 [00:00<?, ?it/s]"
     ]
    },
    {
     "name": "stdout",
     "output_type": "stream",
     "text": [
      "=> [epoch 070] best val mae was not improved from 7.608 (7.677)\n"
     ]
    },
    {
     "name": "stderr",
     "output_type": "stream",
     "text": [
      "100%|██████████| 124/124 [00:34<00:00,  3.59it/s, stage=train, epoch=71, loss=0.244, acc=0.000756, correct=0, sample_num=32]\n",
      "100%|██████████| 47/47 [00:05<00:00,  7.85it/s, stage=val, epoch=71, loss=0.24, acc=0.000667, correct=0, sample_num=28]\n",
      "  0%|          | 0/124 [00:00<?, ?it/s]"
     ]
    },
    {
     "name": "stdout",
     "output_type": "stream",
     "text": [
      "=> [epoch 071] best val mae was not improved from 7.608 (7.654)\n"
     ]
    },
    {
     "name": "stderr",
     "output_type": "stream",
     "text": [
      "100%|██████████| 124/124 [00:34<00:00,  3.57it/s, stage=train, epoch=72, loss=0.239, acc=0.00151, correct=0, sample_num=32] \n",
      "100%|██████████| 47/47 [00:06<00:00,  7.66it/s, stage=val, epoch=72, loss=0.24, acc=0, correct=0, sample_num=28] \n",
      "  0%|          | 0/124 [00:00<?, ?it/s]"
     ]
    },
    {
     "name": "stdout",
     "output_type": "stream",
     "text": [
      "=> [epoch 072] best val mae was not improved from 7.608 (7.651)\n"
     ]
    },
    {
     "name": "stderr",
     "output_type": "stream",
     "text": [
      "100%|██████████| 124/124 [00:34<00:00,  3.62it/s, stage=train, epoch=73, loss=0.24, acc=0.00202, correct=0, sample_num=32] \n",
      "100%|██████████| 47/47 [00:06<00:00,  7.80it/s, stage=val, epoch=73, loss=0.241, acc=0.000667, correct=0, sample_num=28]\n",
      "  0%|          | 0/124 [00:00<?, ?it/s]"
     ]
    },
    {
     "name": "stdout",
     "output_type": "stream",
     "text": [
      "=> [epoch 073] best val mae was not improved from 7.608 (7.704)\n"
     ]
    },
    {
     "name": "stderr",
     "output_type": "stream",
     "text": [
      "100%|██████████| 124/124 [00:36<00:00,  3.37it/s, stage=train, epoch=74, loss=0.245, acc=0.00101, correct=0, sample_num=32]\n",
      "100%|██████████| 47/47 [00:06<00:00,  6.94it/s, stage=val, epoch=74, loss=0.241, acc=0.000667, correct=0, sample_num=28]\n",
      "  0%|          | 0/124 [00:00<?, ?it/s]"
     ]
    },
    {
     "name": "stdout",
     "output_type": "stream",
     "text": [
      "=> [epoch 074] best val mae was not improved from 7.608 (7.678)\n"
     ]
    },
    {
     "name": "stderr",
     "output_type": "stream",
     "text": [
      "100%|██████████| 124/124 [00:39<00:00,  3.16it/s, stage=train, epoch=75, loss=0.238, acc=0.00176, correct=0, sample_num=32]\n",
      "100%|██████████| 47/47 [00:05<00:00,  8.04it/s, stage=val, epoch=75, loss=0.24, acc=0.000667, correct=0, sample_num=28]\n",
      "  0%|          | 0/124 [00:00<?, ?it/s]"
     ]
    },
    {
     "name": "stdout",
     "output_type": "stream",
     "text": [
      "=> [epoch 075] best val mae was not improved from 7.608 (7.667)\n"
     ]
    },
    {
     "name": "stderr",
     "output_type": "stream",
     "text": [
      "100%|██████████| 124/124 [00:32<00:00,  3.78it/s, stage=train, epoch=76, loss=0.242, acc=0.00227, correct=1, sample_num=32]\n",
      "100%|██████████| 47/47 [00:05<00:00,  8.10it/s, stage=val, epoch=76, loss=0.241, acc=0.000667, correct=0, sample_num=28]\n",
      "  0%|          | 0/124 [00:00<?, ?it/s]"
     ]
    },
    {
     "name": "stdout",
     "output_type": "stream",
     "text": [
      "=> [epoch 076] best val mae was not improved from 7.608 (7.682)\n"
     ]
    },
    {
     "name": "stderr",
     "output_type": "stream",
     "text": [
      "100%|██████████| 124/124 [00:32<00:00,  3.81it/s, stage=train, epoch=77, loss=0.242, acc=0.00151, correct=0, sample_num=32] \n",
      "100%|██████████| 47/47 [00:05<00:00,  8.12it/s, stage=val, epoch=77, loss=0.241, acc=0.000667, correct=0, sample_num=28]\n",
      "  0%|          | 0/124 [00:00<?, ?it/s]"
     ]
    },
    {
     "name": "stdout",
     "output_type": "stream",
     "text": [
      "=> [epoch 077] best val mae was not improved from 7.608 (7.698)\n"
     ]
    },
    {
     "name": "stderr",
     "output_type": "stream",
     "text": [
      "100%|██████████| 124/124 [00:32<00:00,  3.86it/s, stage=train, epoch=78, loss=0.243, acc=0.000504, correct=0, sample_num=32]\n",
      "100%|██████████| 47/47 [00:05<00:00,  8.02it/s, stage=val, epoch=78, loss=0.239, acc=0.000667, correct=0, sample_num=28]\n",
      "  0%|          | 0/124 [00:00<?, ?it/s]"
     ]
    },
    {
     "name": "stdout",
     "output_type": "stream",
     "text": [
      "=> [epoch 078] best val mae was not improved from 7.608 (7.635)\n"
     ]
    },
    {
     "name": "stderr",
     "output_type": "stream",
     "text": [
      "100%|██████████| 124/124 [00:32<00:00,  3.82it/s, stage=train, epoch=79, loss=0.241, acc=0.00101, correct=0, sample_num=32]\n",
      "100%|██████████| 47/47 [00:05<00:00,  8.09it/s, stage=val, epoch=79, loss=0.241, acc=0.000667, correct=0, sample_num=28]\n",
      "  0%|          | 0/124 [00:00<?, ?it/s]"
     ]
    },
    {
     "name": "stdout",
     "output_type": "stream",
     "text": [
      "=> [epoch 079] best val mae was not improved from 7.608 (7.698)\n"
     ]
    },
    {
     "name": "stderr",
     "output_type": "stream",
     "text": [
      "100%|██████████| 124/124 [00:32<00:00,  3.83it/s, stage=train, epoch=80, loss=0.24, acc=0.00151, correct=0, sample_num=32] \n",
      "100%|██████████| 47/47 [00:05<00:00,  7.99it/s, stage=val, epoch=80, loss=0.241, acc=0.000667, correct=0, sample_num=28]\n",
      "  0%|          | 0/124 [00:00<?, ?it/s]"
     ]
    },
    {
     "name": "stdout",
     "output_type": "stream",
     "text": [
      "=> [epoch 080] best val mae was not improved from 7.608 (7.689)\n"
     ]
    },
    {
     "name": "stderr",
     "output_type": "stream",
     "text": [
      "100%|██████████| 124/124 [00:32<00:00,  3.83it/s, stage=train, epoch=81, loss=0.24, acc=0.00126, correct=0, sample_num=32] \n",
      "100%|██████████| 47/47 [00:05<00:00,  8.10it/s, stage=val, epoch=81, loss=0.241, acc=0.000667, correct=0, sample_num=28]\n",
      "  0%|          | 0/124 [00:00<?, ?it/s]"
     ]
    },
    {
     "name": "stdout",
     "output_type": "stream",
     "text": [
      "=> [epoch 081] best val mae was not improved from 7.608 (7.683)\n"
     ]
    },
    {
     "name": "stderr",
     "output_type": "stream",
     "text": [
      "100%|██████████| 124/124 [00:33<00:00,  3.72it/s, stage=train, epoch=82, loss=0.242, acc=0.00126, correct=0, sample_num=32] \n",
      "100%|██████████| 47/47 [00:05<00:00,  8.07it/s, stage=val, epoch=82, loss=0.241, acc=0.000667, correct=0, sample_num=28]\n",
      "  0%|          | 0/124 [00:00<?, ?it/s]"
     ]
    },
    {
     "name": "stdout",
     "output_type": "stream",
     "text": [
      "=> [epoch 082] best val mae was not improved from 7.608 (7.684)\n"
     ]
    },
    {
     "name": "stderr",
     "output_type": "stream",
     "text": [
      "100%|██████████| 124/124 [00:32<00:00,  3.87it/s, stage=train, epoch=83, loss=0.24, acc=0.00176, correct=0, sample_num=32] \n",
      "100%|██████████| 47/47 [00:05<00:00,  8.09it/s, stage=val, epoch=83, loss=0.241, acc=0.000667, correct=0, sample_num=28]\n",
      "  0%|          | 0/124 [00:00<?, ?it/s]"
     ]
    },
    {
     "name": "stdout",
     "output_type": "stream",
     "text": [
      "=> [epoch 083] best val mae was not improved from 7.608 (7.687)\n"
     ]
    },
    {
     "name": "stderr",
     "output_type": "stream",
     "text": [
      "100%|██████████| 124/124 [00:32<00:00,  3.84it/s, stage=train, epoch=84, loss=0.241, acc=0.00176, correct=0, sample_num=32]\n",
      "100%|██████████| 47/47 [00:05<00:00,  8.12it/s, stage=val, epoch=84, loss=0.24, acc=0.000667, correct=0, sample_num=28]\n",
      "  0%|          | 0/124 [00:00<?, ?it/s]"
     ]
    },
    {
     "name": "stdout",
     "output_type": "stream",
     "text": [
      "=> [epoch 084] best val mae was not improved from 7.608 (7.660)\n"
     ]
    },
    {
     "name": "stderr",
     "output_type": "stream",
     "text": [
      "100%|██████████| 124/124 [00:32<00:00,  3.79it/s, stage=train, epoch=85, loss=0.245, acc=0.00176, correct=1, sample_num=32]\n",
      "100%|██████████| 47/47 [00:05<00:00,  8.14it/s, stage=val, epoch=85, loss=0.241, acc=0.000667, correct=0, sample_num=28]\n",
      "  0%|          | 0/124 [00:00<?, ?it/s]"
     ]
    },
    {
     "name": "stdout",
     "output_type": "stream",
     "text": [
      "=> [epoch 085] best val mae was not improved from 7.608 (7.678)\n"
     ]
    },
    {
     "name": "stderr",
     "output_type": "stream",
     "text": [
      "100%|██████████| 124/124 [00:32<00:00,  3.86it/s, stage=train, epoch=86, loss=0.241, acc=0.00126, correct=0, sample_num=32]\n",
      "100%|██████████| 47/47 [00:05<00:00,  8.03it/s, stage=val, epoch=86, loss=0.241, acc=0.000667, correct=0, sample_num=28]\n",
      "  0%|          | 0/124 [00:00<?, ?it/s]"
     ]
    },
    {
     "name": "stdout",
     "output_type": "stream",
     "text": [
      "=> [epoch 086] best val mae was not improved from 7.608 (7.696)\n"
     ]
    },
    {
     "name": "stderr",
     "output_type": "stream",
     "text": [
      "100%|██████████| 124/124 [00:32<00:00,  3.87it/s, stage=train, epoch=87, loss=0.244, acc=0.000504, correct=0, sample_num=32]\n",
      "100%|██████████| 47/47 [00:05<00:00,  8.10it/s, stage=val, epoch=87, loss=0.24, acc=0.000667, correct=0, sample_num=28]\n",
      "  0%|          | 0/124 [00:00<?, ?it/s]"
     ]
    },
    {
     "name": "stdout",
     "output_type": "stream",
     "text": [
      "=> [epoch 087] best val mae was not improved from 7.608 (7.649)\n"
     ]
    },
    {
     "name": "stderr",
     "output_type": "stream",
     "text": [
      "100%|██████████| 124/124 [00:35<00:00,  3.53it/s, stage=train, epoch=88, loss=0.245, acc=0.00176, correct=0, sample_num=32]\n",
      "100%|██████████| 47/47 [00:06<00:00,  7.13it/s, stage=val, epoch=88, loss=0.241, acc=0.000667, correct=0, sample_num=28]\n",
      "  0%|          | 0/124 [00:00<?, ?it/s]"
     ]
    },
    {
     "name": "stdout",
     "output_type": "stream",
     "text": [
      "=> [epoch 088] best val mae was not improved from 7.608 (7.680)\n"
     ]
    },
    {
     "name": "stderr",
     "output_type": "stream",
     "text": [
      "100%|██████████| 124/124 [00:31<00:00,  3.92it/s, stage=train, epoch=89, loss=0.242, acc=0.00151, correct=0, sample_num=32]\n",
      "100%|██████████| 47/47 [00:05<00:00,  8.20it/s, stage=val, epoch=89, loss=0.241, acc=0.000667, correct=0, sample_num=28]\n",
      "  0%|          | 0/124 [00:00<?, ?it/s]"
     ]
    },
    {
     "name": "stdout",
     "output_type": "stream",
     "text": [
      "=> [epoch 089] best val mae was not improved from 7.608 (7.701)\n"
     ]
    },
    {
     "name": "stderr",
     "output_type": "stream",
     "text": [
      "100%|██████████| 124/124 [00:32<00:00,  3.87it/s, stage=train, epoch=90, loss=0.239, acc=0.00202, correct=0, sample_num=32]\n",
      "100%|██████████| 47/47 [00:05<00:00,  8.14it/s, stage=val, epoch=90, loss=0.24, acc=0, correct=0, sample_num=28] \n",
      "  0%|          | 0/124 [00:00<?, ?it/s]"
     ]
    },
    {
     "name": "stdout",
     "output_type": "stream",
     "text": [
      "=> [epoch 090] best val mae was not improved from 7.608 (7.648)\n"
     ]
    },
    {
     "name": "stderr",
     "output_type": "stream",
     "text": [
      "100%|██████████| 124/124 [00:31<00:00,  3.91it/s, stage=train, epoch=91, loss=0.24, acc=0.00202, correct=0, sample_num=32] \n",
      "100%|██████████| 47/47 [00:05<00:00,  8.05it/s, stage=val, epoch=91, loss=0.241, acc=0.000667, correct=0, sample_num=28]\n",
      "  0%|          | 0/124 [00:00<?, ?it/s]"
     ]
    },
    {
     "name": "stdout",
     "output_type": "stream",
     "text": [
      "=> [epoch 091] best val mae was not improved from 7.608 (7.688)\n"
     ]
    },
    {
     "name": "stderr",
     "output_type": "stream",
     "text": [
      "100%|██████████| 124/124 [00:32<00:00,  3.86it/s, stage=train, epoch=92, loss=0.242, acc=0.00176, correct=0, sample_num=32]\n",
      "100%|██████████| 47/47 [00:05<00:00,  8.13it/s, stage=val, epoch=92, loss=0.241, acc=0.000667, correct=0, sample_num=28]\n",
      "  0%|          | 0/124 [00:00<?, ?it/s]"
     ]
    },
    {
     "name": "stdout",
     "output_type": "stream",
     "text": [
      "=> [epoch 092] best val mae was not improved from 7.608 (7.682)\n"
     ]
    },
    {
     "name": "stderr",
     "output_type": "stream",
     "text": [
      "100%|██████████| 124/124 [00:31<00:00,  3.94it/s, stage=train, epoch=93, loss=0.242, acc=0.00151, correct=0, sample_num=32]\n",
      "100%|██████████| 47/47 [00:05<00:00,  8.22it/s, stage=val, epoch=93, loss=0.241, acc=0.000667, correct=0, sample_num=28]\n",
      "  0%|          | 0/124 [00:00<?, ?it/s]"
     ]
    },
    {
     "name": "stdout",
     "output_type": "stream",
     "text": [
      "=> [epoch 093] best val mae was not improved from 7.608 (7.693)\n"
     ]
    },
    {
     "name": "stderr",
     "output_type": "stream",
     "text": [
      "100%|██████████| 124/124 [00:32<00:00,  3.86it/s, stage=train, epoch=94, loss=0.244, acc=0.000504, correct=0, sample_num=32]\n",
      "100%|██████████| 47/47 [00:05<00:00,  8.22it/s, stage=val, epoch=94, loss=0.241, acc=0.000667, correct=0, sample_num=28]\n",
      "  0%|          | 0/124 [00:00<?, ?it/s]"
     ]
    },
    {
     "name": "stdout",
     "output_type": "stream",
     "text": [
      "=> [epoch 094] best val mae was not improved from 7.608 (7.684)\n"
     ]
    },
    {
     "name": "stderr",
     "output_type": "stream",
     "text": [
      "100%|██████████| 124/124 [00:31<00:00,  3.91it/s, stage=train, epoch=95, loss=0.243, acc=0.00202, correct=0, sample_num=32]\n",
      "100%|██████████| 47/47 [00:05<00:00,  8.22it/s, stage=val, epoch=95, loss=0.24, acc=0.000667, correct=0, sample_num=28]\n",
      "  0%|          | 0/124 [00:00<?, ?it/s]"
     ]
    },
    {
     "name": "stdout",
     "output_type": "stream",
     "text": [
      "=> [epoch 095] best val mae was not improved from 7.608 (7.651)\n"
     ]
    },
    {
     "name": "stderr",
     "output_type": "stream",
     "text": [
      "100%|██████████| 124/124 [00:33<00:00,  3.73it/s, stage=train, epoch=96, loss=0.241, acc=0.00151, correct=0, sample_num=32]\n",
      "100%|██████████| 47/47 [00:05<00:00,  8.02it/s, stage=val, epoch=96, loss=0.241, acc=0.000667, correct=0, sample_num=28]\n",
      "  0%|          | 0/124 [00:00<?, ?it/s]"
     ]
    },
    {
     "name": "stdout",
     "output_type": "stream",
     "text": [
      "=> [epoch 096] best val mae was not improved from 7.608 (7.703)\n"
     ]
    },
    {
     "name": "stderr",
     "output_type": "stream",
     "text": [
      "100%|██████████| 124/124 [00:33<00:00,  3.65it/s, stage=train, epoch=97, loss=0.241, acc=0.00176, correct=0, sample_num=32]\n",
      "100%|██████████| 47/47 [00:05<00:00,  7.97it/s, stage=val, epoch=97, loss=0.242, acc=0.000667, correct=0, sample_num=28]\n",
      "  0%|          | 0/124 [00:00<?, ?it/s]"
     ]
    },
    {
     "name": "stdout",
     "output_type": "stream",
     "text": [
      "=> [epoch 097] best val mae was not improved from 7.608 (7.717)\n"
     ]
    },
    {
     "name": "stderr",
     "output_type": "stream",
     "text": [
      "100%|██████████| 124/124 [00:34<00:00,  3.58it/s, stage=train, epoch=98, loss=0.24, acc=0.00227, correct=0, sample_num=32] \n",
      "100%|██████████| 47/47 [00:06<00:00,  7.48it/s, stage=val, epoch=98, loss=0.241, acc=0, correct=0, sample_num=28]\n",
      "  0%|          | 0/124 [00:00<?, ?it/s]"
     ]
    },
    {
     "name": "stdout",
     "output_type": "stream",
     "text": [
      "=> [epoch 098] best val mae was not improved from 7.608 (7.682)\n"
     ]
    },
    {
     "name": "stderr",
     "output_type": "stream",
     "text": [
      "100%|██████████| 124/124 [00:32<00:00,  3.82it/s, stage=train, epoch=99, loss=0.242, acc=0.00101, correct=0, sample_num=32]\n",
      "100%|██████████| 47/47 [00:05<00:00,  8.26it/s, stage=val, epoch=99, loss=0.24, acc=0, correct=0, sample_num=28] "
     ]
    },
    {
     "name": "stdout",
     "output_type": "stream",
     "text": [
      "=> [epoch 099] best val mae was not improved from 7.608 (7.674)\n",
      "=> training finished\n",
      "additional opts: []\n",
      "best val mae: 7.608\n"
     ]
    },
    {
     "name": "stderr",
     "output_type": "stream",
     "text": [
      "\n"
     ]
    }
   ],
   "source": [
    "for epoch in range(start_epoch, num_epochs):\n",
    "    # train\n",
    "    train_loss, train_acc = train(train_loader, model, criterion, optimizer, epoch, device)\n",
    "\n",
    "    # validate\n",
    "    val_loss, val_acc, val_mae = validate(val_loader, model, criterion, epoch, device)\n",
    "\n",
    "    if tensorboard_dir is not None:\n",
    "        train_writer.add_scalar(\"loss\", train_loss, epoch)\n",
    "        train_writer.add_scalar(\"acc\", train_acc, epoch)\n",
    "        val_writer.add_scalar(\"loss\", val_loss, epoch)\n",
    "        val_writer.add_scalar(\"acc\", val_acc, epoch)\n",
    "        val_writer.add_scalar(\"mae\", val_mae, epoch)\n",
    "\n",
    "    # checkpoint\n",
    "    if val_mae < best_val_mae:\n",
    "        print(f\"=> [epoch {epoch:03d}] best val mae was improved from {best_val_mae:.3f} to {val_mae:.3f}\")\n",
    "        model_state_dict = model.module.state_dict() if multi_gpu else model.state_dict()\n",
    "        torch.save(\n",
    "            {\n",
    "                'epoch': epoch + 1,\n",
    "                'arch': \"resnet\",\n",
    "                'state_dict': model_state_dict,\n",
    "                'optimizer_state_dict': optimizer.state_dict()\n",
    "            },\n",
    "            str(checkpoint_dir.joinpath(\"epoch{:03d}_{:.5f}_{:.4f}.pth\".format(epoch, val_loss, val_mae)))\n",
    "        )\n",
    "        best_val_mae = val_mae\n",
    "    else:\n",
    "        print(f\"=> [epoch {epoch:03d}] best val mae was not improved from {best_val_mae:.3f} ({val_mae:.3f})\")\n",
    "\n",
    "    # adjust learning rate\n",
    "    scheduler.step()\n",
    "\n",
    "print(\"=> training finished\")\n",
    "print(f\"additional opts: {opts}\")\n",
    "print(f\"best val mae: {best_val_mae:.3f}\")"
   ]
  },
  {
   "cell_type": "code",
   "execution_count": 6,
   "id": "b988a1c1",
   "metadata": {},
   "outputs": [
    {
     "ename": "RuntimeError",
     "evalue": "Input type (torch.FloatTensor) and weight type (torch.cuda.FloatTensor) should be the same or input should be a MKLDNN tensor and weight is a dense tensor",
     "output_type": "error",
     "traceback": [
      "\u001b[1;31m---------------------------------------------------------------------------\u001b[0m",
      "\u001b[1;31mRuntimeError\u001b[0m                              Traceback (most recent call last)",
      "\u001b[1;32m<ipython-input-6-ba43febb2112>\u001b[0m in \u001b[0;36m<module>\u001b[1;34m\u001b[0m\n\u001b[0;32m      3\u001b[0m \u001b[0mimg\u001b[0m \u001b[1;33m=\u001b[0m \u001b[0mnp\u001b[0m\u001b[1;33m.\u001b[0m\u001b[0mload\u001b[0m\u001b[1;33m(\u001b[0m\u001b[1;34m\"bla.npy\"\u001b[0m\u001b[1;33m)\u001b[0m\u001b[1;33m\u001b[0m\u001b[1;33m\u001b[0m\u001b[0m\n\u001b[0;32m      4\u001b[0m \u001b[0mimg\u001b[0m \u001b[1;33m=\u001b[0m \u001b[0mtorch\u001b[0m\u001b[1;33m.\u001b[0m\u001b[0mfrom_numpy\u001b[0m\u001b[1;33m(\u001b[0m\u001b[0mimg\u001b[0m\u001b[1;33m)\u001b[0m\u001b[1;33m\u001b[0m\u001b[1;33m\u001b[0m\u001b[0m\n\u001b[1;32m----> 5\u001b[1;33m \u001b[0moutputs\u001b[0m \u001b[1;33m=\u001b[0m \u001b[0mmodel\u001b[0m\u001b[1;33m(\u001b[0m\u001b[0mimg\u001b[0m\u001b[1;33m)\u001b[0m\u001b[1;33m\u001b[0m\u001b[1;33m\u001b[0m\u001b[0m\n\u001b[0m\u001b[0;32m      6\u001b[0m \u001b[0mclasses\u001b[0m \u001b[1;33m=\u001b[0m \u001b[0mtorch\u001b[0m\u001b[1;33m.\u001b[0m\u001b[0marange\u001b[0m\u001b[1;33m(\u001b[0m\u001b[1;36m0\u001b[0m\u001b[1;33m,\u001b[0m \u001b[1;36m101\u001b[0m\u001b[1;33m)\u001b[0m\u001b[1;33m.\u001b[0m\u001b[0mtype\u001b[0m\u001b[1;33m(\u001b[0m\u001b[0mtorch\u001b[0m\u001b[1;33m.\u001b[0m\u001b[0mFloatTensor\u001b[0m\u001b[1;33m)\u001b[0m\u001b[1;33m\u001b[0m\u001b[1;33m\u001b[0m\u001b[0m\n\u001b[0;32m      7\u001b[0m \u001b[0moutputs\u001b[0m \u001b[1;33m=\u001b[0m \u001b[0mF\u001b[0m\u001b[1;33m.\u001b[0m\u001b[0msoftmax\u001b[0m\u001b[1;33m(\u001b[0m\u001b[0moutputs\u001b[0m\u001b[1;33m,\u001b[0m \u001b[0mdim\u001b[0m\u001b[1;33m=\u001b[0m\u001b[1;36m1\u001b[0m\u001b[1;33m)\u001b[0m\u001b[1;33m@\u001b[0m\u001b[0mclasses\u001b[0m\u001b[1;33m\u001b[0m\u001b[1;33m\u001b[0m\u001b[0m\n",
      "\u001b[1;32m~\\anaconda3\\lib\\site-packages\\torch\\nn\\modules\\module.py\u001b[0m in \u001b[0;36m_call_impl\u001b[1;34m(self, *input, **kwargs)\u001b[0m\n\u001b[0;32m   1100\u001b[0m         if not (self._backward_hooks or self._forward_hooks or self._forward_pre_hooks or _global_backward_hooks\n\u001b[0;32m   1101\u001b[0m                 or _global_forward_hooks or _global_forward_pre_hooks):\n\u001b[1;32m-> 1102\u001b[1;33m             \u001b[1;32mreturn\u001b[0m \u001b[0mforward_call\u001b[0m\u001b[1;33m(\u001b[0m\u001b[1;33m*\u001b[0m\u001b[0minput\u001b[0m\u001b[1;33m,\u001b[0m \u001b[1;33m**\u001b[0m\u001b[0mkwargs\u001b[0m\u001b[1;33m)\u001b[0m\u001b[1;33m\u001b[0m\u001b[1;33m\u001b[0m\u001b[0m\n\u001b[0m\u001b[0;32m   1103\u001b[0m         \u001b[1;31m# Do not call functions when jit is used\u001b[0m\u001b[1;33m\u001b[0m\u001b[1;33m\u001b[0m\u001b[1;33m\u001b[0m\u001b[0m\n\u001b[0;32m   1104\u001b[0m         \u001b[0mfull_backward_hooks\u001b[0m\u001b[1;33m,\u001b[0m \u001b[0mnon_full_backward_hooks\u001b[0m \u001b[1;33m=\u001b[0m \u001b[1;33m[\u001b[0m\u001b[1;33m]\u001b[0m\u001b[1;33m,\u001b[0m \u001b[1;33m[\u001b[0m\u001b[1;33m]\u001b[0m\u001b[1;33m\u001b[0m\u001b[1;33m\u001b[0m\u001b[0m\n",
      "\u001b[1;32m~\\anaconda3\\lib\\site-packages\\pretrainedmodels\\models\\senet.py\u001b[0m in \u001b[0;36mforward\u001b[1;34m(self, x)\u001b[0m\n\u001b[0;32m    362\u001b[0m \u001b[1;33m\u001b[0m\u001b[0m\n\u001b[0;32m    363\u001b[0m     \u001b[1;32mdef\u001b[0m \u001b[0mforward\u001b[0m\u001b[1;33m(\u001b[0m\u001b[0mself\u001b[0m\u001b[1;33m,\u001b[0m \u001b[0mx\u001b[0m\u001b[1;33m)\u001b[0m\u001b[1;33m:\u001b[0m\u001b[1;33m\u001b[0m\u001b[1;33m\u001b[0m\u001b[0m\n\u001b[1;32m--> 364\u001b[1;33m         \u001b[0mx\u001b[0m \u001b[1;33m=\u001b[0m \u001b[0mself\u001b[0m\u001b[1;33m.\u001b[0m\u001b[0mfeatures\u001b[0m\u001b[1;33m(\u001b[0m\u001b[0mx\u001b[0m\u001b[1;33m)\u001b[0m\u001b[1;33m\u001b[0m\u001b[1;33m\u001b[0m\u001b[0m\n\u001b[0m\u001b[0;32m    365\u001b[0m         \u001b[0mx\u001b[0m \u001b[1;33m=\u001b[0m \u001b[0mself\u001b[0m\u001b[1;33m.\u001b[0m\u001b[0mlogits\u001b[0m\u001b[1;33m(\u001b[0m\u001b[0mx\u001b[0m\u001b[1;33m)\u001b[0m\u001b[1;33m\u001b[0m\u001b[1;33m\u001b[0m\u001b[0m\n\u001b[0;32m    366\u001b[0m         \u001b[1;32mreturn\u001b[0m \u001b[0mx\u001b[0m\u001b[1;33m\u001b[0m\u001b[1;33m\u001b[0m\u001b[0m\n",
      "\u001b[1;32m~\\anaconda3\\lib\\site-packages\\pretrainedmodels\\models\\senet.py\u001b[0m in \u001b[0;36mfeatures\u001b[1;34m(self, x)\u001b[0m\n\u001b[0;32m    346\u001b[0m \u001b[1;33m\u001b[0m\u001b[0m\n\u001b[0;32m    347\u001b[0m     \u001b[1;32mdef\u001b[0m \u001b[0mfeatures\u001b[0m\u001b[1;33m(\u001b[0m\u001b[0mself\u001b[0m\u001b[1;33m,\u001b[0m \u001b[0mx\u001b[0m\u001b[1;33m)\u001b[0m\u001b[1;33m:\u001b[0m\u001b[1;33m\u001b[0m\u001b[1;33m\u001b[0m\u001b[0m\n\u001b[1;32m--> 348\u001b[1;33m         \u001b[0mx\u001b[0m \u001b[1;33m=\u001b[0m \u001b[0mself\u001b[0m\u001b[1;33m.\u001b[0m\u001b[0mlayer0\u001b[0m\u001b[1;33m(\u001b[0m\u001b[0mx\u001b[0m\u001b[1;33m)\u001b[0m\u001b[1;33m\u001b[0m\u001b[1;33m\u001b[0m\u001b[0m\n\u001b[0m\u001b[0;32m    349\u001b[0m         \u001b[0mx\u001b[0m \u001b[1;33m=\u001b[0m \u001b[0mself\u001b[0m\u001b[1;33m.\u001b[0m\u001b[0mlayer1\u001b[0m\u001b[1;33m(\u001b[0m\u001b[0mx\u001b[0m\u001b[1;33m)\u001b[0m\u001b[1;33m\u001b[0m\u001b[1;33m\u001b[0m\u001b[0m\n\u001b[0;32m    350\u001b[0m         \u001b[0mx\u001b[0m \u001b[1;33m=\u001b[0m \u001b[0mself\u001b[0m\u001b[1;33m.\u001b[0m\u001b[0mlayer2\u001b[0m\u001b[1;33m(\u001b[0m\u001b[0mx\u001b[0m\u001b[1;33m)\u001b[0m\u001b[1;33m\u001b[0m\u001b[1;33m\u001b[0m\u001b[0m\n",
      "\u001b[1;32m~\\anaconda3\\lib\\site-packages\\torch\\nn\\modules\\module.py\u001b[0m in \u001b[0;36m_call_impl\u001b[1;34m(self, *input, **kwargs)\u001b[0m\n\u001b[0;32m   1100\u001b[0m         if not (self._backward_hooks or self._forward_hooks or self._forward_pre_hooks or _global_backward_hooks\n\u001b[0;32m   1101\u001b[0m                 or _global_forward_hooks or _global_forward_pre_hooks):\n\u001b[1;32m-> 1102\u001b[1;33m             \u001b[1;32mreturn\u001b[0m \u001b[0mforward_call\u001b[0m\u001b[1;33m(\u001b[0m\u001b[1;33m*\u001b[0m\u001b[0minput\u001b[0m\u001b[1;33m,\u001b[0m \u001b[1;33m**\u001b[0m\u001b[0mkwargs\u001b[0m\u001b[1;33m)\u001b[0m\u001b[1;33m\u001b[0m\u001b[1;33m\u001b[0m\u001b[0m\n\u001b[0m\u001b[0;32m   1103\u001b[0m         \u001b[1;31m# Do not call functions when jit is used\u001b[0m\u001b[1;33m\u001b[0m\u001b[1;33m\u001b[0m\u001b[1;33m\u001b[0m\u001b[0m\n\u001b[0;32m   1104\u001b[0m         \u001b[0mfull_backward_hooks\u001b[0m\u001b[1;33m,\u001b[0m \u001b[0mnon_full_backward_hooks\u001b[0m \u001b[1;33m=\u001b[0m \u001b[1;33m[\u001b[0m\u001b[1;33m]\u001b[0m\u001b[1;33m,\u001b[0m \u001b[1;33m[\u001b[0m\u001b[1;33m]\u001b[0m\u001b[1;33m\u001b[0m\u001b[1;33m\u001b[0m\u001b[0m\n",
      "\u001b[1;32m~\\anaconda3\\lib\\site-packages\\torch\\nn\\modules\\container.py\u001b[0m in \u001b[0;36mforward\u001b[1;34m(self, input)\u001b[0m\n\u001b[0;32m    139\u001b[0m     \u001b[1;32mdef\u001b[0m \u001b[0mforward\u001b[0m\u001b[1;33m(\u001b[0m\u001b[0mself\u001b[0m\u001b[1;33m,\u001b[0m \u001b[0minput\u001b[0m\u001b[1;33m)\u001b[0m\u001b[1;33m:\u001b[0m\u001b[1;33m\u001b[0m\u001b[1;33m\u001b[0m\u001b[0m\n\u001b[0;32m    140\u001b[0m         \u001b[1;32mfor\u001b[0m \u001b[0mmodule\u001b[0m \u001b[1;32min\u001b[0m \u001b[0mself\u001b[0m\u001b[1;33m:\u001b[0m\u001b[1;33m\u001b[0m\u001b[1;33m\u001b[0m\u001b[0m\n\u001b[1;32m--> 141\u001b[1;33m             \u001b[0minput\u001b[0m \u001b[1;33m=\u001b[0m \u001b[0mmodule\u001b[0m\u001b[1;33m(\u001b[0m\u001b[0minput\u001b[0m\u001b[1;33m)\u001b[0m\u001b[1;33m\u001b[0m\u001b[1;33m\u001b[0m\u001b[0m\n\u001b[0m\u001b[0;32m    142\u001b[0m         \u001b[1;32mreturn\u001b[0m \u001b[0minput\u001b[0m\u001b[1;33m\u001b[0m\u001b[1;33m\u001b[0m\u001b[0m\n\u001b[0;32m    143\u001b[0m \u001b[1;33m\u001b[0m\u001b[0m\n",
      "\u001b[1;32m~\\anaconda3\\lib\\site-packages\\torch\\nn\\modules\\module.py\u001b[0m in \u001b[0;36m_call_impl\u001b[1;34m(self, *input, **kwargs)\u001b[0m\n\u001b[0;32m   1100\u001b[0m         if not (self._backward_hooks or self._forward_hooks or self._forward_pre_hooks or _global_backward_hooks\n\u001b[0;32m   1101\u001b[0m                 or _global_forward_hooks or _global_forward_pre_hooks):\n\u001b[1;32m-> 1102\u001b[1;33m             \u001b[1;32mreturn\u001b[0m \u001b[0mforward_call\u001b[0m\u001b[1;33m(\u001b[0m\u001b[1;33m*\u001b[0m\u001b[0minput\u001b[0m\u001b[1;33m,\u001b[0m \u001b[1;33m**\u001b[0m\u001b[0mkwargs\u001b[0m\u001b[1;33m)\u001b[0m\u001b[1;33m\u001b[0m\u001b[1;33m\u001b[0m\u001b[0m\n\u001b[0m\u001b[0;32m   1103\u001b[0m         \u001b[1;31m# Do not call functions when jit is used\u001b[0m\u001b[1;33m\u001b[0m\u001b[1;33m\u001b[0m\u001b[1;33m\u001b[0m\u001b[0m\n\u001b[0;32m   1104\u001b[0m         \u001b[0mfull_backward_hooks\u001b[0m\u001b[1;33m,\u001b[0m \u001b[0mnon_full_backward_hooks\u001b[0m \u001b[1;33m=\u001b[0m \u001b[1;33m[\u001b[0m\u001b[1;33m]\u001b[0m\u001b[1;33m,\u001b[0m \u001b[1;33m[\u001b[0m\u001b[1;33m]\u001b[0m\u001b[1;33m\u001b[0m\u001b[1;33m\u001b[0m\u001b[0m\n",
      "\u001b[1;32m~\\anaconda3\\lib\\site-packages\\torch\\nn\\modules\\conv.py\u001b[0m in \u001b[0;36mforward\u001b[1;34m(self, input)\u001b[0m\n\u001b[0;32m    444\u001b[0m \u001b[1;33m\u001b[0m\u001b[0m\n\u001b[0;32m    445\u001b[0m     \u001b[1;32mdef\u001b[0m \u001b[0mforward\u001b[0m\u001b[1;33m(\u001b[0m\u001b[0mself\u001b[0m\u001b[1;33m,\u001b[0m \u001b[0minput\u001b[0m\u001b[1;33m:\u001b[0m \u001b[0mTensor\u001b[0m\u001b[1;33m)\u001b[0m \u001b[1;33m->\u001b[0m \u001b[0mTensor\u001b[0m\u001b[1;33m:\u001b[0m\u001b[1;33m\u001b[0m\u001b[1;33m\u001b[0m\u001b[0m\n\u001b[1;32m--> 446\u001b[1;33m         \u001b[1;32mreturn\u001b[0m \u001b[0mself\u001b[0m\u001b[1;33m.\u001b[0m\u001b[0m_conv_forward\u001b[0m\u001b[1;33m(\u001b[0m\u001b[0minput\u001b[0m\u001b[1;33m,\u001b[0m \u001b[0mself\u001b[0m\u001b[1;33m.\u001b[0m\u001b[0mweight\u001b[0m\u001b[1;33m,\u001b[0m \u001b[0mself\u001b[0m\u001b[1;33m.\u001b[0m\u001b[0mbias\u001b[0m\u001b[1;33m)\u001b[0m\u001b[1;33m\u001b[0m\u001b[1;33m\u001b[0m\u001b[0m\n\u001b[0m\u001b[0;32m    447\u001b[0m \u001b[1;33m\u001b[0m\u001b[0m\n\u001b[0;32m    448\u001b[0m \u001b[1;32mclass\u001b[0m \u001b[0mConv3d\u001b[0m\u001b[1;33m(\u001b[0m\u001b[0m_ConvNd\u001b[0m\u001b[1;33m)\u001b[0m\u001b[1;33m:\u001b[0m\u001b[1;33m\u001b[0m\u001b[1;33m\u001b[0m\u001b[0m\n",
      "\u001b[1;32m~\\anaconda3\\lib\\site-packages\\torch\\nn\\modules\\conv.py\u001b[0m in \u001b[0;36m_conv_forward\u001b[1;34m(self, input, weight, bias)\u001b[0m\n\u001b[0;32m    440\u001b[0m                             \u001b[0mweight\u001b[0m\u001b[1;33m,\u001b[0m \u001b[0mbias\u001b[0m\u001b[1;33m,\u001b[0m \u001b[0mself\u001b[0m\u001b[1;33m.\u001b[0m\u001b[0mstride\u001b[0m\u001b[1;33m,\u001b[0m\u001b[1;33m\u001b[0m\u001b[1;33m\u001b[0m\u001b[0m\n\u001b[0;32m    441\u001b[0m                             _pair(0), self.dilation, self.groups)\n\u001b[1;32m--> 442\u001b[1;33m         return F.conv2d(input, weight, bias, self.stride,\n\u001b[0m\u001b[0;32m    443\u001b[0m                         self.padding, self.dilation, self.groups)\n\u001b[0;32m    444\u001b[0m \u001b[1;33m\u001b[0m\u001b[0m\n",
      "\u001b[1;31mRuntimeError\u001b[0m: Input type (torch.FloatTensor) and weight type (torch.cuda.FloatTensor) should be the same or input should be a MKLDNN tensor and weight is a dense tensor"
     ]
    }
   ],
   "source": [
    "import numpy as np\n",
    "import torch.nn.functional as F\n",
    "img = np.load(\"bla.npy\")\n",
    "img = torch.from_numpy(img)\n",
    "outputs = model(img)\n",
    "classes = torch.arange(0, 101).type(torch.FloatTensor)\n",
    "outputs = F.softmax(outputs, dim=1)@classes\n",
    "outputs"
   ]
  },
  {
   "cell_type": "code",
   "execution_count": 5,
   "id": "fbe6a3da",
   "metadata": {},
   "outputs": [
    {
     "data": {
      "text/plain": [
       "1500"
      ]
     },
     "execution_count": 5,
     "metadata": {},
     "output_type": "execute_result"
    }
   ],
   "source": [
    "len(val_dataset)"
   ]
  },
  {
   "cell_type": "markdown",
   "id": "95ce5fa9",
   "metadata": {},
   "source": [
    "### Residuals "
   ]
  },
  {
   "cell_type": "code",
   "execution_count": 7,
   "id": "150b1f55",
   "metadata": {},
   "outputs": [],
   "source": [
    "train_dataset = FaceDataset(data_dir, \"train\", img_size=img_size, augment=False, age_stddev=age_stddev)\n",
    "train_loader = DataLoader(train_dataset, batch_size=batch_size, shuffle=False, drop_last=True)\n",
    "\n",
    "val_dataset = FaceDataset(data_dir, \"valid\", img_size=img_size, augment=False)\n",
    "val_loader = DataLoader(val_dataset, batch_size=batch_size, shuffle=False, drop_last=False)\n"
   ]
  },
  {
   "cell_type": "code",
   "execution_count": 9,
   "id": "727bfd29",
   "metadata": {},
   "outputs": [],
   "source": [
    "import torch.nn.functional as F"
   ]
  },
  {
   "cell_type": "code",
   "execution_count": 16,
   "id": "5d6a6015",
   "metadata": {},
   "outputs": [
    {
     "name": "stdout",
     "output_type": "stream",
     "text": [
      "tensor([ 27.4930,   8.5279, -51.4045, -32.5245,   7.2888,  13.7508,  -1.4933,\n",
      "        -10.9070,   1.2509,  -1.2797,   9.1441, -11.3205,  30.6193,  27.6865,\n",
      "         13.0832,   4.7400,   4.3089,  22.9925,  -8.0607,  19.4080,  -4.3471,\n",
      "         14.7873, -15.5384,   6.5501,  29.3694,  -6.0300,   1.8676, -12.0000,\n",
      "        -32.7021,   7.8471,  29.3913,   8.4862,   4.3090,  12.6895,  26.3462,\n",
      "          9.0000,  22.5510,  -9.9953,  24.1390,   4.4686,  23.4810,  -2.6411,\n",
      "          8.0418,  -7.9264,  22.0058,   1.0757,   9.1792,   8.2131, -15.4739,\n",
      "         17.8940, -15.8987,   2.2994,  -0.0873,  23.7268, -34.9761,   9.1663,\n",
      "         -5.1255,  26.0025,   2.5903,  17.0002,   3.5379,  -5.5226,  11.0547,\n",
      "         -2.6314], grad_fn=<SubBackward0>)\n"
     ]
    }
   ],
   "source": [
    "model.to(\"cpu\")\n",
    "residuals_train = []\n",
    "residuals_val = []\n",
    "classes = torch.arange(0, 101).type(torch.FloatTensor)\n",
    "\n",
    "for x_train, y_train, real_train  in train_loader : \n",
    "    outputs_train = model(x_train).to(\"cpu\")\n",
    "    outputs_train = F.softmax(outputs_train, dim=1)@classes\n",
    "    print(outputs_train - y_train.to(\"cpu\"))\n",
    "    break \n",
    "    "
   ]
  },
  {
   "cell_type": "code",
   "execution_count": 17,
   "id": "6d819578",
   "metadata": {},
   "outputs": [
    {
     "ename": "RuntimeError",
     "evalue": "Can't call numpy() on Tensor that requires grad. Use tensor.detach().numpy() instead.",
     "output_type": "error",
     "traceback": [
      "\u001b[1;31m---------------------------------------------------------------------------\u001b[0m",
      "\u001b[1;31mRuntimeError\u001b[0m                              Traceback (most recent call last)",
      "\u001b[1;32m<ipython-input-17-d560d345268d>\u001b[0m in \u001b[0;36m<module>\u001b[1;34m\u001b[0m\n\u001b[1;32m----> 1\u001b[1;33m \u001b[1;33m(\u001b[0m\u001b[0moutputs_train\u001b[0m \u001b[1;33m-\u001b[0m \u001b[0my_train\u001b[0m\u001b[1;33m.\u001b[0m\u001b[0mto\u001b[0m\u001b[1;33m(\u001b[0m\u001b[1;34m\"cpu\"\u001b[0m\u001b[1;33m)\u001b[0m\u001b[1;33m)\u001b[0m\u001b[1;33m.\u001b[0m\u001b[0mnumpy\u001b[0m\u001b[1;33m(\u001b[0m\u001b[1;33m)\u001b[0m\u001b[1;33m\u001b[0m\u001b[1;33m\u001b[0m\u001b[0m\n\u001b[0m",
      "\u001b[1;31mRuntimeError\u001b[0m: Can't call numpy() on Tensor that requires grad. Use tensor.detach().numpy() instead."
     ]
    }
   ],
   "source": [
    "(outputs_train - y_train.to(\"cpu\")).numpy()"
   ]
  },
  {
   "cell_type": "code",
   "execution_count": null,
   "id": "d1486a07",
   "metadata": {},
   "outputs": [],
   "source": []
  }
 ],
 "metadata": {
  "interpreter": {
   "hash": "df5f7db2eb774c9a955ca718bbb931dbb7c24ff8ec3882208b724b027430d827"
  },
  "kernelspec": {
   "display_name": "Python 3",
   "language": "python",
   "name": "python3"
  },
  "language_info": {
   "codemirror_mode": {
    "name": "ipython",
    "version": 3
   },
   "file_extension": ".py",
   "mimetype": "text/x-python",
   "name": "python",
   "nbconvert_exporter": "python",
   "pygments_lexer": "ipython3",
   "version": "3.8.8"
  }
 },
 "nbformat": 4,
 "nbformat_minor": 5
}
