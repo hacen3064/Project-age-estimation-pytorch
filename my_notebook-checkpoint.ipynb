{
 "cells": [
  {
   "cell_type": "code",
   "execution_count": 2,
   "id": "5df9d3d0",
   "metadata": {},
   "outputs": [],
   "source": [
    "from pathlib import Path\n",
    "import torch\n",
    "import torch.nn as nn\n",
    "import torch.nn.parallel\n",
    "import torch.optim\n",
    "from torch.optim.lr_scheduler import StepLR\n",
    "import torch.utils.data\n",
    "from torch.utils.data import DataLoader\n",
    "from torch.utils.tensorboard import SummaryWriter\n",
    "import pretrainedmodels\n",
    "import pretrainedmodels.utils\n",
    "from model import get_model, get_resnet\n",
    "from dataset import FaceDataset, FaceDataset_UTK\n",
    "from train import train, validate"
   ]
  },
  {
   "cell_type": "markdown",
   "id": "cf533194",
   "metadata": {},
   "source": [
    "Change data_dir to the direction of the 'appa-real-release' dataset\n",
    "\n",
    "Download with cmd:\n",
    "\n",
    "wget http://158.109.8.102/AppaRealAge/appa-real-release.zip\n",
    "\n",
    "unzip appa-real-release.zip"
   ]
  },
  {
   "cell_type": "code",
   "execution_count": 26,
   "id": "718e189b",
   "metadata": {},
   "outputs": [],
   "source": [
    "model = get_model()\n",
    "data_dir = 'appa-real-release'\n",
    "data_dir_utk = 'data_UTK'\n",
    "start_epoch = 0\n",
    "checkpoint_dir = Path('checkpoint')\n",
    "checkpoint_dir.mkdir(parents=True, exist_ok=True)\n",
    "resume_path = \"checkpoint/epoch011_0.24262_4.8524.pth\"\n",
    "tensorboard_dir = None\n",
    "opts = []\n",
    "multi_gpu = False\n",
    "\n",
    "\n",
    "img_size = 224\n",
    "age_stddev = 1.0\n",
    "batch_size = 20\n",
    "learning_rate = 1e-3/15\n",
    "step_size = 20\n",
    "decay_rate = 0.2\n",
    "num_epochs = 100\n",
    "classes = torch.arange(0, 101).type(torch.FloatTensor)"
   ]
  },
  {
   "cell_type": "code",
   "execution_count": 27,
   "id": "9176760b",
   "metadata": {},
   "outputs": [
    {
     "data": {
      "text/plain": [
       "['.badfiles.un~',\n",
       " '.clean_asdf.sh.un~',\n",
       " '.parse_labels.m.un~',\n",
       " '.README.txt.un~',\n",
       " 'gt_avg_test.csv',\n",
       " 'gt_avg_train.csv',\n",
       " 'gt_avg_valid.csv',\n",
       " 'gt_test.csv',\n",
       " 'gt_train.csv',\n",
       " 'gt_valid.csv',\n",
       " 'README.txt',\n",
       " 'test',\n",
       " 'train',\n",
       " 'valid',\n",
       " 'gt_avg_train_res.csv',\n",
       " 'gt_avg_valid_res.csv',\n",
       " 'gt_avg_test_res.csv']"
      ]
     },
     "execution_count": 27,
     "metadata": {},
     "output_type": "execute_result"
    }
   ],
   "source": [
    "import os\n",
    "os.listdir(data_dir)"
   ]
  },
  {
   "cell_type": "code",
   "execution_count": 28,
   "id": "17e170aa",
   "metadata": {},
   "outputs": [
    {
     "name": "stdout",
     "output_type": "stream",
     "text": [
      "=> loading checkpoint 'checkpoint/epoch011_0.24262_4.8524.pth'\n",
      "=> loaded checkpoint 'checkpoint/epoch011_0.24262_4.8524.pth' (epoch 12)\n"
     ]
    }
   ],
   "source": [
    "train_dataset = FaceDataset(data_dir, \"train\", img_size=img_size, augment=True, age_stddev=age_stddev)\n",
    "train_loader = DataLoader(train_dataset, batch_size=batch_size, shuffle=True, drop_last=True)\n",
    "\n",
    "val_dataset = FaceDataset(data_dir, \"valid\", img_size=img_size, augment=False)\n",
    "val_loader = DataLoader(val_dataset, batch_size=batch_size, shuffle=True, drop_last=True)\n",
    "\n",
    "\n",
    "optimizer = torch.optim.Adam(model.parameters(), lr=learning_rate)\n",
    "device =  \"cuda\" if torch.cuda.is_available() else \"cpu\"\n",
    "#device = \"cpu\"\n",
    "model = model.to(device)\n",
    "criterion = nn.L1Loss().to(device)\n",
    "\n",
    "if resume_path:\n",
    "    if Path(resume_path).is_file():\n",
    "        print(\"=> loading checkpoint '{}'\".format(resume_path))\n",
    "        checkpoint = torch.load(resume_path, map_location=\"cpu\")\n",
    "        start_epoch = checkpoint['epoch']\n",
    "        model.load_state_dict(checkpoint['state_dict'])\n",
    "        print(\"=> loaded checkpoint '{}' (epoch {})\"\n",
    "              .format(resume_path, checkpoint['epoch']))\n",
    "        optimizer.load_state_dict(checkpoint['optimizer_state_dict'])\n",
    "    else:\n",
    "        print(\"=> no checkpoint found at '{}'\".format(resume_path))\n",
    "\n",
    "scheduler = StepLR(optimizer, step_size=step_size, gamma=decay_rate, last_epoch=start_epoch - 1)\n",
    "best_val_mae = 10000.0\n",
    "train_writer = None\n",
    "\n",
    "if tensorboard_dir is not None:\n",
    "    opts_prefix = \"_\".join(opts)\n",
    "    train_writer = SummaryWriter(log_dir=tensorboard_dir + \"/\" + opts_prefix + \"_train\")\n",
    "    val_writer = SummaryWriter(log_dir=tensorboard_dir + \"/\" + opts_prefix + \"_val\")"
   ]
  },
  {
   "cell_type": "code",
   "execution_count": null,
   "id": "5f0ae462",
   "metadata": {},
   "outputs": [],
   "source": [
    "for epoch in range(start_epoch, num_epochs):\n",
    "    # train\n",
    "    train_loss, train_acc = train(train_loader, model, criterion, optimizer, epoch, device, classes)\n",
    "\n",
    "    # validate\n",
    "    val_loss, val_acc, val_mae = validate(val_loader, model, criterion, epoch, device, classes)\n",
    "\n",
    "    if tensorboard_dir is not None:\n",
    "        train_writer.add_scalar(\"loss\", train_loss, epoch)\n",
    "        train_writer.add_scalar(\"acc\", train_acc, epoch)\n",
    "        val_writer.add_scalar(\"loss\", val_loss, epoch)\n",
    "        val_writer.add_scalar(\"acc\", val_acc, epoch)\n",
    "        val_writer.add_scalar(\"mae\", val_mae, epoch)\n",
    "\n",
    "    # checkpoint\n",
    "    if val_mae < best_val_mae:\n",
    "        print(f\"=> [epoch {epoch:03d}] best val mae was improved from {best_val_mae:.3f} to {val_mae:.3f}\")\n",
    "        model_state_dict = model.module.state_dict() if multi_gpu else model.state_dict()\n",
    "        torch.save(\n",
    "            {\n",
    "                'epoch': epoch + 1,\n",
    "                'arch': \"resnet\",\n",
    "                'state_dict': model_state_dict,\n",
    "                'optimizer_state_dict': optimizer.state_dict()\n",
    "            },\n",
    "            str(checkpoint_dir.joinpath(\"epoch{:03d}_{:.5f}_{:.4f}.pth\".format(epoch, val_loss, val_mae)))\n",
    "        )\n",
    "        best_val_mae = val_mae\n",
    "    else:\n",
    "        print(f\"=> [epoch {epoch:03d}] best val mae was not improved from {best_val_mae:.3f} ({val_mae:.3f})\")\n",
    "\n",
    "    # adjust learning rate\n",
    "    scheduler.step()\n",
    "\n",
    "print(\"=> training finished\")\n",
    "print(f\"additional opts: {opts}\")\n",
    "print(f\"best val mae: {best_val_mae:.3f}\")"
   ]
  },
  {
   "cell_type": "markdown",
   "id": "09358013",
   "metadata": {},
   "source": [
    "### UTK Dataset "
   ]
  },
  {
   "cell_type": "code",
   "execution_count": null,
   "id": "8cef1fb9",
   "metadata": {},
   "outputs": [],
   "source": [
    "train_dataset = FaceDataset_UTK(data_dir_utk, \"train\", img_size=img_size, augment=False, age_stddev=age_stddev)\n",
    "train_loader = DataLoader(train_dataset, batch_size=batch_size, shuffle=True, drop_last=True)\n",
    "\n",
    "val_dataset = FaceDataset_UTK(data_dir_utk, \"valid\", img_size=img_size, augment=False)\n",
    "val_loader = DataLoader(val_dataset, batch_size=batch_size, shuffle=False, drop_last=True)"
   ]
  },
  {
   "cell_type": "code",
   "execution_count": null,
   "id": "169b7ecc",
   "metadata": {},
   "outputs": [],
   "source": [
    "for epoch in range(start_epoch, num_epochs):\n",
    "    # train\n",
    "    train_loss, train_acc = train(train_loader, model, criterion, optimizer, epoch, device, classes)\n",
    "\n",
    "    # validate\n",
    "    val_loss, val_acc, val_mae = validate(val_loader, model, criterion, epoch, device, classes)\n",
    "\n",
    "    if tensorboard_dir is not None:\n",
    "        train_writer.add_scalar(\"loss\", train_loss, epoch)\n",
    "        train_writer.add_scalar(\"acc\", train_acc, epoch)\n",
    "        val_writer.add_scalar(\"loss\", val_loss, epoch)\n",
    "        val_writer.add_scalar(\"acc\", val_acc, epoch)\n",
    "        val_writer.add_scalar(\"mae\", val_mae, epoch)\n",
    "\n",
    "    # checkpoint\n",
    "    if val_mae < best_val_mae:\n",
    "        print(f\"=> [epoch {epoch:03d}] best val mae was improved from {best_val_mae:.3f} to {val_mae:.3f}\")\n",
    "        model_state_dict = model.module.state_dict() if multi_gpu else model.state_dict()\n",
    "        torch.save(\n",
    "            {\n",
    "                'epoch': epoch + 1,\n",
    "                'arch': \"resnet\",\n",
    "                'state_dict': model_state_dict,\n",
    "                'optimizer_state_dict': optimizer.state_dict()\n",
    "            },\n",
    "            str(checkpoint_dir.joinpath(\"epoch{:03d}_{:.5f}_{:.4f}.pth\".format(epoch, val_loss, val_mae)))\n",
    "        )\n",
    "        best_val_mae = val_mae\n",
    "    else:\n",
    "        print(f\"=> [epoch {epoch:03d}] best val mae was not improved from {best_val_mae:.3f} ({val_mae:.3f})\")\n",
    "\n",
    "    # adjust learning rate\n",
    "    scheduler.step()\n",
    "\n",
    "print(\"=> training finished\")\n",
    "print(f\"additional opts: {opts}\")\n",
    "print(f\"best val mae: {best_val_mae:.3f}\")"
   ]
  },
  {
   "cell_type": "markdown",
   "id": "95ce5fa9",
   "metadata": {},
   "source": [
    "### Create Residuals csv files"
   ]
  },
  {
   "cell_type": "code",
   "execution_count": 19,
   "id": "727bfd29",
   "metadata": {},
   "outputs": [],
   "source": [
    "import torch.nn.functional as F\n",
    "import pandas as pd \n",
    "import numpy as np"
   ]
  },
  {
   "cell_type": "code",
   "execution_count": 20,
   "id": "150b1f55",
   "metadata": {},
   "outputs": [],
   "source": [
    "train_dataset = FaceDataset(data_dir, \"train\", img_size=img_size, augment=False, age_stddev=age_stddev)\n",
    "train_loader = DataLoader(train_dataset, batch_size=batch_size, shuffle=False, drop_last=False)\n",
    "\n",
    "val_dataset = FaceDataset(data_dir, \"valid\", img_size=img_size, augment=False)\n",
    "val_loader = DataLoader(val_dataset, batch_size=batch_size, shuffle=False, drop_last=False)\n",
    "\n",
    "test_dataset = FaceDataset(data_dir, \"test\", img_size=img_size, augment=False)\n",
    "test_loader = DataLoader(test_dataset, batch_size=batch_size, shuffle=False, drop_last=False)"
   ]
  },
  {
   "cell_type": "code",
   "execution_count": 21,
   "id": "6d819578",
   "metadata": {},
   "outputs": [],
   "source": [
    "def residuals(model, loader, device) : \n",
    "    \"Returns the list of residuals\"\n",
    "    model.to(device)\n",
    "    residuals = []\n",
    "    classes = torch.arange(0, 101).type(torch.FloatTensor).to(device)\n",
    "    with torch.no_grad():\n",
    "        for x, y, real  in loader : \n",
    "            x = x.to(device)\n",
    "            y = y.to(device)\n",
    "            real = real.to(device)\n",
    "            outputs = model(x)\n",
    "            outputs = F.softmax(outputs, dim=1)@classes\n",
    "            residuals += list((real - outputs).cpu().numpy())\n",
    "    return residuals"
   ]
  },
  {
   "cell_type": "code",
   "execution_count": 22,
   "id": "d1486a07",
   "metadata": {},
   "outputs": [],
   "source": [
    "res_train = np.round(residuals(model, train_loader, device), 2)\n",
    "res_val = np.round(residuals(model, val_loader, device), 2)\n",
    "res_test = np.round(residuals(model, test_loader, device), 2)"
   ]
  },
  {
   "cell_type": "code",
   "execution_count": 23,
   "id": "b3083093",
   "metadata": {},
   "outputs": [
    {
     "data": {
      "text/plain": [
       "'appa-real-release/train_residuals.csv'"
      ]
     },
     "execution_count": 23,
     "metadata": {},
     "output_type": "execute_result"
    }
   ],
   "source": [
    "data_dir + \"/train_residuals.csv\""
   ]
  },
  {
   "cell_type": "code",
   "execution_count": 24,
   "id": "6270c623",
   "metadata": {},
   "outputs": [],
   "source": [
    "pd.DataFrame(res_train, columns=[\"residual\"]).to_csv(\"train_residuals.csv\", index=False)\n",
    "pd.DataFrame(res_val, columns=[\"residual\"]).to_csv(\"val_residuals.csv\", index=False)\n",
    "pd.DataFrame(res_test, columns=[\"residual\"]).to_csv(\"test_residuals.csv\", index=False)"
   ]
  },
  {
   "cell_type": "code",
   "execution_count": 25,
   "id": "cdaee4e4",
   "metadata": {},
   "outputs": [],
   "source": [
    "df_train = pd.read_csv(\"appa-real-release/gt_avg_train.csv\")\n",
    "residual_train = pd.read_csv(\"train_residuals.csv\")\n",
    "df_val = pd.read_csv(\"appa-real-release/gt_avg_valid.csv\")\n",
    "residual_val = pd.read_csv(\"val_residuals.csv\")\n",
    "df_test = pd.read_csv(\"appa-real-release/gt_avg_test.csv\")\n",
    "residual_test = pd.read_csv(\"test_residuals.csv\")\n",
    "\n",
    "df_train.join(residual_train)[['file_name', 'num_ratings', 'residual', 'apparent_age_std', 'real_age', 'apparent_age_avg']].to_csv(\"appa-real-release/gt_avg_train_res.csv\")\n",
    "df_val.join(residual_val)[['file_name', 'num_ratings', 'residual', 'apparent_age_std', 'real_age', 'apparent_age_avg']].to_csv(\"appa-real-release/gt_avg_valid_res.csv\")\n",
    "df_test.join(residual_test)[['file_name', 'num_ratings', 'residual', 'apparent_age_std', 'real_age', 'apparent_age_avg']].to_csv(\"appa-real-release/gt_avg_test_res.csv\")"
   ]
  },
  {
   "cell_type": "markdown",
   "id": "478becc0",
   "metadata": {},
   "source": [
    "### Residual DEX"
   ]
  },
  {
   "cell_type": "code",
   "execution_count": 29,
   "id": "08b4ae7a",
   "metadata": {},
   "outputs": [],
   "source": [
    "import copy"
   ]
  },
  {
   "cell_type": "code",
   "execution_count": 30,
   "id": "cae5aa8a",
   "metadata": {},
   "outputs": [],
   "source": [
    "classes = torch.arange(-50, 51).type(torch.FloatTensor)\n",
    "#model_2 = copy.deepcopy(model)"
   ]
  },
  {
   "cell_type": "code",
   "execution_count": 31,
   "id": "7ab99547",
   "metadata": {},
   "outputs": [],
   "source": [
    "train_dataset = FaceDataset(data_dir, \"train\", img_size=img_size, augment=False, age_stddev=age_stddev, is_res=True)\n",
    "train_loader = DataLoader(train_dataset, batch_size=batch_size, shuffle=True, drop_last=True)\n",
    "\n",
    "val_dataset = FaceDataset(data_dir, \"valid\", img_size=img_size, augment=False, is_res=True)\n",
    "val_loader = DataLoader(val_dataset, batch_size=batch_size, shuffle=True, drop_last=True)\n",
    "\n",
    "best_val_mae = 10000.0\n",
    "train_writer = None"
   ]
  },
  {
   "cell_type": "code",
   "execution_count": 32,
   "id": "ab2ab24b",
   "metadata": {},
   "outputs": [
    {
     "data": {
      "application/vnd.jupyter.widget-view+json": {
       "model_id": "2f21a64632fa483da177b7e975c9f9ff",
       "version_major": 2,
       "version_minor": 0
      },
      "text/plain": [
       "  0%|          | 0/205 [00:00<?, ?it/s]"
      ]
     },
     "metadata": {},
     "output_type": "display_data"
    },
    {
     "data": {
      "application/vnd.jupyter.widget-view+json": {
       "model_id": "75efbf80779e479094c9c98984469f6d",
       "version_major": 2,
       "version_minor": 0
      },
      "text/plain": [
       "  0%|          | 0/75 [00:00<?, ?it/s]"
      ]
     },
     "metadata": {},
     "output_type": "display_data"
    },
    {
     "name": "stdout",
     "output_type": "stream",
     "text": [
      "=> [epoch 012] best val mae was improved from 10000.000 to 5.032\n"
     ]
    },
    {
     "data": {
      "application/vnd.jupyter.widget-view+json": {
       "model_id": "a377509827fd464baac9bebaec571819",
       "version_major": 2,
       "version_minor": 0
      },
      "text/plain": [
       "  0%|          | 0/205 [00:00<?, ?it/s]"
      ]
     },
     "metadata": {},
     "output_type": "display_data"
    },
    {
     "data": {
      "application/vnd.jupyter.widget-view+json": {
       "model_id": "cd039592340b4bc4b5fbe412049de6c9",
       "version_major": 2,
       "version_minor": 0
      },
      "text/plain": [
       "  0%|          | 0/75 [00:00<?, ?it/s]"
      ]
     },
     "metadata": {},
     "output_type": "display_data"
    },
    {
     "name": "stdout",
     "output_type": "stream",
     "text": [
      "=> [epoch 013] best val mae was improved from 5.032 to 4.890\n"
     ]
    },
    {
     "data": {
      "application/vnd.jupyter.widget-view+json": {
       "model_id": "a4b5162ab315497c90bbc5bcf7df72d6",
       "version_major": 2,
       "version_minor": 0
      },
      "text/plain": [
       "  0%|          | 0/205 [00:00<?, ?it/s]"
      ]
     },
     "metadata": {},
     "output_type": "display_data"
    },
    {
     "data": {
      "application/vnd.jupyter.widget-view+json": {
       "model_id": "934bfabf74bd49c1a432e5ff3536082f",
       "version_major": 2,
       "version_minor": 0
      },
      "text/plain": [
       "  0%|          | 0/75 [00:00<?, ?it/s]"
      ]
     },
     "metadata": {},
     "output_type": "display_data"
    },
    {
     "name": "stdout",
     "output_type": "stream",
     "text": [
      "=> [epoch 014] best val mae was improved from 4.890 to 4.854\n"
     ]
    },
    {
     "data": {
      "application/vnd.jupyter.widget-view+json": {
       "model_id": "0d2e1858650f47128bddaa2179603c76",
       "version_major": 2,
       "version_minor": 0
      },
      "text/plain": [
       "  0%|          | 0/205 [00:00<?, ?it/s]"
      ]
     },
     "metadata": {},
     "output_type": "display_data"
    },
    {
     "data": {
      "application/vnd.jupyter.widget-view+json": {
       "model_id": "08c419f5866d4bdcbc5668e01927ba69",
       "version_major": 2,
       "version_minor": 0
      },
      "text/plain": [
       "  0%|          | 0/75 [00:00<?, ?it/s]"
      ]
     },
     "metadata": {},
     "output_type": "display_data"
    },
    {
     "name": "stdout",
     "output_type": "stream",
     "text": [
      "=> [epoch 015] best val mae was improved from 4.854 to 4.771\n"
     ]
    },
    {
     "data": {
      "application/vnd.jupyter.widget-view+json": {
       "model_id": "2242a3047d92440899c0edbd62bf44a9",
       "version_major": 2,
       "version_minor": 0
      },
      "text/plain": [
       "  0%|          | 0/205 [00:00<?, ?it/s]"
      ]
     },
     "metadata": {},
     "output_type": "display_data"
    },
    {
     "data": {
      "application/vnd.jupyter.widget-view+json": {
       "model_id": "425b00ee3452490389b6e5ca7547fa36",
       "version_major": 2,
       "version_minor": 0
      },
      "text/plain": [
       "  0%|          | 0/75 [00:00<?, ?it/s]"
      ]
     },
     "metadata": {},
     "output_type": "display_data"
    },
    {
     "name": "stdout",
     "output_type": "stream",
     "text": [
      "=> [epoch 016] best val mae was not improved from 4.771 (4.819)\n"
     ]
    },
    {
     "data": {
      "application/vnd.jupyter.widget-view+json": {
       "model_id": "523bc6a287bb44958788d23c2508253d",
       "version_major": 2,
       "version_minor": 0
      },
      "text/plain": [
       "  0%|          | 0/205 [00:00<?, ?it/s]"
      ]
     },
     "metadata": {},
     "output_type": "display_data"
    },
    {
     "data": {
      "application/vnd.jupyter.widget-view+json": {
       "model_id": "6343a182149f47d490a8c801c242264c",
       "version_major": 2,
       "version_minor": 0
      },
      "text/plain": [
       "  0%|          | 0/75 [00:00<?, ?it/s]"
      ]
     },
     "metadata": {},
     "output_type": "display_data"
    },
    {
     "name": "stdout",
     "output_type": "stream",
     "text": [
      "=> [epoch 017] best val mae was not improved from 4.771 (4.798)\n"
     ]
    },
    {
     "data": {
      "application/vnd.jupyter.widget-view+json": {
       "model_id": "5a8d7dcb69344c389e77848b2407b559",
       "version_major": 2,
       "version_minor": 0
      },
      "text/plain": [
       "  0%|          | 0/205 [00:00<?, ?it/s]"
      ]
     },
     "metadata": {},
     "output_type": "display_data"
    },
    {
     "data": {
      "application/vnd.jupyter.widget-view+json": {
       "model_id": "71e1ecf88a24470db68609aa88032564",
       "version_major": 2,
       "version_minor": 0
      },
      "text/plain": [
       "  0%|          | 0/75 [00:00<?, ?it/s]"
      ]
     },
     "metadata": {},
     "output_type": "display_data"
    },
    {
     "name": "stdout",
     "output_type": "stream",
     "text": [
      "=> [epoch 018] best val mae was not improved from 4.771 (4.853)\n"
     ]
    },
    {
     "data": {
      "application/vnd.jupyter.widget-view+json": {
       "model_id": "ef093b68651d4e00ab12847f4f53a25e",
       "version_major": 2,
       "version_minor": 0
      },
      "text/plain": [
       "  0%|          | 0/205 [00:00<?, ?it/s]"
      ]
     },
     "metadata": {},
     "output_type": "display_data"
    },
    {
     "data": {
      "application/vnd.jupyter.widget-view+json": {
       "model_id": "4571214e46034fdf99fb9aadb41d34fa",
       "version_major": 2,
       "version_minor": 0
      },
      "text/plain": [
       "  0%|          | 0/75 [00:00<?, ?it/s]"
      ]
     },
     "metadata": {},
     "output_type": "display_data"
    },
    {
     "name": "stdout",
     "output_type": "stream",
     "text": [
      "=> [epoch 019] best val mae was not improved from 4.771 (4.846)\n"
     ]
    },
    {
     "data": {
      "application/vnd.jupyter.widget-view+json": {
       "model_id": "89a0d3e4df9d403c85848bea2e1965a3",
       "version_major": 2,
       "version_minor": 0
      },
      "text/plain": [
       "  0%|          | 0/205 [00:00<?, ?it/s]"
      ]
     },
     "metadata": {},
     "output_type": "display_data"
    },
    {
     "data": {
      "application/vnd.jupyter.widget-view+json": {
       "model_id": "92db836a9cf349b5a9b384d45c6c5cc1",
       "version_major": 2,
       "version_minor": 0
      },
      "text/plain": [
       "  0%|          | 0/75 [00:00<?, ?it/s]"
      ]
     },
     "metadata": {},
     "output_type": "display_data"
    },
    {
     "name": "stdout",
     "output_type": "stream",
     "text": [
      "=> [epoch 020] best val mae was not improved from 4.771 (4.845)\n"
     ]
    },
    {
     "data": {
      "application/vnd.jupyter.widget-view+json": {
       "model_id": "2a92dc10943549eeb56b0fab90941f6c",
       "version_major": 2,
       "version_minor": 0
      },
      "text/plain": [
       "  0%|          | 0/205 [00:00<?, ?it/s]"
      ]
     },
     "metadata": {},
     "output_type": "display_data"
    },
    {
     "data": {
      "application/vnd.jupyter.widget-view+json": {
       "model_id": "06533f9b13e74ce08e4d291ad2a72d45",
       "version_major": 2,
       "version_minor": 0
      },
      "text/plain": [
       "  0%|          | 0/75 [00:00<?, ?it/s]"
      ]
     },
     "metadata": {},
     "output_type": "display_data"
    },
    {
     "name": "stdout",
     "output_type": "stream",
     "text": [
      "=> [epoch 021] best val mae was improved from 4.771 to 4.765\n"
     ]
    },
    {
     "data": {
      "application/vnd.jupyter.widget-view+json": {
       "model_id": "a5e6c682ebf34f738b5f0fc6d5658263",
       "version_major": 2,
       "version_minor": 0
      },
      "text/plain": [
       "  0%|          | 0/205 [00:00<?, ?it/s]"
      ]
     },
     "metadata": {},
     "output_type": "display_data"
    },
    {
     "data": {
      "application/vnd.jupyter.widget-view+json": {
       "model_id": "10e3d7bfa1a34c52a4f2009cedaabb88",
       "version_major": 2,
       "version_minor": 0
      },
      "text/plain": [
       "  0%|          | 0/75 [00:00<?, ?it/s]"
      ]
     },
     "metadata": {},
     "output_type": "display_data"
    },
    {
     "name": "stdout",
     "output_type": "stream",
     "text": [
      "=> [epoch 022] best val mae was not improved from 4.765 (4.784)\n"
     ]
    },
    {
     "data": {
      "application/vnd.jupyter.widget-view+json": {
       "model_id": "1c458cd226674314bdefff3c80255b72",
       "version_major": 2,
       "version_minor": 0
      },
      "text/plain": [
       "  0%|          | 0/205 [00:00<?, ?it/s]"
      ]
     },
     "metadata": {},
     "output_type": "display_data"
    },
    {
     "data": {
      "application/vnd.jupyter.widget-view+json": {
       "model_id": "f76fd26202d04d2eab3de1830289611c",
       "version_major": 2,
       "version_minor": 0
      },
      "text/plain": [
       "  0%|          | 0/75 [00:00<?, ?it/s]"
      ]
     },
     "metadata": {},
     "output_type": "display_data"
    },
    {
     "name": "stdout",
     "output_type": "stream",
     "text": [
      "=> [epoch 023] best val mae was not improved from 4.765 (4.790)\n"
     ]
    },
    {
     "data": {
      "application/vnd.jupyter.widget-view+json": {
       "model_id": "36cdc35432c548d69f20b4af0121b269",
       "version_major": 2,
       "version_minor": 0
      },
      "text/plain": [
       "  0%|          | 0/205 [00:00<?, ?it/s]"
      ]
     },
     "metadata": {},
     "output_type": "display_data"
    },
    {
     "data": {
      "application/vnd.jupyter.widget-view+json": {
       "model_id": "59e94520f2854f0f9694af4bbebfc2ee",
       "version_major": 2,
       "version_minor": 0
      },
      "text/plain": [
       "  0%|          | 0/75 [00:00<?, ?it/s]"
      ]
     },
     "metadata": {},
     "output_type": "display_data"
    },
    {
     "ename": "KeyboardInterrupt",
     "evalue": "",
     "output_type": "error",
     "traceback": [
      "\u001b[0;31m---------------------------------------------------------------------------\u001b[0m",
      "\u001b[0;31mKeyboardInterrupt\u001b[0m                         Traceback (most recent call last)",
      "\u001b[0;32m/tmp/ipykernel_14366/1216216454.py\u001b[0m in \u001b[0;36m<module>\u001b[0;34m\u001b[0m\n\u001b[1;32m      4\u001b[0m \u001b[0;34m\u001b[0m\u001b[0m\n\u001b[1;32m      5\u001b[0m     \u001b[0;31m# validate\u001b[0m\u001b[0;34m\u001b[0m\u001b[0;34m\u001b[0m\u001b[0m\n\u001b[0;32m----> 6\u001b[0;31m     \u001b[0mval_loss\u001b[0m\u001b[0;34m,\u001b[0m \u001b[0mval_acc\u001b[0m\u001b[0;34m,\u001b[0m \u001b[0mval_mae\u001b[0m \u001b[0;34m=\u001b[0m \u001b[0mvalidate\u001b[0m\u001b[0;34m(\u001b[0m\u001b[0mval_loader\u001b[0m\u001b[0;34m,\u001b[0m \u001b[0mmodel\u001b[0m\u001b[0;34m,\u001b[0m \u001b[0mcriterion\u001b[0m\u001b[0;34m,\u001b[0m \u001b[0mepoch\u001b[0m\u001b[0;34m,\u001b[0m \u001b[0mdevice\u001b[0m\u001b[0;34m,\u001b[0m \u001b[0mclasses\u001b[0m\u001b[0;34m)\u001b[0m\u001b[0;34m\u001b[0m\u001b[0;34m\u001b[0m\u001b[0m\n\u001b[0m\u001b[1;32m      7\u001b[0m \u001b[0;34m\u001b[0m\u001b[0m\n\u001b[1;32m      8\u001b[0m     \u001b[0;32mif\u001b[0m \u001b[0mtensorboard_dir\u001b[0m \u001b[0;32mis\u001b[0m \u001b[0;32mnot\u001b[0m \u001b[0;32mNone\u001b[0m\u001b[0;34m:\u001b[0m\u001b[0;34m\u001b[0m\u001b[0;34m\u001b[0m\u001b[0m\n",
      "\u001b[0;32m/Data/jon/Project-age-estimation-pytorch/train.py\u001b[0m in \u001b[0;36mvalidate\u001b[0;34m(validate_loader, model, criterion, epoch, device, classes)\u001b[0m\n\u001b[1;32m    103\u001b[0m     \u001b[0;32mwith\u001b[0m \u001b[0mtorch\u001b[0m\u001b[0;34m.\u001b[0m\u001b[0mno_grad\u001b[0m\u001b[0;34m(\u001b[0m\u001b[0;34m)\u001b[0m\u001b[0;34m:\u001b[0m\u001b[0;34m\u001b[0m\u001b[0;34m\u001b[0m\u001b[0m\n\u001b[1;32m    104\u001b[0m         \u001b[0;32mwith\u001b[0m \u001b[0mtqdm\u001b[0m\u001b[0;34m(\u001b[0m\u001b[0mvalidate_loader\u001b[0m\u001b[0;34m)\u001b[0m \u001b[0;32mas\u001b[0m \u001b[0m_tqdm\u001b[0m\u001b[0;34m:\u001b[0m\u001b[0;34m\u001b[0m\u001b[0;34m\u001b[0m\u001b[0m\n\u001b[0;32m--> 105\u001b[0;31m             \u001b[0;32mfor\u001b[0m \u001b[0mi\u001b[0m\u001b[0;34m,\u001b[0m \u001b[0;34m(\u001b[0m\u001b[0mx\u001b[0m\u001b[0;34m,\u001b[0m \u001b[0my\u001b[0m\u001b[0;34m,\u001b[0m \u001b[0m_\u001b[0m\u001b[0;34m)\u001b[0m \u001b[0;32min\u001b[0m \u001b[0menumerate\u001b[0m\u001b[0;34m(\u001b[0m\u001b[0m_tqdm\u001b[0m\u001b[0;34m)\u001b[0m\u001b[0;34m:\u001b[0m\u001b[0;34m\u001b[0m\u001b[0;34m\u001b[0m\u001b[0m\n\u001b[0m\u001b[1;32m    106\u001b[0m                 \u001b[0mx\u001b[0m \u001b[0;34m=\u001b[0m \u001b[0mx\u001b[0m\u001b[0;34m.\u001b[0m\u001b[0mto\u001b[0m\u001b[0;34m(\u001b[0m\u001b[0mdevice\u001b[0m\u001b[0;34m)\u001b[0m\u001b[0;34m\u001b[0m\u001b[0;34m\u001b[0m\u001b[0m\n\u001b[1;32m    107\u001b[0m                 \u001b[0my\u001b[0m \u001b[0;34m=\u001b[0m \u001b[0my\u001b[0m\u001b[0;34m.\u001b[0m\u001b[0mtype\u001b[0m\u001b[0;34m(\u001b[0m\u001b[0mtorch\u001b[0m\u001b[0;34m.\u001b[0m\u001b[0mLongTensor\u001b[0m\u001b[0;34m)\u001b[0m\u001b[0;34m.\u001b[0m\u001b[0mto\u001b[0m\u001b[0;34m(\u001b[0m\u001b[0mdevice\u001b[0m\u001b[0;34m)\u001b[0m\u001b[0;34m\u001b[0m\u001b[0;34m\u001b[0m\u001b[0m\n",
      "\u001b[0;32m/Data/jon/miniconda3/envs/deepLearning/lib/python3.9/site-packages/tqdm/notebook.py\u001b[0m in \u001b[0;36m__iter__\u001b[0;34m(self)\u001b[0m\n\u001b[1;32m    255\u001b[0m     \u001b[0;32mdef\u001b[0m \u001b[0m__iter__\u001b[0m\u001b[0;34m(\u001b[0m\u001b[0mself\u001b[0m\u001b[0;34m)\u001b[0m\u001b[0;34m:\u001b[0m\u001b[0;34m\u001b[0m\u001b[0;34m\u001b[0m\u001b[0m\n\u001b[1;32m    256\u001b[0m         \u001b[0;32mtry\u001b[0m\u001b[0;34m:\u001b[0m\u001b[0;34m\u001b[0m\u001b[0;34m\u001b[0m\u001b[0m\n\u001b[0;32m--> 257\u001b[0;31m             \u001b[0;32mfor\u001b[0m \u001b[0mobj\u001b[0m \u001b[0;32min\u001b[0m \u001b[0msuper\u001b[0m\u001b[0;34m(\u001b[0m\u001b[0mtqdm_notebook\u001b[0m\u001b[0;34m,\u001b[0m \u001b[0mself\u001b[0m\u001b[0;34m)\u001b[0m\u001b[0;34m.\u001b[0m\u001b[0m__iter__\u001b[0m\u001b[0;34m(\u001b[0m\u001b[0;34m)\u001b[0m\u001b[0;34m:\u001b[0m\u001b[0;34m\u001b[0m\u001b[0;34m\u001b[0m\u001b[0m\n\u001b[0m\u001b[1;32m    258\u001b[0m                 \u001b[0;31m# return super(tqdm...) will not catch exception\u001b[0m\u001b[0;34m\u001b[0m\u001b[0;34m\u001b[0m\u001b[0m\n\u001b[1;32m    259\u001b[0m                 \u001b[0;32myield\u001b[0m \u001b[0mobj\u001b[0m\u001b[0;34m\u001b[0m\u001b[0;34m\u001b[0m\u001b[0m\n",
      "\u001b[0;32m/Data/jon/miniconda3/envs/deepLearning/lib/python3.9/site-packages/tqdm/std.py\u001b[0m in \u001b[0;36m__iter__\u001b[0;34m(self)\u001b[0m\n\u001b[1;32m   1178\u001b[0m \u001b[0;34m\u001b[0m\u001b[0m\n\u001b[1;32m   1179\u001b[0m         \u001b[0;32mtry\u001b[0m\u001b[0;34m:\u001b[0m\u001b[0;34m\u001b[0m\u001b[0;34m\u001b[0m\u001b[0m\n\u001b[0;32m-> 1180\u001b[0;31m             \u001b[0;32mfor\u001b[0m \u001b[0mobj\u001b[0m \u001b[0;32min\u001b[0m \u001b[0miterable\u001b[0m\u001b[0;34m:\u001b[0m\u001b[0;34m\u001b[0m\u001b[0;34m\u001b[0m\u001b[0m\n\u001b[0m\u001b[1;32m   1181\u001b[0m                 \u001b[0;32myield\u001b[0m \u001b[0mobj\u001b[0m\u001b[0;34m\u001b[0m\u001b[0;34m\u001b[0m\u001b[0m\n\u001b[1;32m   1182\u001b[0m                 \u001b[0;31m# Update and possibly print the progressbar.\u001b[0m\u001b[0;34m\u001b[0m\u001b[0;34m\u001b[0m\u001b[0m\n",
      "\u001b[0;32m/Data/jon/miniconda3/envs/deepLearning/lib/python3.9/site-packages/torch/utils/data/dataloader.py\u001b[0m in \u001b[0;36m__next__\u001b[0;34m(self)\u001b[0m\n\u001b[1;32m    519\u001b[0m             \u001b[0;32mif\u001b[0m \u001b[0mself\u001b[0m\u001b[0;34m.\u001b[0m\u001b[0m_sampler_iter\u001b[0m \u001b[0;32mis\u001b[0m \u001b[0;32mNone\u001b[0m\u001b[0;34m:\u001b[0m\u001b[0;34m\u001b[0m\u001b[0;34m\u001b[0m\u001b[0m\n\u001b[1;32m    520\u001b[0m                 \u001b[0mself\u001b[0m\u001b[0;34m.\u001b[0m\u001b[0m_reset\u001b[0m\u001b[0;34m(\u001b[0m\u001b[0;34m)\u001b[0m\u001b[0;34m\u001b[0m\u001b[0;34m\u001b[0m\u001b[0m\n\u001b[0;32m--> 521\u001b[0;31m             \u001b[0mdata\u001b[0m \u001b[0;34m=\u001b[0m \u001b[0mself\u001b[0m\u001b[0;34m.\u001b[0m\u001b[0m_next_data\u001b[0m\u001b[0;34m(\u001b[0m\u001b[0;34m)\u001b[0m\u001b[0;34m\u001b[0m\u001b[0;34m\u001b[0m\u001b[0m\n\u001b[0m\u001b[1;32m    522\u001b[0m             \u001b[0mself\u001b[0m\u001b[0;34m.\u001b[0m\u001b[0m_num_yielded\u001b[0m \u001b[0;34m+=\u001b[0m \u001b[0;36m1\u001b[0m\u001b[0;34m\u001b[0m\u001b[0;34m\u001b[0m\u001b[0m\n\u001b[1;32m    523\u001b[0m             \u001b[0;32mif\u001b[0m \u001b[0mself\u001b[0m\u001b[0;34m.\u001b[0m\u001b[0m_dataset_kind\u001b[0m \u001b[0;34m==\u001b[0m \u001b[0m_DatasetKind\u001b[0m\u001b[0;34m.\u001b[0m\u001b[0mIterable\u001b[0m \u001b[0;32mand\u001b[0m\u001b[0;31m \u001b[0m\u001b[0;31m\\\u001b[0m\u001b[0;34m\u001b[0m\u001b[0;34m\u001b[0m\u001b[0m\n",
      "\u001b[0;32m/Data/jon/miniconda3/envs/deepLearning/lib/python3.9/site-packages/torch/utils/data/dataloader.py\u001b[0m in \u001b[0;36m_next_data\u001b[0;34m(self)\u001b[0m\n\u001b[1;32m    559\u001b[0m     \u001b[0;32mdef\u001b[0m \u001b[0m_next_data\u001b[0m\u001b[0;34m(\u001b[0m\u001b[0mself\u001b[0m\u001b[0;34m)\u001b[0m\u001b[0;34m:\u001b[0m\u001b[0;34m\u001b[0m\u001b[0;34m\u001b[0m\u001b[0m\n\u001b[1;32m    560\u001b[0m         \u001b[0mindex\u001b[0m \u001b[0;34m=\u001b[0m \u001b[0mself\u001b[0m\u001b[0;34m.\u001b[0m\u001b[0m_next_index\u001b[0m\u001b[0;34m(\u001b[0m\u001b[0;34m)\u001b[0m  \u001b[0;31m# may raise StopIteration\u001b[0m\u001b[0;34m\u001b[0m\u001b[0;34m\u001b[0m\u001b[0m\n\u001b[0;32m--> 561\u001b[0;31m         \u001b[0mdata\u001b[0m \u001b[0;34m=\u001b[0m \u001b[0mself\u001b[0m\u001b[0;34m.\u001b[0m\u001b[0m_dataset_fetcher\u001b[0m\u001b[0;34m.\u001b[0m\u001b[0mfetch\u001b[0m\u001b[0;34m(\u001b[0m\u001b[0mindex\u001b[0m\u001b[0;34m)\u001b[0m  \u001b[0;31m# may raise StopIteration\u001b[0m\u001b[0;34m\u001b[0m\u001b[0;34m\u001b[0m\u001b[0m\n\u001b[0m\u001b[1;32m    562\u001b[0m         \u001b[0;32mif\u001b[0m \u001b[0mself\u001b[0m\u001b[0;34m.\u001b[0m\u001b[0m_pin_memory\u001b[0m\u001b[0;34m:\u001b[0m\u001b[0;34m\u001b[0m\u001b[0;34m\u001b[0m\u001b[0m\n\u001b[1;32m    563\u001b[0m             \u001b[0mdata\u001b[0m \u001b[0;34m=\u001b[0m \u001b[0m_utils\u001b[0m\u001b[0;34m.\u001b[0m\u001b[0mpin_memory\u001b[0m\u001b[0;34m.\u001b[0m\u001b[0mpin_memory\u001b[0m\u001b[0;34m(\u001b[0m\u001b[0mdata\u001b[0m\u001b[0;34m)\u001b[0m\u001b[0;34m\u001b[0m\u001b[0;34m\u001b[0m\u001b[0m\n",
      "\u001b[0;32m/Data/jon/miniconda3/envs/deepLearning/lib/python3.9/site-packages/torch/utils/data/_utils/fetch.py\u001b[0m in \u001b[0;36mfetch\u001b[0;34m(self, possibly_batched_index)\u001b[0m\n\u001b[1;32m     42\u001b[0m     \u001b[0;32mdef\u001b[0m \u001b[0mfetch\u001b[0m\u001b[0;34m(\u001b[0m\u001b[0mself\u001b[0m\u001b[0;34m,\u001b[0m \u001b[0mpossibly_batched_index\u001b[0m\u001b[0;34m)\u001b[0m\u001b[0;34m:\u001b[0m\u001b[0;34m\u001b[0m\u001b[0;34m\u001b[0m\u001b[0m\n\u001b[1;32m     43\u001b[0m         \u001b[0;32mif\u001b[0m \u001b[0mself\u001b[0m\u001b[0;34m.\u001b[0m\u001b[0mauto_collation\u001b[0m\u001b[0;34m:\u001b[0m\u001b[0;34m\u001b[0m\u001b[0;34m\u001b[0m\u001b[0m\n\u001b[0;32m---> 44\u001b[0;31m             \u001b[0mdata\u001b[0m \u001b[0;34m=\u001b[0m \u001b[0;34m[\u001b[0m\u001b[0mself\u001b[0m\u001b[0;34m.\u001b[0m\u001b[0mdataset\u001b[0m\u001b[0;34m[\u001b[0m\u001b[0midx\u001b[0m\u001b[0;34m]\u001b[0m \u001b[0;32mfor\u001b[0m \u001b[0midx\u001b[0m \u001b[0;32min\u001b[0m \u001b[0mpossibly_batched_index\u001b[0m\u001b[0;34m]\u001b[0m\u001b[0;34m\u001b[0m\u001b[0;34m\u001b[0m\u001b[0m\n\u001b[0m\u001b[1;32m     45\u001b[0m         \u001b[0;32melse\u001b[0m\u001b[0;34m:\u001b[0m\u001b[0;34m\u001b[0m\u001b[0;34m\u001b[0m\u001b[0m\n\u001b[1;32m     46\u001b[0m             \u001b[0mdata\u001b[0m \u001b[0;34m=\u001b[0m \u001b[0mself\u001b[0m\u001b[0;34m.\u001b[0m\u001b[0mdataset\u001b[0m\u001b[0;34m[\u001b[0m\u001b[0mpossibly_batched_index\u001b[0m\u001b[0;34m]\u001b[0m\u001b[0;34m\u001b[0m\u001b[0;34m\u001b[0m\u001b[0m\n",
      "\u001b[0;32m/Data/jon/miniconda3/envs/deepLearning/lib/python3.9/site-packages/torch/utils/data/_utils/fetch.py\u001b[0m in \u001b[0;36m<listcomp>\u001b[0;34m(.0)\u001b[0m\n\u001b[1;32m     42\u001b[0m     \u001b[0;32mdef\u001b[0m \u001b[0mfetch\u001b[0m\u001b[0;34m(\u001b[0m\u001b[0mself\u001b[0m\u001b[0;34m,\u001b[0m \u001b[0mpossibly_batched_index\u001b[0m\u001b[0;34m)\u001b[0m\u001b[0;34m:\u001b[0m\u001b[0;34m\u001b[0m\u001b[0;34m\u001b[0m\u001b[0m\n\u001b[1;32m     43\u001b[0m         \u001b[0;32mif\u001b[0m \u001b[0mself\u001b[0m\u001b[0;34m.\u001b[0m\u001b[0mauto_collation\u001b[0m\u001b[0;34m:\u001b[0m\u001b[0;34m\u001b[0m\u001b[0;34m\u001b[0m\u001b[0m\n\u001b[0;32m---> 44\u001b[0;31m             \u001b[0mdata\u001b[0m \u001b[0;34m=\u001b[0m \u001b[0;34m[\u001b[0m\u001b[0mself\u001b[0m\u001b[0;34m.\u001b[0m\u001b[0mdataset\u001b[0m\u001b[0;34m[\u001b[0m\u001b[0midx\u001b[0m\u001b[0;34m]\u001b[0m \u001b[0;32mfor\u001b[0m \u001b[0midx\u001b[0m \u001b[0;32min\u001b[0m \u001b[0mpossibly_batched_index\u001b[0m\u001b[0;34m]\u001b[0m\u001b[0;34m\u001b[0m\u001b[0;34m\u001b[0m\u001b[0m\n\u001b[0m\u001b[1;32m     45\u001b[0m         \u001b[0;32melse\u001b[0m\u001b[0;34m:\u001b[0m\u001b[0;34m\u001b[0m\u001b[0;34m\u001b[0m\u001b[0m\n\u001b[1;32m     46\u001b[0m             \u001b[0mdata\u001b[0m \u001b[0;34m=\u001b[0m \u001b[0mself\u001b[0m\u001b[0;34m.\u001b[0m\u001b[0mdataset\u001b[0m\u001b[0;34m[\u001b[0m\u001b[0mpossibly_batched_index\u001b[0m\u001b[0;34m]\u001b[0m\u001b[0;34m\u001b[0m\u001b[0;34m\u001b[0m\u001b[0m\n",
      "\u001b[0;32m/Data/jon/Project-age-estimation-pytorch/dataset.py\u001b[0m in \u001b[0;36m__getitem__\u001b[0;34m(self, idx)\u001b[0m\n\u001b[1;32m     94\u001b[0m             \u001b[0mage\u001b[0m \u001b[0;34m+=\u001b[0m \u001b[0mnp\u001b[0m\u001b[0;34m.\u001b[0m\u001b[0mrandom\u001b[0m\u001b[0;34m.\u001b[0m\u001b[0mrandn\u001b[0m\u001b[0;34m(\u001b[0m\u001b[0;34m)\u001b[0m \u001b[0;34m*\u001b[0m \u001b[0mself\u001b[0m\u001b[0;34m.\u001b[0m\u001b[0mstd\u001b[0m\u001b[0;34m[\u001b[0m\u001b[0midx\u001b[0m\u001b[0;34m]\u001b[0m \u001b[0;34m*\u001b[0m \u001b[0mself\u001b[0m\u001b[0;34m.\u001b[0m\u001b[0mage_stddev\u001b[0m\u001b[0;34m\u001b[0m\u001b[0;34m\u001b[0m\u001b[0m\n\u001b[1;32m     95\u001b[0m \u001b[0;34m\u001b[0m\u001b[0m\n\u001b[0;32m---> 96\u001b[0;31m         \u001b[0mimg\u001b[0m \u001b[0;34m=\u001b[0m \u001b[0mcv2\u001b[0m\u001b[0;34m.\u001b[0m\u001b[0mimread\u001b[0m\u001b[0;34m(\u001b[0m\u001b[0mstr\u001b[0m\u001b[0;34m(\u001b[0m\u001b[0mimg_path\u001b[0m\u001b[0;34m)\u001b[0m\u001b[0;34m,\u001b[0m \u001b[0;36m1\u001b[0m\u001b[0;34m)\u001b[0m\u001b[0;34m\u001b[0m\u001b[0;34m\u001b[0m\u001b[0m\n\u001b[0m\u001b[1;32m     97\u001b[0m         \u001b[0mimg\u001b[0m \u001b[0;34m=\u001b[0m \u001b[0mcv2\u001b[0m\u001b[0;34m.\u001b[0m\u001b[0mresize\u001b[0m\u001b[0;34m(\u001b[0m\u001b[0mimg\u001b[0m\u001b[0;34m,\u001b[0m \u001b[0;34m(\u001b[0m\u001b[0mself\u001b[0m\u001b[0;34m.\u001b[0m\u001b[0mimg_size\u001b[0m\u001b[0;34m,\u001b[0m \u001b[0mself\u001b[0m\u001b[0;34m.\u001b[0m\u001b[0mimg_size\u001b[0m\u001b[0;34m)\u001b[0m\u001b[0;34m)\u001b[0m\u001b[0;34m\u001b[0m\u001b[0;34m\u001b[0m\u001b[0m\n\u001b[1;32m     98\u001b[0m         \u001b[0mimg\u001b[0m \u001b[0;34m=\u001b[0m \u001b[0mself\u001b[0m\u001b[0;34m.\u001b[0m\u001b[0mtransform\u001b[0m\u001b[0;34m(\u001b[0m\u001b[0mimg\u001b[0m\u001b[0;34m)\u001b[0m\u001b[0;34m.\u001b[0m\u001b[0mastype\u001b[0m\u001b[0;34m(\u001b[0m\u001b[0mnp\u001b[0m\u001b[0;34m.\u001b[0m\u001b[0mfloat32\u001b[0m\u001b[0;34m)\u001b[0m\u001b[0;34m\u001b[0m\u001b[0;34m\u001b[0m\u001b[0m\n",
      "\u001b[0;31mKeyboardInterrupt\u001b[0m: "
     ]
    }
   ],
   "source": [
    "for epoch in range(start_epoch, num_epochs):\n",
    "    # train\n",
    "    train_loss, train_acc = train(train_loader, model, criterion, optimizer, epoch, device, classes)\n",
    "\n",
    "    # validate\n",
    "    val_loss, val_acc, val_mae = validate(val_loader, model, criterion, epoch, device, classes)\n",
    "\n",
    "    if tensorboard_dir is not None:\n",
    "        train_writer.add_scalar(\"loss\", train_loss, epoch)\n",
    "        train_writer.add_scalar(\"acc\", train_acc, epoch)\n",
    "        val_writer.add_scalar(\"loss\", val_loss, epoch)\n",
    "        val_writer.add_scalar(\"acc\", val_acc, epoch)\n",
    "        val_writer.add_scalar(\"mae\", val_mae, epoch)\n",
    "\n",
    "    # checkpoint\n",
    "    if val_mae < best_val_mae:\n",
    "        print(f\"=> [epoch {epoch:03d}] best val mae was improved from {best_val_mae:.3f} to {val_mae:.3f}\")\n",
    "        model_state_dict = model.module.state_dict() if multi_gpu else model.state_dict()\n",
    "        torch.save(\n",
    "            {\n",
    "                'epoch': epoch + 1,\n",
    "                'arch': \"resnet\",\n",
    "                'state_dict': model_state_dict,\n",
    "                'optimizer_state_dict': optimizer.state_dict()\n",
    "            },\n",
    "            str(checkpoint_dir.joinpath(\"epoch{:03d}_{:.5f}_{:.4f}.pth\".format(epoch, val_loss, val_mae)))\n",
    "        )\n",
    "        best_val_mae = val_mae\n",
    "    else:\n",
    "        print(f\"=> [epoch {epoch:03d}] best val mae was not improved from {best_val_mae:.3f} ({val_mae:.3f})\")\n",
    "\n",
    "    # adjust learning rate\n",
    "    scheduler.step()\n",
    "\n",
    "print(\"=> training finished\")\n",
    "print(f\"additional opts: {opts}\")\n",
    "print(f\"best val mae: {best_val_mae:.3f}\")"
   ]
  },
  {
   "cell_type": "code",
   "execution_count": null,
   "id": "2d222caf",
   "metadata": {},
   "outputs": [],
   "source": []
  },
  {
   "cell_type": "markdown",
   "id": "7bf22199",
   "metadata": {},
   "source": [
    "### Test Residual DEX"
   ]
  },
  {
   "cell_type": "code",
   "execution_count": null,
   "id": "affcd74b",
   "metadata": {},
   "outputs": [],
   "source": [
    "test_dataset = FaceDataset(data_dir, \"test\", img_size=img_size, augment=False)\n",
    "test_loader = DataLoader(test_dataset, batch_size=batch_size, shuffle=False, drop_last=False)"
   ]
  },
  {
   "cell_type": "code",
   "execution_count": null,
   "id": "b354cf32",
   "metadata": {},
   "outputs": [],
   "source": [
    "data_dir = 'appa-real-release'\n",
    "resume_path = \"checkpoint/epoch024_0.23000_4.5999.pth\" \n",
    "resume_path_2 = \"checkpoint/epoch021_0.22150_4.4299.pth\" \n",
    "classes = torch.arange(0, 101).type(torch.FloatTensor).to(device)"
   ]
  },
  {
   "cell_type": "code",
   "execution_count": null,
   "id": "d8d7394d",
   "metadata": {},
   "outputs": [],
   "source": [
    "if resume_path:\n",
    "    if Path(resume_path).is_file():\n",
    "        print(\"=> loading checkpoint '{}'\".format(resume_path))\n",
    "        checkpoint = torch.load(resume_path, map_location=\"cpu\")\n",
    "        start_epoch = checkpoint['epoch']\n",
    "        model.load_state_dict(checkpoint['state_dict'])\n",
    "        print(\"=> loaded checkpoint '{}' (epoch {})\"\n",
    "              .format(resume_path, checkpoint['epoch']))\n",
    "        #optimizer.load_state_dict(checkpoint['optimizer_state_dict'])\n",
    "    else:\n",
    "        print(\"=> no checkpoint found at '{}'\".format(resume_path))\n",
    "\n",
    "\n",
    "if resume_path_2:\n",
    "    if Path(resume_path_2).is_file():\n",
    "        print(\"=> loading checkpoint '{}'\".format(resume_path_2))\n",
    "        checkpoint_2 = torch.load(resume_path_2, map_location=\"cpu\")\n",
    "        start_epoch = checkpoint_2['epoch']\n",
    "        model_2.load_state_dict(checkpoint_2['state_dict'])\n",
    "        print(\"=> loaded checkpoint '{}' (epoch {})\"\n",
    "              .format(resume_path_2, checkpoint_2['epoch']))\n",
    "        #optimizer.load_state_dict(checkpoint['optimizer_state_dict'])\n",
    "    else:\n",
    "        print(\"=> no checkpoint found at '{}'\".format(resume_path_2))"
   ]
  },
  {
   "cell_type": "code",
   "execution_count": null,
   "id": "39347116",
   "metadata": {},
   "outputs": [],
   "source": [
    "_,_,mae = validate(test_loader, model, model_2, None, 0, device,  torch.arange(0, 101).type(torch.FloatTensor).to(device))\n",
    "mae"
   ]
  }
 ],
 "metadata": {
  "interpreter": {
   "hash": "df5f7db2eb774c9a955ca718bbb931dbb7c24ff8ec3882208b724b027430d827"
  },
  "kernelspec": {
   "display_name": "Python 3",
   "language": "python",
   "name": "python3"
  },
  "language_info": {
   "codemirror_mode": {
    "name": "ipython",
    "version": 3
   },
   "file_extension": ".py",
   "mimetype": "text/x-python",
   "name": "python",
   "nbconvert_exporter": "python",
   "pygments_lexer": "ipython3",
   "version": "3.9.7"
  }
 },
 "nbformat": 4,
 "nbformat_minor": 5
}
